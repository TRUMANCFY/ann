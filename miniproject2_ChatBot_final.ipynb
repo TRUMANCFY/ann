{
 "cells": [
  {
   "cell_type": "markdown",
   "metadata": {},
   "source": [
    "# Miniproject 2: Chatbot\n",
    "\n",
    "## Introduction\n",
    "\n",
    "### Description\n",
    "\n",
    "Developing a model employing ANN on real-world data requires going through several major steps, each of which with \n",
    "important design choices that directly impact the final results. \n",
    "In this project, we guide you through these choices starting from a large database of \n",
    "[conversations](http://parl.ai/downloads/personachat/personachat.tgz) to a functional chatbot. \n",
    "\n",
    "### Prerequisites\n",
    "\n",
    "- You should have a running installation of [tensorflow](https://www.tensorflow.org/install/) and [keras](https://keras.io/).\n",
    "- You should know the concepts \"recurrent neural networks\", \"LSTM\", \"training and validation data\", \"overfitting\" and \"early stopping\".\n",
    "\n",
    "### What you will learn\n",
    "\n",
    "- You will be guided through a data processing procedure and understand the importance of design choices in ANN modeling\n",
    "- You will learn how to define recurrent neural networks in keras and fit them to data.\n",
    "- You will be guided through a prototyping procedure for the application of deep learning to a specific domain.\n",
    "- You will get in contact with concepts discussed in the lecture, like \"overfitting\", \"LSTM network\", and \"Generative model\".\n",
    "- You will learn to be more patient :) Some fits may take your computer quite a bit of time; run them over night and make sure you save (and load) your data and models.\n",
    "\n",
    "### Evaluation criteria\n",
    "\n",
    "The evaluation is (mostly) based on the figures you submit and your answer sentences. \n",
    "We will only do random tests of your code and not re-run the full notebook. \n",
    "Please ensure that your notebook is fully executed before handing it in. \n",
    "\n",
    "### Submission \n",
    "\n",
    "You should submit your notebook through the Moodle page submission tool. You should work in teams of two people and each member should submit the same notebook to Moodle.\n",
    "\n"
   ]
  },
  {
   "cell_type": "markdown",
   "metadata": {},
   "source": [
    "# Tasks\n",
    "The prepared data is after the first part\n",
    "<input type=\"checkbox\" checked=True> Data Preparation: Data Cleaning and Filter (the final size of sentence is around 67k)\n",
    "<input type=\"checkbox\" checked=True> RNN-LSTM-GRU three networks: approximate transition probabilities/dataset overfitting\n",
    "<input type=\"checkbox\"> Optimize the GRU network\n",
    "<input type=\"checkbox\"> Generated Sentences\n",
    "<input type=\"checkbox\"> Visualization of word embedding\n",
    "<input type=\"checkbox\"> Chatbot"
   ]
  },
  {
   "cell_type": "markdown",
   "metadata": {},
   "source": [
    "## Functions and imports\n",
    "\n",
    "For your convenience we import some libraries and provide some functions below. Fill in your names, sciper numbers and run the following cell."
   ]
  },
  {
   "cell_type": "code",
   "execution_count": 1,
   "metadata": {},
   "outputs": [
    {
     "name": "stderr",
     "output_type": "stream",
     "text": [
      "/anaconda3/lib/python3.6/site-packages/h5py/__init__.py:36: FutureWarning: Conversion of the second argument of issubdtype from `float` to `np.floating` is deprecated. In future, it will be treated as `np.float64 == np.dtype(float).type`.\n",
      "  from ._conv import register_converters as _register_converters\n",
      "Using TensorFlow backend.\n"
     ]
    }
   ],
   "source": [
    "names = {'student_1': \"Fengyu Cai\",\n",
    "        'student_2': \"Junze Li\"}\n",
    "\n",
    "sciper = {'student_1': 293324, \n",
    "          'student_2': 293498}\n",
    "\n",
    "seed = sciper['student_1']+sciper['student_2']\n",
    "\n",
    "%matplotlib inline\n",
    "\n",
    "import numpy as np\n",
    "import matplotlib.pyplot as plt\n",
    "import os, sys\n",
    "import copy\n",
    "\n",
    "plt.rcParams['font.size'] = 28\n",
    "plt.style.use('ggplot')\n",
    "plt.rcParams[\"axes.grid\"] = False\n",
    "c = plt.rcParams['axes.prop_cycle'].by_key()['color']\n",
    "\n",
    "import keras\n",
    "from keras.models import Model, load_model\n",
    "from keras.layers import Input, Masking, TimeDistributed, Dense, Concatenate, Dropout, LSTM, GRU, SimpleRNN, Bidirectional, Embedding, BatchNormalization\n",
    "from keras.optimizers import Adam\n",
    "from keras.utils import np_utils\n",
    "from keras.preprocessing.sequence import pad_sequences\n",
    "from keras.callbacks import ModelCheckpoint, EarlyStopping\n",
    "\n",
    "\n",
    "def getRawDataFromFile(datapath=\"data/personachat/\", file=\"train_both_revised.txt\"):\n",
    "    \n",
    "    f = open(datapath+file)\n",
    "\n",
    "    conversations = []\n",
    "    current_conversation = []\n",
    "    \n",
    "    for l, line in enumerate(f):\n",
    "        #print(l, line)\n",
    "        if \"persona:\" in line:\n",
    "            if len(current_conversation) > 1:\n",
    "                conversations.append(current_conversation)\n",
    "            current_conversation = [] \n",
    "            continue\n",
    "\n",
    "        #remove numberings\n",
    "        processed_line = line.split(' ')\n",
    "        processed_line = \" \".join(processed_line[1:])\n",
    "        line = processed_line\n",
    "        #print(line)\n",
    "\n",
    "        conv = line.split('\\t')    \n",
    "        q = conv[0]\n",
    "        a = conv[1]\n",
    "        current_conversation.append(q)\n",
    "        current_conversation.append(a)\n",
    "    \n",
    "    return conversations "
   ]
  },
  {
   "cell_type": "markdown",
   "metadata": {
    "collapsed": true
   },
   "source": [
    "## Data visualization and preprocessing\n",
    "\n",
    "Here we will process and visualize the data.\n"
   ]
  },
  {
   "cell_type": "markdown",
   "metadata": {},
   "source": [
    "### Parse raw data \n",
    "\n",
    "Download the dataset on http://parl.ai/downloads/personachat/personachat.tgz. Unpack it and add it to your project folder. Read and run the getRawDataFromFile function (if needed, modify the default path). It extracts the conversations.\n",
    "\n",
    "**Output** Display two randomly selected conversations. [1 pt]"
   ]
  },
  {
   "cell_type": "code",
   "execution_count": 2,
   "metadata": {
    "collapsed": true
   },
   "outputs": [],
   "source": [
    "raw_conversation_train_bothrevised = getRawDataFromFile(datapath=\"./personachat/\", file=\"train_both_revised.txt\")"
   ]
  },
  {
   "cell_type": "code",
   "execution_count": 3,
   "metadata": {},
   "outputs": [
    {
     "name": "stdout",
     "output_type": "stream",
     "text": [
      "['hi , how are you doing ? i am getting ready to do some cheetah chasing to stay in shape .', 'you must be very fast . hunting is one of my favorite hobbies .', 'i am ! for my hobby i like to do canning or some whittling .', 'i also remodel homes when i am not out bow hunting .', 'that is neat . when i was in high school i placed 6th in 100m dash !', 'that is awesome . do you have a favorite season or time of year ?', 'i do not . but i do have a favorite meat since that is all i eat exclusively .', 'what is your favorite meat to eat ?', 'i would have to say its prime rib . do you have any favorite foods ?', 'i like chicken or macaroni and cheese .', 'do you have anything planned for today ? i think i am going to do some canning .', 'i am going to watch football . what are you canning ?', 'i think i will can some jam . do you also play footfall for fun ?', 'if i have time outside of hunting and remodeling homes . which is not much !']\n",
      "The length of the raw training conversation is 8938\n"
     ]
    }
   ],
   "source": [
    "# training set\n",
    "print(raw_conversation_train_bothrevised[0])\n",
    "print('The length of the raw training conversation is %d' % len(raw_conversation_train_bothrevised))"
   ]
  },
  {
   "cell_type": "code",
   "execution_count": 4,
   "metadata": {
    "collapsed": true
   },
   "outputs": [],
   "source": [
    "raw_conversation_test_bothrevised = getRawDataFromFile(datapath=\"./personachat/\", file=\"test_both_revised.txt\")"
   ]
  },
  {
   "cell_type": "code",
   "execution_count": 5,
   "metadata": {},
   "outputs": [
    {
     "name": "stdout",
     "output_type": "stream",
     "text": [
      "['hello , how are you doing tonight ?', 'i am well an loving this interaction how are you ?', 'i am great . i just got back from the club .', 'this is my favorite time of the year season wise', 'i would rather eat chocolate cake during this season .', 'what club did you go to ? me an timothy watched tv', 'i went to club chino . what show are you watching ?', 'lol oh okay kind of random', 'do you live in a house or apartment ?', 'we watched a show about animals like him', 'i love those shows . i am really craving cake .', 'why does that matter any ? i went outdoors to play frisbee', 'it matters because i have a sweet tooth .', 'so ? lol i want to meet my family at home in bora', 'my family lives in alaska . it is freezing down there .', 'i bet it is oh i could not']\n",
      "The length of the raw test conversation is 967\n"
     ]
    }
   ],
   "source": [
    "# test set\n",
    "print(raw_conversation_test_bothrevised[0])\n",
    "print('The length of the raw test conversation is %d' % len(raw_conversation_test_bothrevised))"
   ]
  },
  {
   "cell_type": "markdown",
   "metadata": {},
   "source": [
    "We would like to figure out the difference between original and revised dataset. And based on our observation, we find that the original and revised dialogue are actually the same."
   ]
  },
  {
   "cell_type": "code",
   "execution_count": 6,
   "metadata": {},
   "outputs": [
    {
     "name": "stdout",
     "output_type": "stream",
     "text": [
      "The length of raw training original conversation is 8938\n",
      "Are the conversations from original and revised the same? True\n"
     ]
    }
   ],
   "source": [
    "raw_conversation_train_bothoriginal = getRawDataFromFile(datapath='./personachat/', file='train_both_original.txt')\n",
    "print('The length of raw training original conversation is %d' % len(raw_conversation_train_bothoriginal))\n",
    "print('Are the conversations from original and revised the same? {}'\n",
    "      .format(raw_conversation_train_bothoriginal == raw_conversation_train_bothrevised))"
   ]
  },
  {
   "cell_type": "markdown",
   "metadata": {},
   "source": [
    "### Extract word tokens\n",
    "\n",
    "Let's start looking at our data. \n",
    "\n",
    "**Code** Compute the set of unique words (dictionary) in all sentences along with the number of occurences of each of these words. HINT: each word is separated by a space character, use the python string.split(' ') function to separate words. Consider punctuations as 'words'. [1 pt]\n",
    "\n",
    "**Figure** In a bar plot, show the first 75 most frequent words (x-axis) and their number of occurences (y-axis). [1 pt]\n",
    "\n",
    "**Figure** In another bar plot, show the 75 least frequent words (x-axis) and their number of occurences (y-axis). [1 pt] \n",
    "\n",
    "**Figure** In a log-log scale, plot the sorted word index (x-axis) vs their respective count (y-axis). [1 pt]\n",
    "\n",
    "**Question** Relate the sorted word count distribution with Zipf's law.\n",
    "Argue using the log-log plot. [1 pt]\n",
    "\n",
    "**Answer**\n",
    "\n",
    "**Question** How many words appear only once in the entire dataset? [1 pt]\n",
    "\n",
    "**Answer**\n",
    "\n"
   ]
  },
  {
   "cell_type": "markdown",
   "metadata": {},
   "source": [
    "**Code** Compute the set of unique words (dictionary) in all sentences along with the number of occurences of each of these words. HINT: each word is separated by a space character, use the python string.split(' ') function to separate words. Consider punctuations as 'words'. [1 pt]"
   ]
  },
  {
   "cell_type": "code",
   "execution_count": 7,
   "metadata": {
    "collapsed": true
   },
   "outputs": [],
   "source": [
    "def getMergedData(datapath=\"./personachat/\", prefix=\"train\", mode='revised'):\n",
    "    \"\"\"\n",
    "        return the combine data\n",
    "    \"\"\"\n",
    "    listdp= os.listdir(datapath)\n",
    "    ret_conv = []\n",
    "    for fn in listdp:\n",
    "        if fn.startswith(prefix) and fn.endswith(mode + '.txt'):\n",
    "            ret_conv.extend(getRawDataFromFile(datapath=datapath, file=fn))\n",
    "    return ret_conv"
   ]
  },
  {
   "cell_type": "code",
   "execution_count": 8,
   "metadata": {
    "collapsed": true
   },
   "outputs": [],
   "source": [
    "training_conv = getRawDataFromFile(datapath='personachat/', file='train_both_revised.txt')\n",
    "test_conv = getRawDataFromFile(datapath='personachat/', file='test_both_revised.txt')\n",
    "valid_conv = getRawDataFromFile(datapath='personachat/', file='valid_both_revised.txt')"
   ]
  },
  {
   "cell_type": "code",
   "execution_count": 9,
   "metadata": {
    "collapsed": true,
    "scrolled": false
   },
   "outputs": [],
   "source": [
    "from collections import Counter\n",
    "def word_occurence(conversations):\n",
    "    words = []\n",
    "    for sublist in conversations:\n",
    "        for sentence in sublist:\n",
    "            words.extend(sentence.split(' '))\n",
    "    \n",
    "    counts = Counter(words)        \n",
    "    tokens = set(words)\n",
    "    \n",
    "    token_occurence = {}\n",
    "    for i, token in enumerate(tokens):\n",
    "        token_occurence[token] = counts[token]\n",
    "    \n",
    "    return token_occurence    "
   ]
  },
  {
   "cell_type": "code",
   "execution_count": 10,
   "metadata": {
    "collapsed": true
   },
   "outputs": [],
   "source": [
    "occ_training_conv = word_occurence(training_conv)\n",
    "occ_training_conv_sorted = sorted(occ_training_conv.items(), key=lambda item:item[1],reverse = True)\n",
    "occ_training_conv_top75 = sorted(occ_training_conv.items(), key=lambda item:item[1],reverse = True)[:75]\n",
    "occ_training_conv_bottom75 = sorted(occ_training_conv.items(), key=lambda item:item[1],reverse = False)[:75]"
   ]
  },
  {
   "cell_type": "code",
   "execution_count": 20,
   "metadata": {},
   "outputs": [
    {
     "data": {
      "text/plain": [
       "1644"
      ]
     },
     "execution_count": 20,
     "metadata": {},
     "output_type": "execute_result"
    }
   ],
   "source": [
    "sum([1 for k,v in occ_training_conv.items() if v >= 50])"
   ]
  },
  {
   "cell_type": "markdown",
   "metadata": {},
   "source": [
    "**Figure** In a bar plot, show the first 75 most frequent words (x-axis) and their number of occurences (y-axis). [1 pt]"
   ]
  },
  {
   "cell_type": "code",
   "execution_count": 11,
   "metadata": {},
   "outputs": [
    {
     "data": {
      "image/png": "[encoded data removed]",
      "text/plain": [
       "<Figure size 1080x576 with 1 Axes>"
      ]
     },
     "metadata": {},
     "output_type": "display_data"
    }
   ],
   "source": [
    "plt.figure(figsize = (15,8))\n",
    "plt.bar(*zip(*occ_training_conv_top75))\n",
    "plt.xticks(rotation=90)\n",
    "plt.title('The bar plot of the 75 most frequent words')\n",
    "plt.show()"
   ]
  },
  {
   "cell_type": "markdown",
   "metadata": {},
   "source": [
    "**Figure** In another bar plot, show the 75 least frequent words (x-axis) and their number of occurences (y-axis). [1 pt] "
   ]
  },
  {
   "cell_type": "code",
   "execution_count": 12,
   "metadata": {},
   "outputs": [
    {
     "data": {
      "image/png": "[encoded data removed]",
      "text/plain": [
       "<Figure size 1080x576 with 1 Axes>"
      ]
     },
     "metadata": {},
     "output_type": "display_data"
    }
   ],
   "source": [
    "plt.figure(figsize = (15,8))\n",
    "plt.bar(*zip(*occ_training_conv_bottom75))\n",
    "plt.xticks(rotation=90)\n",
    "plt.title('The bar plot of the 75 least frequent words')\n",
    "plt.show()"
   ]
  },
  {
   "cell_type": "markdown",
   "metadata": {},
   "source": [
    "**Figure** In a log-log scale, plot the sorted word index (x-axis) vs their respective count (y-axis). [1 pt]"
   ]
  },
  {
   "cell_type": "code",
   "execution_count": 13,
   "metadata": {
    "collapsed": true
   },
   "outputs": [],
   "source": [
    "occ_list = [i[1] for i in occ_training_conv_sorted]"
   ]
  },
  {
   "cell_type": "code",
   "execution_count": 14,
   "metadata": {},
   "outputs": [
    {
     "data": {
      "image/png": "[encoded data removed]",
      "text/plain": [
       "<Figure size 576x432 with 1 Axes>"
      ]
     },
     "metadata": {},
     "output_type": "display_data"
    }
   ],
   "source": [
    "plt.figure(figsize = (8,6))\n",
    "plt.loglog(occ_list)\n",
    "plt.title('The log-log plot of occurences of all the words')\n",
    "plt.show()"
   ]
  },
  {
   "cell_type": "code",
   "execution_count": 15,
   "metadata": {},
   "outputs": [
    {
     "name": "stdout",
     "output_type": "stream",
     "text": [
      "The number of words appear only once is 7080.\n"
     ]
    }
   ],
   "source": [
    "once_num = occ_list.count(1)\n",
    "print('The number of words appear only once is {}.'.format(once_num))"
   ]
  },
  {
   "cell_type": "markdown",
   "metadata": {},
   "source": [
    "**Question** Relate the sorted word count distribution with Zipf's law.\n",
    "Argue using the log-log plot. [1 pt]\n",
    "\n",
    "**Answer** The sorted word count can be approximated with a Zipfian distribution (one of a family of discrete power law probability distributions), which is conform to the Zipf's law. \n",
    "\n",
    "**Question** How many words appear only once in the entire dataset? [1 pt]\n",
    "\n",
    "**Answer** There are 7080 words appearing only once in the entire dataset."
   ]
  },
  {
   "cell_type": "markdown",
   "metadata": {},
   "source": [
    "### Filtering\n",
    "\n",
    "We suggest to filter your data by removing sentences containing rare words. \n",
    "\n",
    "\n",
    "**Code** To achieve that, you should create a new dataset where sentences containing rare words (words that occur less than N times in the dataset) are removed. Keep at least 50'000 sentences (depending on your computing power, you can keep more). \n",
    "HINT: Start by updating the dictionary accordingly and then remove any sentence that contains at least a single word that is not in the dictionary of words. [2 pts]\n",
    "\n",
    "**Question**: How much did you reduce the number of unique words with your rare event suppression procedure? [1 pt]\n",
    "    \n",
    "**Answer**: \n",
    "\n",
    "**Question**: How many sentences are in your filtered and original dataset? [1 pt]\n",
    "\n",
    "**Answer**:\n",
    "\n",
    "**Question**: What is the impact on learning and generalization of removing sentences with rare words from your dataset? [2 pt]\n",
    "\n",
    "**Answer**: "
   ]
  },
  {
   "cell_type": "markdown",
   "metadata": {
    "collapsed": true
   },
   "source": [
    "**Code** To achieve that, you should create a new dataset where sentences containing rare words (words that occur less than N times in the dataset) are removed. Keep at least 50'000 sentences (depending on your computing power, you can keep more). \n",
    "HINT: Start by updating the dictionary accordingly and then remove any sentence that contains at least a single word that is not in the dictionary of words. [2 pts]"
   ]
  },
  {
   "cell_type": "code",
   "execution_count": 16,
   "metadata": {
    "collapsed": true
   },
   "outputs": [],
   "source": [
    "def conversation_filter(conversations, N):\n",
    "            \n",
    "    word_occ = word_occurence(conversations)\n",
    "\n",
    "    term_list = []\n",
    "    for key, value in word_occ.items():\n",
    "        if value < N:\n",
    "            term_list.append(key)\n",
    "       \n",
    "    def judgeKey(line):\n",
    "        line_split = line.split(' ')\n",
    "        for term in term_list:\n",
    "            if term in line_split:\n",
    "                return False\n",
    "        return True\n",
    "    \n",
    "    filter_conversation = list(filter(judgeKey, [sen for conv in training_conv for sen in conv]))\n",
    "    \n",
    "    return filter_conversation"
   ]
  },
  {
   "cell_type": "code",
   "execution_count": 21,
   "metadata": {},
   "outputs": [
    {
     "name": "stdout",
     "output_type": "stream",
     "text": [
      "The number of words before filtering is 18673\n"
     ]
    }
   ],
   "source": [
    "no_word_before_filter = len(occ_training_conv)\n",
    "print('The number of words before filtering is {}'.format(no_word_before_filter))"
   ]
  },
  {
   "cell_type": "code",
   "execution_count": 22,
   "metadata": {},
   "outputs": [
    {
     "name": "stdout",
     "output_type": "stream",
     "text": [
      "The number of words after filtering is 1644\n"
     ]
    }
   ],
   "source": [
    "no_word_after_filter = len([k for k,v in occ_training_conv.items() if v>=50])\n",
    "print('The number of words after filtering is {}'.format(no_word_after_filter))"
   ]
  },
  {
   "cell_type": "code",
   "execution_count": 17,
   "metadata": {
    "scrolled": true
   },
   "outputs": [
    {
     "name": "stdout",
     "output_type": "stream",
     "text": [
      "131424\n"
     ]
    }
   ],
   "source": [
    "sen_before_filter = [sen for conv in training_conv for sen in conv]\n",
    "print(len(sen_before_filter))"
   ]
  },
  {
   "cell_type": "code",
   "execution_count": 16,
   "metadata": {
    "collapsed": true
   },
   "outputs": [],
   "source": [
    "filtered_traininig_conv = conversation_filter(training_conv, 50)"
   ]
  },
  {
   "cell_type": "code",
   "execution_count": 24,
   "metadata": {
    "scrolled": true
   },
   "outputs": [
    {
     "name": "stdout",
     "output_type": "stream",
     "text": [
      "67024\n"
     ]
    }
   ],
   "source": [
    "sen_after_filter = [sen for sen in filtered_traininig_conv]\n",
    "print(len(sen_after_filter))"
   ]
  },
  {
   "cell_type": "markdown",
   "metadata": {},
   "source": [
    "**Question**: How much did you reduce the number of unique words with your rare event suppression procedure? [1 pt]\n",
    "\n",
    "**Answer**: After filtering, the number of words has been reduced from 18673 to 1644\n",
    "\n",
    "**Question**: How many sentences are in your filtered and original dataset? [1 pt]\n",
    "\n",
    "**Answer**: There are 131424 sentences in original dataset and 67024 sentences in filtered dataset. \n",
    "\n",
    "**Question**: What is the impact on learning and generalization of removing sentences with rare words from your dataset? [2 pt]\n",
    "\n",
    "**Answer**: It will largely decrease the dimension and computation load, also avoids overfitting to the sentences with rare words."
   ]
  },
  {
   "cell_type": "code",
   "execution_count": 25,
   "metadata": {},
   "outputs": [
    {
     "data": {
      "text/plain": [
       "['you must be very fast . hunting is one of my favorite hobbies .',\n",
       " 'that is awesome . do you have a favorite season or time of year ?',\n",
       " 'what is your favorite meat to eat ?',\n",
       " 'hi , how are you doing today ?',\n",
       " 'i am spending time with my 4 sisters what are you up to',\n",
       " 'wow , four sisters . just watching game of thrones .',\n",
       " 'i agree . what do you do for a living ?',\n",
       " 'that is cool my mom does the same thing',\n",
       " 'that is awesome . i have always had a love for technology .',\n",
       " 'tell me more about yourself',\n",
       " 'i really enjoy free diving , how about you , have any hobbies ?',\n",
       " 'i enjoy hanging with my mother she is my best friend',\n",
       " 'that is nice . moms are pretty cool too .',\n",
       " 'hi ! that is a great line for my next stand up .',\n",
       " 'lol . i am shy , anything to break the ice , and i am a beatles fan .',\n",
       " 'i can tell . i am not , you can see me in some tv shows',\n",
       " 'really ? what shows ? i like tv , it makes me forget i do not like my family',\n",
       " 'wow , i wish i had a big family . i grew up in a very small town .',\n",
       " 'i did too . i do not get along with mine . they have no class .',\n",
       " 'those are really yummy too , but not my favorite .',\n",
       " 'i also cook , and i ride my bike to work .',\n",
       " 'are you male or female ?',\n",
       " 'how are you doing today',\n",
       " 'i like to watch kids',\n",
       " 'what is your secret that you have',\n",
       " 'how does that feel for you',\n",
       " 'i bet that it does',\n",
       " 'anyway . what do you do ?',\n",
       " 'i watch kids for a living',\n",
       " 'that is awesome . do you like it ?',\n",
       " 'hello friend , how is it going',\n",
       " 'i am great enjoying the football season',\n",
       " 'yes it is nice , halloween is my fav .',\n",
       " 'lol , i can imagine . i will be reading a lot when football is over',\n",
       " 'i like anything to do with mystery',\n",
       " 'oh no it is not it is my car lol',\n",
       " 'lol , oh i see , taught you own it',\n",
       " 'me also what is your favorite ?',\n",
       " 'rock on , i am listening to my favorite band guns and roses .',\n",
       " 'of course . i love to listen to rock .',\n",
       " 'll . i love black too ! guess i was playing my music too loud .',\n",
       " 'wow , does he live there or work ?',\n",
       " 'live . moved there about ten years ago for a computer tech job .',\n",
       " 'have you visited him there before ?',\n",
       " 'well not too much crime there , but a lot of people .',\n",
       " 'hi . how are you doing today ?',\n",
       " 'hi i am great just finishing up some homework how are you',\n",
       " 'i am alright . i just got done writing .',\n",
       " 'do you write for a living or as a hobby',\n",
       " 'that sounds like a fun job . i am a business major but have a part time job',\n",
       " 'what are you going to school for',\n",
       " 'do you own your own company',\n",
       " 'do you get free pizza',\n",
       " 'no but i do get a good deal .',\n",
       " 'that is a good start',\n",
       " 'i used to party a lot',\n",
       " 'it is fun i cant get enough',\n",
       " 'hi how are you today',\n",
       " 'doing great . i had the day off , you ?',\n",
       " 'i only worked half a day i work at the bank',\n",
       " 'that is nice . i work a lot',\n",
       " 'what do you do ?',\n",
       " 'just office work , but it is a lot',\n",
       " 'yes it does pay the bills',\n",
       " 'i hike at the park',\n",
       " 'that sounds relaxing , i suppose',\n",
       " 'i love nature and it keeps my mind off things . do you travel',\n",
       " 'not much . i should though while i am young',\n",
       " 'i want to go to another country at least once . i have never left the states',\n",
       " 'me either . we could go together !',\n",
       " 'hello , how are you today ?',\n",
       " 'i am well , how are you ?',\n",
       " 'i am very good . did you watch the football games today ?',\n",
       " 'no but my sons are watching a game right now',\n",
       " 'not much of a tv guy since i am always traveling',\n",
       " 'i catch the football and hockey games .',\n",
       " 'have you ever traveled before ?',\n",
       " 'ireland and australia are my go to places',\n",
       " 'ireland is very nice , japan is my next stop .',\n",
       " 'hi ! i have just been sitting here playing the piano and singing along',\n",
       " 'www . i also like to dance but i cannot do that while i am playing . . lol',\n",
       " 'great idea ! love staying up late so i could do that even tonight',\n",
       " 'do you have a day job ?',\n",
       " 'do you have any pets ?',\n",
       " 'hello . how are you ?',\n",
       " 'i am great and you ?',\n",
       " 'doing good . what are some of your favorite books ?',\n",
       " 'i enjoy reading but also garden in my spare time .',\n",
       " 'when i am not singing i am playing tennis .',\n",
       " 'i spend a lot of time in my garden .',\n",
       " 'do you see a lot of animals around your garden ? i love seeing animals',\n",
       " 'do you work ?',\n",
       " 'very cool . thanks for the chat . have a great day .',\n",
       " 'you too',\n",
       " 'hey how are you today ?',\n",
       " 'i have been eating tacos and getting ready to move to school .',\n",
       " 'are you going to college ? i go to a local one .',\n",
       " 'yes , i am going to university of michigan . what year are you ?',\n",
       " 'i love doing anything outdoors . especially in summer . you ?',\n",
       " 'fun . have you decided on your major for school ?',\n",
       " 'not yet . have you decided ?',\n",
       " 'that is so nice ! i wish you luck .',\n",
       " 'hey , what are you up to ?',\n",
       " 'pays well , lol . i make great money as the manager .',\n",
       " 'i would love to travel as well .',\n",
       " 'staying here is fine too though . my two dogs keep me company .',\n",
       " 'i love dogs ! what kind do you have ?',\n",
       " 'that is cute ! how old are they ?',\n",
       " 'only two months ! i actually have to take them for a walk right now',\n",
       " 'hello , how are you doing ?',\n",
       " 'hi there , i am doing great thanks . where are you from ?',\n",
       " 'oh nice ! my mom went to beauty school too',\n",
       " 'oh awesome ! well you guys are all set ! are you married ?',\n",
       " 'lol nice . . well it was great talking to you !',\n",
       " 'i work as a general manager at a grocery store . what about you ?',\n",
       " 'i am an insurance salesman',\n",
       " 'that is interesting . i would love to start my own insurance company .',\n",
       " 'that is so cool . how do you like to spend your free time ?',\n",
       " 'i like watching movies with my wife .',\n",
       " 'canada is great for winter sports too .',\n",
       " 'you should try going to canada one day . it is really beautiful there .',\n",
       " 'i will make sure and check it out .',\n",
       " 'hey how are you ? i wanted to go to florida to surf but no way !',\n",
       " 'would not mind ! i am so busy at the hospital all the time .',\n",
       " 'that is impressive . do you get a lot of exercise there ?',\n",
       " 'oh boy do i lol i bake alot when i have spare time , would love to share',\n",
       " 'hi . how are you doing today ?',\n",
       " 'hi ! i am good ! just playing with my dogs !',\n",
       " 'how many dogs do you have ?',\n",
       " 'that sounds like a lot of work',\n",
       " 'that is really nice of them',\n",
       " 'what do you like to cook',\n",
       " 'that is very true . do you ever donate ?',\n",
       " 'no , i do not make enough money .',\n",
       " 'that is good . do you volunteer there ?',\n",
       " 'hello , tell me about you .',\n",
       " 'hi , i am a mechanic who lives alone . . . how about you ?',\n",
       " 'wow that sounds really exciting ! i have never traveled to europe',\n",
       " 'you should go some time .',\n",
       " 'i thought i would make a pretty good fashion designer since i love to shop .',\n",
       " 'who says fashion designer is not a real job ?',\n",
       " 'you will get there soon enough .',\n",
       " 'hey whats going on ? how are you ?',\n",
       " 'not much , just seen both my children off to school , you ?',\n",
       " 'so you have two cats ? what are their names ?',\n",
       " 'oh cool . do you work ? any hobbies ?',\n",
       " 'my parents were both teachers , so i thought i might , but no',\n",
       " 'my 2 children love that show , but i would rather be out hunting',\n",
       " 'we sound like we would get along',\n",
       " 'yeah i bet we would . i like hunting but i do not kill animals . i am weird like that',\n",
       " 'oh , that is weird . how do you hunt ?',\n",
       " 'hello there how are you ?',\n",
       " 'i am doing well . how are you ?',\n",
       " 'i like it when i can get away from my job at the grocery store',\n",
       " 'i volunteer at a farm , do you like animals ?',\n",
       " 'i am vegan so i love animals . same here with the farm volunteering',\n",
       " 'i too am a vegan , how long for you ?',\n",
       " 'that is nice my boss at the grocery store is nice too',\n",
       " 'how lovely , mine is 2 miles up the road .',\n",
       " 'do you usually make bank waiting tables ?',\n",
       " 'oh that could be a problem lol . what do you do for fun',\n",
       " 'oh okay . . i am in a book club',\n",
       " 'sounds a bit crazy , and hard on a child',\n",
       " 'hi , how are you doing today ? do you have any hobbies ?',\n",
       " 'i am good and yourself friend ?',\n",
       " 'very nice . where do you work ?',\n",
       " 'i am a personal chef for a family of 4 . what about you ?',\n",
       " 'i am in college to become a teacher',\n",
       " 'hi ! how was your weekend ?',\n",
       " 'it went so cool . how about for you ?',\n",
       " 'great ! went for pizza , my fav , on friday . whats your favorite food ?',\n",
       " 'i am from the us too . my favorite is pink . do you go to school ?',\n",
       " 'yes ! i love sushi ! i always eat it while studying .',\n",
       " 'nope i am not . where are you working now ?',\n",
       " 'do you have family in there ?',\n",
       " 'where are you from , originally ?',\n",
       " 'i am not sure really . i am unemployed',\n",
       " 'ah , not many jobs left after the hurricane ?',\n",
       " 'yeah i live with my parents now',\n",
       " 'hello ! how are you ? i am about to have pizza , i am excited ! !',\n",
       " 'hey i am doing great . pizza sounds good i really like tuna fish salad',\n",
       " 'i like seafood but my favorite is meat and pizza . what do you do ?',\n",
       " 'i work at a comic book store',\n",
       " 'i bet that is fun ! i sell cars . it is new to me',\n",
       " 'how did you know that is my favorite ! what about you ?',\n",
       " 'i like that , also . all pizza .',\n",
       " 'that is cool . do you like to read or listen to music',\n",
       " 'i mostly enjoy painting , but will often listen to music . you ?',\n",
       " 'how is you night going so far ?',\n",
       " 'do not follow music much , but hope things are getting better for her',\n",
       " 'i really really like love living in texas . tell me about yourself .',\n",
       " 'hi , how are you today ?',\n",
       " 'i would shop all day ! what do you like to do in your spare time ?',\n",
       " 'i love to go dancing . i love eating out . do you have any favorite foods ?',\n",
       " 'my favorite food is chicken ! its actually my dogs favorite food too ! his name is bob',\n",
       " 'it is ! what state do you live in ?',\n",
       " 'i love in hawaii , its beautiful here !',\n",
       " 'you should take a vacation out here',\n",
       " 'hello , i have to be quick because i work in a hospital',\n",
       " 'although i do not like to work super long hours',\n",
       " 'what do you do for fun',\n",
       " 'i want to get a truck one day',\n",
       " 'i want to get a horse . i love to go horseback riding',\n",
       " 'i really enjoy toyota cars though',\n",
       " 'i would rather spend my money on going to concerts where i dance hard !',\n",
       " 'its was very warm outside today',\n",
       " 'its a beautiful night i love the night air',\n",
       " 'me too . much better for my favorite cheese .',\n",
       " 'i am sorry . what is the matter do you think ?',\n",
       " 'oh wow , that sounds interesting . are you really famous ?',\n",
       " 'not yet but in time i will be',\n",
       " 'i love driving my pink truck to them',\n",
       " 'that sounds cute ! so what else do you do for fun ?',\n",
       " 'yes ! i know how to be by myself . you ? i do not need new friends . you ?',\n",
       " 'you are never alone , and the law firm i work for knows it . we fight for you .',\n",
       " 'please do not trust anyone .',\n",
       " 'hi , how are you today ?',\n",
       " 'you got it , that is why i can not stand skiing . can not wear the boots .',\n",
       " 'if i had a real dragon , i would totally train it . would you ?',\n",
       " 'definitely . i love dragons . wish i had one .',\n",
       " 'do they work very good ?',\n",
       " 'i am hungry',\n",
       " 'they will have food at that !',\n",
       " 'my day is not going too great .',\n",
       " 'then it is time to eat meat',\n",
       " 'if only i had the money and friends . sadly i do not have either .',\n",
       " 'you can eat meat with me , red as my hair',\n",
       " 'that sounds awesome ! thank you !',\n",
       " 'do you like computers ?',\n",
       " 'hi . where are you from ?',\n",
       " 'i am from alabama . how about you',\n",
       " 'oh okay . that is interesting . i live by myself and work on cars a lot',\n",
       " 'that is also really cool . i was interested in that during college',\n",
       " 'i did not get to finish college .',\n",
       " 'that is great . i fish in my free time and enjoy a good burger',\n",
       " 'lol really ? what was the joke ?',\n",
       " 'and what would that be ? lol',\n",
       " 'lol that is very funny . i like that one',\n",
       " 'hi how are you today',\n",
       " 'i am well , how about you ?',\n",
       " 'i am good do you work',\n",
       " 'i do , i work from home . i cant see well',\n",
       " 'i do not but my dad is a cop',\n",
       " 'that is cool , i used to have six cats .',\n",
       " 'where do you live at then ?',\n",
       " 'oh that is far away . i married my friend from high school',\n",
       " 'hi how are you today',\n",
       " 'oh wow do you play music',\n",
       " 'i see , i play guitar',\n",
       " 'that does sound fun take me',\n",
       " 'what do you do for a living ? i am in the army .',\n",
       " 'i like to build computers on the side too .',\n",
       " 'great i adore video games',\n",
       " 'oh that sounds like a lot of fun .',\n",
       " 'yeah do you eat meat',\n",
       " 'that is okay keep working at it',\n",
       " 'did you go to college ?',\n",
       " 'hey there , hows your weekend so far',\n",
       " 'just taking care of my mother . she is very sick .',\n",
       " 'me to . between her health and our loud neighbors she cannot seem to rest',\n",
       " 'i have loud neighbors too . i hope they move soon',\n",
       " 'oh no why is that ?',\n",
       " 'its hard not to sometimes',\n",
       " 'hi , how are you today ?',\n",
       " 'yum , that sounds delicious ! did you cook it yourself ?',\n",
       " 'no reason to . what do you do for work ?',\n",
       " 'wow , that sounds like an awesome job ! does he like it ?',\n",
       " 'i am sure he does like it . what else do you do ?',\n",
       " 'not much . just work , hang out with my boyfriend , singing lessons . . .',\n",
       " 'i would love to take singing lessons !',\n",
       " 'hello how are you today',\n",
       " 'i am great how are you ?',\n",
       " 'i love shoes ! do you have any hobbies ?',\n",
       " 'skiing in the winter is one of mine',\n",
       " 'i love to travel and read . i have been to ireland and australia and love both .',\n",
       " 'where have you been lately',\n",
       " 'ireland . my mom is from there and my dad from australia . i live in california .',\n",
       " 'a teaching job . i teach english .',\n",
       " 'thank you so much ! my dad is a book writer so i learned a lot from him .',\n",
       " 'he recently just wrote a book on time travel . mostly fiction . where do you live ?',\n",
       " 'sounds interesting i live in seattle',\n",
       " 'great way to save money . do you like the outdoors ? i love it .',\n",
       " 'hello ! how are you doing today ?',\n",
       " 'i do not . my husband wants a boy , he is in the army .',\n",
       " 'nice . maybe a future hockey player to . i use to play .',\n",
       " 'i agree and hopefully my kid likes horses . i have one named beauty .',\n",
       " 'oh nice . sometime i think i am too tall to dance .',\n",
       " 'oh , you can never be too tall to dance !',\n",
       " 'believe me , they like it .',\n",
       " 'well if your sure i will keep dancing . i love it too hate to give it up .',\n",
       " 'never give up something you love !',\n",
       " 'hey , there . how are you today ?',\n",
       " 'i am great today . such a nice day',\n",
       " 'i love to laugh ! ! ! and hike and bike , too .',\n",
       " 'that . s cool . . . i love to cook for my friends and family .',\n",
       " 'it was a pleasure to meet you .',\n",
       " 'i am still in love with my ex boyfriend but trying to move on . are you single ?',\n",
       " 'maybe we can going fishing and i can cook for you .',\n",
       " 'hi i have four siblings',\n",
       " 'hello how are you today ?',\n",
       " 'i am doing good how about you ?',\n",
       " 'i am alright , i love my ohio farm',\n",
       " 'oh that is great i like to spend time drawing',\n",
       " 'drawing is cool but i prefer the guitar',\n",
       " 'the guitar that is cool too , i have three other siblings .',\n",
       " 'i wanna go to the city one day , never been',\n",
       " 'going to the city that would be fun !',\n",
       " 'they are where steak comes from',\n",
       " 'funny i mean i know that much',\n",
       " 'that is about all you really need to know',\n",
       " 'hey how are you today',\n",
       " 'i do not like going out very much . what do you do',\n",
       " 'are you hungry ? i can bake you something .',\n",
       " 'i need more hours to sleep',\n",
       " 'my wife can bake for me , and for the 2 kids',\n",
       " 'why are you so tired ? i can sleep when i am dead .',\n",
       " 'i work in a factory',\n",
       " 'ah . i am really old but my kids visit me all the time .',\n",
       " 'but all i wanted to be really is have my own band',\n",
       " 'cool . chocolate is his favorite .',\n",
       " 'wow , i do not really like chocolate',\n",
       " 'i will bake you a cake when you start your band .',\n",
       " 'can you sing ? you can join me',\n",
       " 'does not have to be chocolate . i can bake anything . sure !',\n",
       " 'wow , can you play a musical instrument ?',\n",
       " 'kinda , i been in the game since i was four .',\n",
       " 'did your family teach you to play the violin ?',\n",
       " 'how old are you now ?',\n",
       " 'i wish i could be a dog ! i do not like life as a human .',\n",
       " 'if you were rich you would not be saying this .',\n",
       " 'i would rather be a bird .',\n",
       " 'hello , how are you doing ?',\n",
       " 'i am doing good . just cooking dinner . love cooking',\n",
       " 'i do too , are you a man or woman ?',\n",
       " 'i love to sit on the couch and play video games myself',\n",
       " 'my brother does too , especially since our parents moved to florida recently',\n",
       " 'really , i also like listening to music especially country',\n",
       " 'sounds relaxing . i am going on a cruise in a month . hoping to relax there',\n",
       " 'me too , maybe you should come !',\n",
       " 'lol , i would love too',\n",
       " 'what else do you enjoy ?',\n",
       " 'i enjoy the outdoors and love to sit around water',\n",
       " 'then you would love the cruise !',\n",
       " 'did you see the football games today ?',\n",
       " 'you play tennis or coach ?',\n",
       " 'good luck . that is a rough thing .',\n",
       " 'thanks . tell me about you ?',\n",
       " 'its okay . pays the bills . tried to get to the nfl , but it did not happen .',\n",
       " 'no way . that is my favorite team too . although , not cause of the colors .',\n",
       " 'hi wow i like comic books too . i do not collect them tho .',\n",
       " 'wow how do you get them',\n",
       " 'well it is a crime . just saying .',\n",
       " 'it just is not right if it never was yours .',\n",
       " 'i do not understand anything .',\n",
       " 'hi . i love to garden . what do you do ?',\n",
       " 'i would say so . i bake alot of pies .',\n",
       " 'pie sounds good . maybe you could bake one for my book club .',\n",
       " 'oh great ! we can garden too .',\n",
       " 'i have never tried to garden but my mom loves it .',\n",
       " 'i do also . where do you live ?',\n",
       " 'pretty . i like mountains alot you ?',\n",
       " 'sounds good . i love my cat too',\n",
       " 'another cat lover , awesome . we have to meet and have a drink soon .',\n",
       " 'that is awesome , when i was young like that i tried acting',\n",
       " 'cool ! what is it that made ya quit ?',\n",
       " 'that will be nice . i want to do as much as i can while i am young .',\n",
       " 'my pet snake makes me smile . do you guys have any kids ?',\n",
       " 'no , no . not that famous yet .',\n",
       " 'i do not thank you can get me away from my favorite video game',\n",
       " 'that is not good . what is your favorite food ?',\n",
       " 'i have never play that one .',\n",
       " 'hey hows it going',\n",
       " 'great ! how about with you ?',\n",
       " 'pretty good just got off work',\n",
       " 'that is really sweet how old is he ?',\n",
       " 'that is quite a trip i am saving to go to paris',\n",
       " 'that would be amazing . have you been before ?',\n",
       " 'i had when i wrote my first book',\n",
       " 'being an author must be really neat . what type of books do you write ?',\n",
       " 'i write about fantasy what do you do ?',\n",
       " 'hey hows it going',\n",
       " 'hi ? i am ok . who is this ?',\n",
       " 'did you catch him ? will you let him out ?',\n",
       " 'if i had him , i would play soccer with him .',\n",
       " 'is he your best friend ?',\n",
       " 'yeah , but he hates me , sadly',\n",
       " 'hi there how are you doing today ?',\n",
       " 'i wonder where you could find some dragon eggs .',\n",
       " 'what was it called ? i have probably been there .',\n",
       " 'was nice talking to you as well !',\n",
       " 'you as well , stay safe !',\n",
       " 'nice . i do not have any pets . do you have any kids ?',\n",
       " 'not yet . married and hoping to start soon',\n",
       " 'i have a son myself . kids are fun .',\n",
       " 'that is a neat name . read any good books lately ?',\n",
       " 'i do not believe i have read that . is it good ?',\n",
       " 'i take it with my black lab cat when we go fishing . we love too .',\n",
       " 'i have never been fishing but i love to swim',\n",
       " 'hi ! how are you ?',\n",
       " 'hi good and you ?',\n",
       " 'what do you do for a living ?',\n",
       " 'i am in sales . you ?',\n",
       " 'nice ! do you love books ?',\n",
       " 'do not like reading ?',\n",
       " 'that is old school',\n",
       " 'i did not know that but i have seen the movie',\n",
       " 'hello how are you tonight',\n",
       " 'i am okay . i wish i was more tired though . you ?',\n",
       " 'my children let me down so i have been better',\n",
       " 'wow . that is too bad . i do not have kids . i have brothers , twins .',\n",
       " 'no , just them . it was lonely growing up . do you have siblings ?',\n",
       " 'no i do not have any it was boring growing up',\n",
       " 'yeah . i always bake cookies when i am bored . do you have a hobby ?',\n",
       " 'i am a little rich i suppose',\n",
       " 'i wish i was . what do you do for a living ?',\n",
       " 'hey how are you today',\n",
       " 'i am doing well , working on my next youtube video . how are you',\n",
       " 'that sounds like fun . i am doing pretty good . where are you from',\n",
       " 'i live in california , how about you ?',\n",
       " 'now that is neat . i am jealous ! my dad is just a boring pilot',\n",
       " 'yeah well i have to go was nice chatting with you',\n",
       " 'it was nice talking to you as well',\n",
       " 'yes . we will . where are you from ?',\n",
       " 'wow i love horses what are some of their names ?',\n",
       " 'i play the drums too . i hope you are not vegetarian .',\n",
       " 'no but i used to be i am employed at a pizza restaurant .',\n",
       " 'good because i eat steak often . are you in a band ?',\n",
       " 'i just had steak too i am so serious i am not in bands .',\n",
       " 'what is your favorite band ?',\n",
       " 'hi how are you today ?',\n",
       " 'if they have a good day i do too .',\n",
       " 'no just cats . i travel a lot , traveled around world on boat last year .',\n",
       " 'do you enjoy eating cakes ?',\n",
       " 'very nice , i am vegetarian too',\n",
       " 'hello what are your plans today',\n",
       " 'i am going to listen to some rock today how are you ?',\n",
       " 'now that is really cool . what else to you like ?',\n",
       " 'did i say beer , lol',\n",
       " 'hey there hows it going',\n",
       " 'hi , its great . just watching some videos , what about you ?',\n",
       " 'nothing much just been on my computer',\n",
       " 'do you watch any sports ?',\n",
       " 'yes but i only really watch hockey',\n",
       " 'nice , what do you like about it ? i prefer watching soccer games , i am really into it .',\n",
       " 'as long as youre having fun , it does not matter',\n",
       " 'true , very true , so what are you doing ?',\n",
       " 'looking online for some new shoes . are you up to anything ?',\n",
       " 'aw , how old is your daughter ?',\n",
       " 'she is almost 8 months',\n",
       " 'hopefully it gets better with time , wish i could meet her haha',\n",
       " 'hello , how are you today ?',\n",
       " 'i am great , just planning a hike for this weekend . how are you ?',\n",
       " 'good , i love hiking ! . i take my dogs to the lake often',\n",
       " 'i go almost every weekend , it is one of my favorite past times',\n",
       " 'do you go to the lake ?',\n",
       " 'sometimes the lake , sometimes the mountains',\n",
       " 'oh man we would make excellent friends .',\n",
       " 'for sure ! do you have any other hobbies ? i am in a jazz band , i play piano',\n",
       " 'i read every night . horror stories !',\n",
       " 'when i am on break at the coffee shop i read',\n",
       " 'hi how are you today',\n",
       " 'doing good ! just finished my day of work . how are you doing ?',\n",
       " 'good where do you work ?',\n",
       " 'why does not she get it ?',\n",
       " 'i suppose i should . got any hobbies ?',\n",
       " 'hello how are you this evening ?',\n",
       " 'yum ! just back from taking the kids on a nature walk lovely',\n",
       " 'healthy ! i stay at home with my two kids while my husband makes the living',\n",
       " 'i am a single unemployed mom at the moment . but read tons of book .',\n",
       " 'how old are you ? just turned 30 this year',\n",
       " 'yes ! taking care of children plus two pets too',\n",
       " 'hi there ! do you watch got ?',\n",
       " 'i do ! i am only on season 3 so far though .',\n",
       " 'i really like it so far . i enjoy writing in my spare time .',\n",
       " 'cool hobby . i enjoy winter . i read a lot when it is cold .',\n",
       " 'i train horses as a career , so i wish the cold would stay away .',\n",
       " 'parents can be a bummer . you live with them ?',\n",
       " 'currently yes , i wish i knew where my place was in the world .',\n",
       " 'christmas is great . do you spend it at home with your parents ?',\n",
       " 'usually i do , once i went to texas with a friend . how about you ?',\n",
       " 'hello how are u tonight',\n",
       " 'hi . i am okay . tired , but okay . how are you ?',\n",
       " 'i am doing good should be sleeping i have school but cant sleep',\n",
       " 'wow i am only 14 so i cant do that just yet but i hope too',\n",
       " 'nice . stay in school and work hard .',\n",
       " 'i try i like video games and race cars',\n",
       " 'i have three best friends but lots of other friends that play it',\n",
       " 'i have a best friend , she is a pilot like me .',\n",
       " 'what kind of plane do u fly',\n",
       " 'hey there how are you ?',\n",
       " 'i am good . how about yourself ?',\n",
       " 'do you have a family ? never got to know mine',\n",
       " 'i am well , what do you do in your spare time ?',\n",
       " 'six children . are you married ?',\n",
       " 'i understand . it is difficult all around .',\n",
       " 'it is how you like it',\n",
       " 'i have a black iphone . apple makes such fantastic products .',\n",
       " 'hi there ! tell me about yourself',\n",
       " 'do you have a favorite comic ?',\n",
       " 'that is amazing what kind of snakes are they ? we have one in our class',\n",
       " 'i love tattoos i want to get more only have 2',\n",
       " 'you have plenty of space for them .',\n",
       " 'yes indeed my dog keep eating my shoes',\n",
       " 'i do not like cats they have something weird about them',\n",
       " 'he is so weird i tell you',\n",
       " 'i think so ! its hard to see where i am going sometimes',\n",
       " 'u should open your eyes so you can see better',\n",
       " 'what job do you have ?',\n",
       " 'i do this mostly and watch football',\n",
       " 'were u the coach or more of an assistant',\n",
       " 'it was big ! its why i cant really see anymore lol',\n",
       " 'once i lived where i should have died',\n",
       " 'amazing have any pets ? i have three cats .',\n",
       " 'well i am going on two years divorced',\n",
       " 'i like to read books but not games',\n",
       " 'i understand how long have you been like that',\n",
       " 'hi how are you this evening ?',\n",
       " 'i am good , are you into music',\n",
       " 'i love all rap , do you do other stuff',\n",
       " 'live action role playing it awesome',\n",
       " 'sounds like it could be a good time .',\n",
       " 'cool , i play the drums every now and again',\n",
       " 'what kind of work do you do ?',\n",
       " 'hi , how are you today ?',\n",
       " 'how fun , are you single ?',\n",
       " 'cool , how many do you have ? i am single , enjoying it .',\n",
       " 'a different kind of designer then , fun . i enjoy working out , do you ?',\n",
       " 'yeah . so do you have any hobbies',\n",
       " 'nice ! do you have any children ?',\n",
       " 'no , but my dog george is basically my kid . haha .',\n",
       " 'lol ! are there any places you guys like to go to as a family ?',\n",
       " 'oh how nice ! i love taking my dog to the beach !',\n",
       " 'i bet he loves it !',\n",
       " 'he definitely does ! do you have any hobbies ?',\n",
       " 'no , i teach middle school',\n",
       " 'hi how are you today',\n",
       " 'that is my favorite color . have you seen the new iphone',\n",
       " 'i have wanted an iphone .',\n",
       " 'they are great . my mom and dad got it for me i still live with them',\n",
       " 'they seem to be very nice .',\n",
       " 'yeah they do all they can for me i am lucky to have them',\n",
       " 'do you have a good relationship with your parents',\n",
       " 'hi how are you today',\n",
       " 'hello , i am well , how are you ?',\n",
       " 'i am good ! it is summer time the best time of year',\n",
       " 'hello , i am well , how are you ?',\n",
       " 'you said that before . haha . where are you from ?',\n",
       " 'where do you live at ?',\n",
       " 'it is so crazy there . my whole family and i left . i have a huge family',\n",
       " 'i have always lived in the us . i have traveled to europe and england .',\n",
       " 'oh wow ! i wanted to go to school there but now i am graduated .',\n",
       " 'i think it is an important thing to consider , but not the only thing .',\n",
       " 'oh maybe you should help me and donate them .',\n",
       " 'what else would you try to do',\n",
       " 'hi how are you tonight',\n",
       " 'that sounds good . what do you do for fun',\n",
       " 'aww those dogs are beautiful . i take my boat out or go to the beach',\n",
       " 'lol its ok . what do you do for a living',\n",
       " 'you have a very important job also',\n",
       " 'thanks . i enjoy but also hate seeing people hurt',\n",
       " 'definitely . i am thinking of moving . . . it gets cold here .',\n",
       " 'you should go to florida it is always warm there',\n",
       " 'hello , how are you tonight ?',\n",
       " 'i am going well ! just turned my hair pink !',\n",
       " 'haha . i have a girlfriend . she is the best . she helped me dye it .',\n",
       " 'that is cute , i fish a lot .',\n",
       " 'i do not have fish around here .',\n",
       " 'ok . fair . i do not have fish worth eating around here . haha',\n",
       " 'oh , she works for the man . two by two , hands of blue ?',\n",
       " 'everyone must make a living , a good one if you want to live well .',\n",
       " 'hi how are you tonight',\n",
       " 'i know what you mean i am just so simple',\n",
       " 'true , you seem to be very simple . what kind of work do you do ?',\n",
       " 'if i were a fish , i would be all over fried chicken .',\n",
       " 'i love it they are both good',\n",
       " 'oh okay , totally . so do i , but i get paid for it .',\n",
       " 'i will have to do that thanks',\n",
       " 'you are most welcome . my children are my reason for living .',\n",
       " 'what are your favorite things',\n",
       " 'hiking is my favorite thing to do . what about you ?',\n",
       " 'i really love the beach and cooking italian food !',\n",
       " 'what do you do for a living ? i am in texas .',\n",
       " 'no pets . do you guys have many parks in texas ?',\n",
       " 'i have a dog that i love a lot . lots of parks in texas !',\n",
       " 'whats the dogs name ? i have visited like 12 national parks .',\n",
       " '1 of each ! what part of texas do you live in ?',\n",
       " 'hello . i am sad so i am eating ice cream . what are you up to ?',\n",
       " 'i have never traveled to japan i would like to some day',\n",
       " 'i love it as much as i love walking dogs . where do you work ?',\n",
       " 'i work from home , where i live with my mother',\n",
       " 'interesting . how old are you ?',\n",
       " 'do you have any kids',\n",
       " 'no i am single no kids',\n",
       " 'same here . i hope to have some one day .',\n",
       " 'i like to spend time on the weekends meeting new people',\n",
       " 'i like to meet new people',\n",
       " 'have you seen any great movies lately ?',\n",
       " 'hi how are you doing ?',\n",
       " 'good , how are you ?',\n",
       " 'i am good thanks for asking',\n",
       " 'whats free diving ? never heard of it',\n",
       " 'i like listening to music',\n",
       " 'what city are you from ?',\n",
       " 'why how tall are you ?',\n",
       " 'what do you do for a living ?',\n",
       " 'hi there . i am vegan',\n",
       " 'hi , i just got back from a country music concert .',\n",
       " 'me to ! i u do not like meat anymore',\n",
       " 'i love to do yoga . you ?',\n",
       " 'i work as a teacher so the money is not much , but i like it .',\n",
       " 'that is great ! i like hockey',\n",
       " 'hockey is cool , my dad likes hockey .',\n",
       " 'good afternoon . how are you today ?',\n",
       " 'i m good i m going to going to my private school high school later',\n",
       " 'i got to go work at the movie theater today .',\n",
       " 'instead of using car i drive motorcycle',\n",
       " 'i have a car . i drive to the school my boyfriend goes to learn acting .',\n",
       " 'what do you do for work ?',\n",
       " 'i m actually a full time student',\n",
       " 'hi how are you today',\n",
       " 'i am doing great what about you ?',\n",
       " 'i am alright do you like music ?',\n",
       " 'do you have lots of friends ?',\n",
       " 'i need some new friends',\n",
       " 'we can be one . love surfing the internet so we can always chat',\n",
       " 'hi , i live in the big apple , what about you',\n",
       " 'great , do you have a part time job',\n",
       " 'me , i love dogs , so walking them is fun',\n",
       " 'congratulations , i am single and hope to go to japan soon',\n",
       " 'how fun . what city ? i was there once in military',\n",
       " 'i would not know , i have never been out of the us .',\n",
       " 'oh that takes a while better go soon .',\n",
       " 'thanks , eating ice cream always make me feel better .',\n",
       " 'i love chocolate ice cream . you .',\n",
       " 'hey how are you doing',\n",
       " 'cool , how long have you worked there ?',\n",
       " '3 years , where do you work ?',\n",
       " 'oh no , my parents would kill me haha',\n",
       " 'll i have 3 , my parents do not know',\n",
       " 'that is funny , cool , what your fav food',\n",
       " 'i love healthy food , veggies and such since moms is nurse',\n",
       " 'eating healthy is easy for me cause i do not have a car',\n",
       " 'haha , that is helps with the fast food , do you have animals ?',\n",
       " 'www wow , sorry to hear that , i have 2 dogs',\n",
       " 'i enjoy being a red head , what color is your hair ?',\n",
       " 'hello , how are you tonight ? i am a blonde .',\n",
       " 'i do not , i do teach kindergarten and i love it .',\n",
       " 'it does , but i love kids . what do you do ?',\n",
       " 'very nice , how did you do that ?',\n",
       " 'i do love to walk , hike also .',\n",
       " 'hey there bro . how is it going ?',\n",
       " 'sweet ! do you feed your snake beer ?',\n",
       " 'not yet , i do not think a plane could lift me .',\n",
       " 'do you like to play video games ?',\n",
       " 'i understand . what games pay ?',\n",
       " 'i am also a famous character online',\n",
       " 'are you in a video game ?',\n",
       " 'all i can think about is moving away',\n",
       " 'hello what are you doing ?',\n",
       " 'hey just got done watching the walking dead . what are you doing',\n",
       " 'i teach japanese to children and just got done',\n",
       " 'japanese is a hard language to learn . do you like sports',\n",
       " 'are you from japan ?',\n",
       " 'yes i am . i do not care for sports much',\n",
       " 'the only thing i have is my dog his name is won won lol',\n",
       " 'that is a cute name what kind of dog is her',\n",
       " 'oh yes . i get weird looks though because i am a girl .',\n",
       " 'i write , but i want to be an actress',\n",
       " 'a famous one , milk makes me sick , are you allergic to it , i am .',\n",
       " 'i know , i will have to dye my hair , they want me to walk in the beach .',\n",
       " 'hello . how are you today ?',\n",
       " 'i am good and i hope you are too',\n",
       " 'that is great . how old are you ? i am a woman and a little older .',\n",
       " 'what is your favorite food ?',\n",
       " 'yummy ! mine is pasta . it is delicious .',\n",
       " 'helping people is my real love . thank you for chatting with me !',\n",
       " 'that is nice , good luck to you',\n",
       " 'hi how are you doing ?',\n",
       " 'very good , just went for a nice run .',\n",
       " 'what do you do for a living ?',\n",
       " 'i am in to the photography business',\n",
       " 'very nice , any sports that you play ?',\n",
       " 'how tall are you ? i am 5 5',\n",
       " 'i am 6 7 , what is your favorite food ?',\n",
       " 'i personally like any eat or pasta , keep me away from veggies though',\n",
       " 'what city are you from ?',\n",
       " 'nice , do you do photography for people or nature ?',\n",
       " 'hi there , how are you ?',\n",
       " 'great . do you want to be my friend ? ?',\n",
       " 'sure . you like going to concerts ?',\n",
       " 'i want to go to one but i am only 10',\n",
       " 'do you like animals ? ? cats and dogs are my fav i love them',\n",
       " 'i love animals , so much so i am vegan . you know what that is ?',\n",
       " 'no , not much , but i have lots of friends . i can ask',\n",
       " 'you should . so what do you look like ?',\n",
       " 'i have brown eyes , and brown hair , so we are quite different',\n",
       " 'are you a boy or a girl',\n",
       " 'hey how are you ?',\n",
       " 'i am always so tired , how are you ?',\n",
       " 'yes they are , oh wow your first ? boy or girl ?',\n",
       " 'as a librarian , reading will take your mind off things .',\n",
       " 'hello ! what is your favorite thing to eat ?',\n",
       " 'very nice ! i love pizza , myself ! did you have any animals on your ranch ?',\n",
       " 'it is important to have hobbies . i like cars , and working on them in the morning .',\n",
       " 'have you tried playing games with them ? role playing can be fun !',\n",
       " 'wow , maybe you can get them interested in some other hobbies . do they like cars ?',\n",
       " 'when do you run ? i like being busy in the morning .',\n",
       " 'sounds like a lot of work ! do they have any pets ?',\n",
       " 'yeah it is because people can talk .',\n",
       " 'hi , what is your name ?',\n",
       " 'like how ? how could a pet help a strong man like me ?',\n",
       " 'hey how are you tonight',\n",
       " 'that is a good one . i have kids too',\n",
       " 'that is one too many i think',\n",
       " 'oh why do you say ?',\n",
       " 'hi ! how are you doing today ?',\n",
       " 'hello ! i am good , just got back from lake . i love the water .',\n",
       " 'accident . so i just stay in bed . good thing i work from home ! . you ?',\n",
       " 'do you live by yourself ?',\n",
       " 'ca not do much from the bed , but computer games are great way to pass the time',\n",
       " 'i play baseball at college',\n",
       " 'my girlfriend of 7 years is in another state',\n",
       " 'that sucks you should go see her',\n",
       " 'yeah i will during the holidays',\n",
       " 'is it far far away ?',\n",
       " 'well it takes a bus or a car to get there .',\n",
       " 'oh no i am sorry',\n",
       " 'do you follow baseball at a ; ; ?',\n",
       " 'no i do not follow baseball',\n",
       " 'well then . . . i do i love it',\n",
       " 'hello how are you today ?',\n",
       " 'i am doing very well',\n",
       " 'what are you up to today ? i am going to the race track .',\n",
       " 'i was writing to my grandchildren',\n",
       " 'that is very nice , do you see them often ?',\n",
       " 'sometimes i do , but they have their own lives .',\n",
       " 'i am sorry about that',\n",
       " 'that definitely is not good',\n",
       " 'do you really feel bad',\n",
       " 'why do you hate it',\n",
       " 'i am alright how about you ?',\n",
       " 'did you put any cheese on it ?',\n",
       " 'nope just being an amazing cook',\n",
       " 'i would love to have you as my chef during my summer vacation on lake michigan',\n",
       " 'that would be great i enjoy cooking',\n",
       " 'how are you doing today ?',\n",
       " 'sounds fun , i am in school now at do not have much time to party .',\n",
       " 'what are you studying there ?',\n",
       " 'i am getting a degree in health science , food and water are important to me .',\n",
       " 'i am so sorry to hear that . do you ever drink and drive ?',\n",
       " 'i do after a long day at work',\n",
       " 'hey there how are you tonight ?',\n",
       " 'good , i just finished swimming , how about you ?',\n",
       " 'oh do you like to swim ? i love singing',\n",
       " 'oh that makes swimming hard ? i am sorry',\n",
       " 'well maybe they like it',\n",
       " 'but i can cook really good i enjoy it .',\n",
       " 'on sundays i like to make breakfast . i too like cooking',\n",
       " 'oh my i have never had green eggs . what is your name ?',\n",
       " 'i like bacon on everything even ice cream lol',\n",
       " 'you have to tried it , it is better than fried ice cream for sure !',\n",
       " 'haha , i like playing online games',\n",
       " 'haha , i will just be study computer science and eating my vegetarian meals .',\n",
       " 'good luck ! you are going to have so much fun !',\n",
       " 'thank you ! ! i have a feeling your going to have alot more fun than i am .',\n",
       " 'if i was younger i would have to agree .',\n",
       " 'how are you ? i am eating pizza , my favorite .',\n",
       " 'hello how are you doing ?',\n",
       " 'i like baking and cooking food .',\n",
       " 'i am 30 years old and live with my parents .',\n",
       " 'i have issues seeing colors .',\n",
       " 'they sell special glasses for people who are color blind .',\n",
       " 'wow ! that is great ! i love grocery shopping !',\n",
       " 'what are your hobbies that you enjoy ?',\n",
       " 'i love spending time with my family also .',\n",
       " 'hi ! ! ! ! how are you ?',\n",
       " 'that is special . i hope they are happy .',\n",
       " 'it is ! ! ! ! ! ! ! i am single and play too many video games .',\n",
       " 'hi . i am super lazy',\n",
       " 'i love to paint trees',\n",
       " 'oh that is good . i get lonely',\n",
       " 'can i come then please',\n",
       " 'oh yes . you would like it . i like it there .',\n",
       " 'ok , i am on my way',\n",
       " 'hey how are you doing this morning ?',\n",
       " 'i am fine , how are you ?',\n",
       " 'great ! thinking about doing some baking . do you cook ?',\n",
       " 'i work at a pizza restaurant , so sometimes .',\n",
       " 'cool do you like it there ?',\n",
       " 'i pay the bills as a chef but really i am all about traveling . you travel much ?',\n",
       " 'i like going to the beach . where do you go ?',\n",
       " 'nah me either , just use my phone . you like being outdoors ?',\n",
       " 'i like going with my friends to places with nature .',\n",
       " 'i am always happy doing work in the garden .',\n",
       " 'do you use fresh vegetables in your restaurant ?',\n",
       " 'always . i do not usually grow them myself though .',\n",
       " 'hello how are you doing ?',\n",
       " 'that is some special hobby . i ski',\n",
       " 'that sounds fun ! i also like cars , i used to be a mechanic for a few years .',\n",
       " 'good for you ! i am studying at a business school . do you like music ?',\n",
       " 'honestly , i listen to everything but i love christian music most .',\n",
       " 'good that is beautiful . why did you join the military ?',\n",
       " 'that is tough ! do you travel a lot ? i enjoy traveling and might pass by your city .',\n",
       " 'i do love traveling ! i have been over most of america , and also mexico',\n",
       " 'hi ! how are you ? i just got done running .',\n",
       " 'i am a bit tired , long day and you ? i am a fan of anime',\n",
       " 'i am into dancing . i played hockey before . do you play sports ?',\n",
       " 'that sound like a fun job !',\n",
       " 'i run 2 3 hours a day .',\n",
       " 'i totally understand how stressful that can be .',\n",
       " 'sometimes i wish i was not 6 foot tall .',\n",
       " 'why do you want to be 6 foot tall ?',\n",
       " 'i like to keep busy too',\n",
       " 'i also play video games . what hobbies do you have ?',\n",
       " 'oh , wow ! ! is she still your girlfriend ?',\n",
       " 'no not since i retired',\n",
       " 'what did you do for a living before you retired ?',\n",
       " 'that had to be an interesting life .',\n",
       " 'i had a lot of fun doing it',\n",
       " 'hello there ! is this thing on ?',\n",
       " 'why yes and hello there !',\n",
       " 'sure i would love to',\n",
       " 'hi my friend how are you',\n",
       " 'hi how are you today',\n",
       " 'nice , i grow them too at my farm',\n",
       " 'i do too in my spare time , i also play music when i am free',\n",
       " 'what type of music do you play',\n",
       " 'i play guitar when i am not working at the local community college . you ?',\n",
       " 'i ride my motorcycle or my horse any chance i get',\n",
       " 'hello , how are you today ?',\n",
       " 'aww . my mom is in poor health , so it is just me .',\n",
       " 'that is horrible , parents should not have to work so much .',\n",
       " 'it makes me popular at school but i feel like it is wrong',\n",
       " 'it is wrong . parents need to be there for their kids .',\n",
       " 'i mean cause she teacher , we have a big house',\n",
       " 'oh , yes . i was popular because i had a pool .',\n",
       " 'i hope he is alright now .',\n",
       " 'we took him 6 months ago',\n",
       " 'good evening . how are you doing ?',\n",
       " 'i am okay how are u',\n",
       " 'trying to think of new names to use in a romance novel .',\n",
       " 'that is good what else do you do besides writing books ?',\n",
       " 'whatever a person wants . what do you do for work ?',\n",
       " 'what do you want to do for your life long career ?',\n",
       " 'hello ! how are you today ?',\n",
       " 'i am great . how are you ?',\n",
       " 'fine ! i just got back in from playing basketball .',\n",
       " 'that is awesome . i do not have a job at the moment .',\n",
       " 'that is so exciting . i am glad you share my love of comics .',\n",
       " 'hey there , how are you ?',\n",
       " 'sounds boring . mine are brown . do you like music ?',\n",
       " 'i have not , why did you ?',\n",
       " 'my hair is blonde and i love pizza . you ?',\n",
       " 'yeah , that is the point though .',\n",
       " 'i do not i have computers though',\n",
       " 'what do you do for work i work at google',\n",
       " 'that is cool , you must be good at math',\n",
       " 'was that romantic ? i try to be',\n",
       " 'maybe it is , i not sure',\n",
       " 'i could play some jazz too .',\n",
       " 'that is cool since , when did you learn',\n",
       " 'cool sounds good , i love jazz',\n",
       " 'hi . . . . how are you doing today',\n",
       " 'i am well thanks and you ?',\n",
       " 'i am doing really good . . . . do you work ?',\n",
       " 'you won the lottery is that it ?',\n",
       " 'yes i use to work in phone sales but i will never have to work again',\n",
       " 'do you have a favorite singer ?',\n",
       " 'i just really love old country music of any kind . . . what about you',\n",
       " 'only want to be rich to be able to help as many people i could',\n",
       " 'hi , how are you ? tell me something about yourself !',\n",
       " 'i guess you like board games ? any other hobbies ?',\n",
       " 'sounds like you have a very interesting life ! any pets ?',\n",
       " 'hello there ! are you on the phone ?',\n",
       " 'i just love my i phone . i talk on it all the time .',\n",
       " 'haha . that is so cute ! i do not have any pets . too sick .',\n",
       " 'lucky . could you pay off my medical bills ?',\n",
       " 'tell me more about yourself . what do you like ?',\n",
       " 'i liked to run . i wish i could still run .',\n",
       " 'that is so cool ! was it hard ?',\n",
       " 'hello how are you this evening ?',\n",
       " 'i am as well . can you tell me a bit about yourself ?',\n",
       " 'they sure are . we do ! there are 8 girls and 2 boys .',\n",
       " 'hello how are today',\n",
       " 'i am doing good that is great to hear',\n",
       " 'no favorites here , i only listen to music when trying to relax',\n",
       " 'although i like to hear myself as in the shower when i sing',\n",
       " 'that sounds like fun . do you have a job ?',\n",
       " 'i do not think that would make me happy . you only live once .',\n",
       " 'hello , how are you doing ?',\n",
       " 'i am doing well just relaxing before work . you ?',\n",
       " 'good . just watching game of thrones .',\n",
       " 'so we have that in common lol . who is your fav character ?',\n",
       " 'what do you do for a living ?',\n",
       " 'i am a waitress currently . you ?',\n",
       " 'oh really . do you have family in the military ?',\n",
       " 'what do you do for a living',\n",
       " 'nothing i am lost but i trust that god will help me find the way .',\n",
       " 'i am always tired because of it i sleep 8 long hours a day',\n",
       " 'me too ! tell me about yourself .',\n",
       " 'well , i am currently in college , home is in california .',\n",
       " 'are you a man or a woman ?',\n",
       " 'i am a man . . . what about you ? i am always looking for a romantic relationship .',\n",
       " 'that is interesting . . . i have tons of friends but never met someone like you .',\n",
       " 'do you enjoy the outdoors ?',\n",
       " 'probably basketball because i can hang with all my friends . you ?',\n",
       " 'hello . wanna go to mcdonalds ?',\n",
       " 'no i would rather read to my twins',\n",
       " 'great . does any of your work make it into video games ? i love video games .',\n",
       " 'i do not want to work . i am fine living with mom dad .',\n",
       " 'that is all i do . and eat take out .',\n",
       " 'ugh , that would be a job .',\n",
       " 'well that would be fun would it not ?',\n",
       " 'what are you up to ?',\n",
       " 'oh i am about five seven now a days',\n",
       " 'lol . oh no , that is awful ! i love cream in my coffee',\n",
       " 'my dad once wrote about them in the new york times !',\n",
       " 'sweet ! do you like music ?',\n",
       " 'of course , but in texas , we hear mostly country music on the radio .',\n",
       " 'i love country ! and hip hop .',\n",
       " 'oh ! i am really sorry . i love babies',\n",
       " 'hi how are you today',\n",
       " 'i am doing well thanks for asking',\n",
       " 'where do you work at',\n",
       " 'i work for a hospital as a nurse . you ?',\n",
       " 'i just drive my toyota around',\n",
       " 'yes ! do you sell that ?',\n",
       " 'yeah i think its true haha',\n",
       " 'lets get to know each other',\n",
       " 'that is very cool . i do not draw but i do dance',\n",
       " 'i cant dance but i will learn once i get my new home',\n",
       " 'i have been taking dance since i was very little .',\n",
       " 'wow . how much is the pay ? help me get out of my apartment .',\n",
       " 'yes that sounds about right . my mom teaches music',\n",
       " 'i do not suppose she lives in paris ?',\n",
       " 'i wish cause that is where i would be . i need me a vacation .',\n",
       " 'thank you for chatting with me ! do you have any hobbies ?',\n",
       " 'i guess some restaurants are stick and waitress is hard too',\n",
       " 'oh awesome . i wish i had a boyfriend living alone sucks .',\n",
       " 'i hope all is well for you with the hurricane and everything .',\n",
       " 'hi how are you ?',\n",
       " 'hi . i am good . you ?',\n",
       " 'pretty good as well . what do you do for a living ?',\n",
       " 'i am a stay at home mom . you ?',\n",
       " 'i wish ! i am still looking for a job',\n",
       " 'haha . the worst part for me is grocery shopping for the family',\n",
       " 'thanks i am working on starting a vegetarian diet but its difficult !',\n",
       " 'hi how are you doing today',\n",
       " 'i am great just playing with my parrot',\n",
       " 'how old is your parrot',\n",
       " 'that is a funny thing to say',\n",
       " 'i have never been there . i am a chef .',\n",
       " 'where do you cook at',\n",
       " 'i work in a hospital',\n",
       " 'why not ? at least you could go out .',\n",
       " 'i just am weird like that i guess . i go out just not a lot .',\n",
       " 'i usually go to several rock concerts a year , i love it .',\n",
       " 'i would love to go to a rock concert but i am single',\n",
       " 'i am a cat person . but i bet you enjoy ice cream , it is my favorite .',\n",
       " 'i am online a lot i may check that game out .',\n",
       " 'i love to play it , but that could be because its part of my job too .',\n",
       " 'i think that is why i am single , i have 5 dogs',\n",
       " 'maybe you should hang out in a dog park and find another dog person .',\n",
       " 'hi how are you today',\n",
       " 'i am great ! i love being married',\n",
       " 'how long have you been married',\n",
       " 'wow that is a long time',\n",
       " 'yes , too long if you ask me',\n",
       " 'i thought you loved it',\n",
       " 'is that your job then',\n",
       " 'i am a really strong female',\n",
       " 'that does not need no man',\n",
       " 'way way too much of one',\n",
       " 'how is the weather then',\n",
       " 'it is terrible . too hot',\n",
       " 'nice . what do you like to do . i like photography .',\n",
       " 'i am a baker and to make up for it i go on a lot of walks .',\n",
       " 'oh nice . so are you the youngest in your family because i am .',\n",
       " 'i am an only child but my two cats are like siblings .',\n",
       " 'did you hear about the iphone ?',\n",
       " 'i heard its very expensive .',\n",
       " 'what do you do for work to afford such things ?',\n",
       " 'hey whats up with you right now ?',\n",
       " 'so what do you do for a living ?',\n",
       " 'cool . i have never had a job before',\n",
       " 'i love to creative art and can teach you to make a living from it',\n",
       " 'i have a degree in fashion design just never used it',\n",
       " 'or you can help me in my garden and i will pay you',\n",
       " 'oh that is not my cup of tea',\n",
       " 'me too ! i bet they are very good',\n",
       " 'oh ya ? what kind of food do you cook ?',\n",
       " 'run or swim . i like to keep my heart healthy',\n",
       " 'that is cool . ya i do not play a lot of video games . its just cool to watch',\n",
       " 'oh interesting , i am glad i got to learn all of this .',\n",
       " 'that is the seafood that i really like .',\n",
       " 'i like to sing , do you ?',\n",
       " 'your job seems better than my silly coffee house job .',\n",
       " 'google is the company that i go to . how about you ?',\n",
       " 'i am a student at michigan state',\n",
       " 'not really , my home town is quite far away .',\n",
       " ...]"
      ]
     },
     "execution_count": 25,
     "metadata": {},
     "output_type": "execute_result"
    }
   ],
   "source": [
    "sen_after_filter"
   ]
  },
  {
   "cell_type": "code",
   "execution_count": 26,
   "metadata": {
    "collapsed": true
   },
   "outputs": [],
   "source": [
    "import pickle\n",
    "with open('filtered_value50.pickle', 'wb') as f:\n",
    "    pickle.dump(sen_after_filter, f)"
   ]
  },
  {
   "cell_type": "code",
   "execution_count": 18,
   "metadata": {
    "collapsed": true
   },
   "outputs": [],
   "source": [
    "# load the sentence after filter\n",
    "import pickle\n",
    "with open('filtered_value50.pickle', 'rb') as f:\n",
    "    sen_after_filter = pickle.loads(f.read())"
   ]
  },
  {
   "cell_type": "markdown",
   "metadata": {},
   "source": [
    "### Tokenization and padding\n",
    "\n",
    "Now you will transform our filtered data into a format that is understandable by an ANN. To achieve that, you should transform words to integers, where single integers in the range [1,size of the dictionary] are mapped to single words in your dictionary. This process is commonly named 'tokenization'. In addition, we will keep the value 0 to a specific artificial word 'PADD' that will be used to account for the variable length of sentences and add to each sentence a 'START' and an 'END' word. \n",
    "\n",
    "**Code** Start by adding the three artificial words to your dictionary (list of possible tokens) and then translate every sentences to a list of integers. \n",
    "HINT: use the Python List index() method. [2 pts]\n",
    "\n",
    "**Figure** Use the violinplot to show the density of tokenized sentences length. [1pt]\n",
    "\n",
    "**Code** From this figure, select a maximum number (=maxlen) of tokens for which most of the sentences have less. Padd (and eventually truncate) all sentences with the 'PADD' token (value 0 in the integer representation) until all tokenized sentences have the same length (maxlen).\n",
    "HINT: use the pad_sequences function from keras.preprocessing.sequence [2 pts]\n",
    "\n",
    "**Code** Check that you can recover the original sentence. Randomly select two sentences from your integer and padded representation and translate them back using your dictionary. [1 pt]"
   ]
  },
  {
   "cell_type": "markdown",
   "metadata": {
    "collapsed": true
   },
   "source": [
    "**Code** Start by adding the three artificial words to your dictionary (list of possible tokens) and then translate every sentences to a list of integers. \n",
    "HINT: use the Python List index() method. [2 pts]"
   ]
  },
  {
   "cell_type": "code",
   "execution_count": 19,
   "metadata": {
    "collapsed": true
   },
   "outputs": [],
   "source": [
    "def transferToInd(sents):\n",
    "    words = list(set([w for sen in sents for w in sen.split(' ')]))\n",
    "    words = ['PADD'] + words + ['START', 'END']\n",
    "    sents_split = [sen.split(' ') for sen in sents]\n",
    "    \n",
    "    sents_token = [[words.index(w) for w in ['START'] + sen + ['END']] for sen in sents_split]\n",
    "    return words, sents_token"
   ]
  },
  {
   "cell_type": "code",
   "execution_count": 21,
   "metadata": {
    "collapsed": true
   },
   "outputs": [],
   "source": [
    "# get tokens, the sent_integer sequence\n",
    "tokens, sent_indseq = transferToInd(sen_after_filter)"
   ]
  },
  {
   "cell_type": "markdown",
   "metadata": {
    "collapsed": true
   },
   "source": [
    "**Figure** Use the violinplot to show the density of tokenized sentences length. [1pt]"
   ]
  },
  {
   "cell_type": "code",
   "execution_count": 25,
   "metadata": {
    "collapsed": true
   },
   "outputs": [],
   "source": [
    "sent_lens = [len(sen) for sen in sent_indseq]"
   ]
  },
  {
   "cell_type": "code",
   "execution_count": 26,
   "metadata": {},
   "outputs": [
    {
     "data": {
      "image/png": "[encoded data removed]",
      "text/plain": [
       "<Figure size 432x288 with 1 Axes>"
      ]
     },
     "metadata": {},
     "output_type": "display_data"
    }
   ],
   "source": [
    "plt.violinplot(sent_lens)\n",
    "plt.show()"
   ]
  },
  {
   "cell_type": "markdown",
   "metadata": {
    "collapsed": true
   },
   "source": [
    "**Code** From this figure, select a maximum number (=maxlen) of tokens for which most of the sentences have less. Padd (and eventually truncate) all sentences with the 'PADD' token (value 0 in the integer representation) until all tokenized sentences have the same length (maxlen).\n",
    "HINT: use the pad_sequences function from keras.preprocessing.sequence [2 pts]"
   ]
  },
  {
   "cell_type": "code",
   "execution_count": 8,
   "metadata": {},
   "outputs": [],
   "source": [
    "maxlen = 23"
   ]
  },
  {
   "cell_type": "code",
   "execution_count": 10,
   "metadata": {},
   "outputs": [],
   "source": [
    "def paddingAndTruncate(sent_inds):\n",
    "    sent_padding = keras.preprocessing.sequence.pad_sequences(sequences=sent_inds,\n",
    "                                                               maxlen=maxlen,\n",
    "                                                               dtype=np.int,\n",
    "                                                               padding='post',\n",
    "                                                               truncating='post',\n",
    "                                                               value=0)\n",
    "    return sent_padding"
   ]
  },
  {
   "cell_type": "code",
   "execution_count": 24,
   "metadata": {
    "collapsed": true
   },
   "outputs": [],
   "source": [
    "sent_padded = paddingAndTruncate(sent_indseq)"
   ]
  },
  {
   "cell_type": "code",
   "execution_count": 25,
   "metadata": {},
   "outputs": [
    {
     "data": {
      "text/plain": [
       "array([[1644,  870, 1343, ...,    0,    0,    0],\n",
       "       [1644, 1230,  418, ...,    0,    0,    0],\n",
       "       [1644, 1471,  418, ...,    0,    0,    0],\n",
       "       ...,\n",
       "       [1644,  286,  714, ...,    0,    0,    0],\n",
       "       [1644,  714,  694, ...,    0,    0,    0],\n",
       "       [1644,  909, 1147, ...,    0,    0,    0]])"
      ]
     },
     "execution_count": 25,
     "metadata": {},
     "output_type": "execute_result"
    }
   ],
   "source": [
    "sent_padded"
   ]
  },
  {
   "cell_type": "markdown",
   "metadata": {},
   "source": [
    "**Code** Check that you can recover the original sentence. Randomly select two sentences from your integer and padded representation and translate them back using your dictionary. [1 pt]"
   ]
  },
  {
   "cell_type": "code",
   "execution_count": 26,
   "metadata": {
    "collapsed": true
   },
   "outputs": [],
   "source": [
    "def paddedToSent(sent_padded, words, splited=True):\n",
    "    pos = 1\n",
    "    sent_recover= []\n",
    "    while pos < len(sent_padded) and words[sent_padded[pos]] != 'END':\n",
    "        sent_recover.append(words[sent_padded[pos]])\n",
    "        pos += 1\n",
    "    \n",
    "    if splited:\n",
    "        return sent_recover\n",
    "    else:\n",
    "        return ' '.join(sent_recover)"
   ]
  },
  {
   "cell_type": "code",
   "execution_count": 27,
   "metadata": {
    "collapsed": true
   },
   "outputs": [],
   "source": [
    "def paddedsToSents(sents_padded, words, splited=True):\n",
    "    sents_recover = [paddedToSent(sent, words, splited) for sent in sents_padded]\n",
    "    return sents_recover"
   ]
  },
  {
   "cell_type": "code",
   "execution_count": 30,
   "metadata": {
    "scrolled": true
   },
   "outputs": [
    {
     "data": {
      "text/plain": [
       "['you must be very fast . hunting is one of my favorite hobbies .',\n",
       " 'that is awesome . do you have a favorite season or time of year ?',\n",
       " 'what is your favorite meat to eat ?',\n",
       " 'hi , how are you doing today ?',\n",
       " 'i am spending time with my 4 sisters what are you up to',\n",
       " 'wow , four sisters . just watching game of thrones .',\n",
       " 'i agree . what do you do for a living ?',\n",
       " 'that is cool my mom does the same thing',\n",
       " 'that is awesome . i have always had a love for technology .',\n",
       " 'tell me more about yourself',\n",
       " 'i really enjoy free diving , how about you , have any hobbies ?',\n",
       " 'i enjoy hanging with my mother she is my best friend',\n",
       " 'that is nice . moms are pretty cool too .',\n",
       " 'hi ! that is a great line for my next stand up .',\n",
       " 'lol . i am shy , anything to break the ice , and i am a beatles fan .',\n",
       " 'i can tell . i am not , you can see me in some tv shows',\n",
       " 'really ? what shows ? i like tv , it makes me forget i do not like my family',\n",
       " 'wow , i wish i had a big family . i grew up in a very small town .',\n",
       " 'i did too . i do not get along with mine . they have no class .',\n",
       " 'those are really yummy too , but not my favorite .']"
      ]
     },
     "execution_count": 30,
     "metadata": {},
     "output_type": "execute_result"
    }
   ],
   "source": [
    "sents_recover = paddedsToSents(sent_padded, tokens, splited=False)\n",
    "sents_recover[:20]"
   ]
  },
  {
   "cell_type": "code",
   "execution_count": 31,
   "metadata": {},
   "outputs": [
    {
     "data": {
      "text/plain": [
       "['you must be very fast . hunting is one of my favorite hobbies .',\n",
       " 'that is awesome . do you have a favorite season or time of year ?',\n",
       " 'what is your favorite meat to eat ?',\n",
       " 'hi , how are you doing today ?',\n",
       " 'i am spending time with my 4 sisters what are you up to',\n",
       " 'wow , four sisters . just watching game of thrones .',\n",
       " 'i agree . what do you do for a living ?',\n",
       " 'that is cool my mom does the same thing',\n",
       " 'that is awesome . i have always had a love for technology .',\n",
       " 'tell me more about yourself',\n",
       " 'i really enjoy free diving , how about you , have any hobbies ?',\n",
       " 'i enjoy hanging with my mother she is my best friend',\n",
       " 'that is nice . moms are pretty cool too .',\n",
       " 'hi ! that is a great line for my next stand up .',\n",
       " 'lol . i am shy , anything to break the ice , and i am a beatles fan .',\n",
       " 'i can tell . i am not , you can see me in some tv shows',\n",
       " 'really ? what shows ? i like tv , it makes me forget i do not like my family',\n",
       " 'wow , i wish i had a big family . i grew up in a very small town .',\n",
       " 'i did too . i do not get along with mine . they have no class .',\n",
       " 'those are really yummy too , but not my favorite .']"
      ]
     },
     "execution_count": 31,
     "metadata": {},
     "output_type": "execute_result"
    }
   ],
   "source": [
    "sen_after_filter[:20]"
   ]
  },
  {
   "cell_type": "markdown",
   "metadata": {},
   "source": [
    "### Saving\n",
    "\n",
    "Now is a good time to save your data (end of processing). An example code using the pickle library is shown below.\n"
   ]
  },
  {
   "cell_type": "code",
   "execution_count": 33,
   "metadata": {
    "collapsed": true
   },
   "outputs": [],
   "source": [
    "import pickle\n",
    "\n",
    "#save\n",
    "with open(\"data.pkl\", \"wb\") as file:\n",
    "    pickle.dump([sen_after_filter, sent_indseq, sent_padded, tokens], file)"
   ]
  },
  {
   "cell_type": "code",
   "execution_count": 6,
   "metadata": {},
   "outputs": [],
   "source": [
    "import pickle\n",
    "#load\n",
    "with open(\"data.pkl\", \"rb\") as file:\n",
    "    [sen_after_filter, sent_indseq, sent_padded, tokens] = pickle.load(file)"
   ]
  },
  {
   "cell_type": "markdown",
   "metadata": {},
   "source": [
    "## Building and training generative models of language"
   ]
  },
  {
   "cell_type": "markdown",
   "metadata": {},
   "source": [
    "### RNN vs LSTM vs GRU \n",
    "\n",
    "Build, train and compare generative models of language based on RNNs with different recurrent units (SimpleRNN, GRU and LSTM). \n",
    "\n",
    "The target of the network will be to approximate the word transition probabilities Pr(word[n+1]|H[n]) with H[n]=f(word[:n]) being the hidden state of the network.  \n",
    "\n",
    "**code** You should complete the proposed model (using the Keras API rather than the Sequential model for more flexibility). Be sure to understand each line. The embedding layer allows to transform an integer to a dense vector. That would be our input to the recurrent network - each sentence is mapped to a sequence of vectors, each representing a single word. You can then design your own readout(s) and output layers. By default, use the proposed meta parameters. You can adapt them if you have more or less computing power (32 epochs should take around 30 minutes). [2 pts]\n",
    "\n",
    "**Question** How will your networks deal with the artificial word 'PADD' that you added at the end of each sentences  [2 pts]\n",
    "\n",
    "**Answer**\n",
    "\n",
    "**code** Then train three different networks with the same architecture but using different recurrent units (simpleRNN, GRU and LSTM). Save the learning history (training/validation loss and accuracy for each epoch) as well as the models. [1 pt]\n",
    "\n",
    "**Question** How can you use this network to approximate the word transition probabilities? What will be the inputs and targets of the network at each batch? Give the input/output tensor dimensions. [2 pts]\n",
    "\n",
    "**Answer**\n",
    "\n",
    "**Figure** Show the learning curves (training and validation loss) for the different recurrent units. [1 pt]\n",
    "\n",
    "**Figure** Show the learning curves (training and validation accuracy) for the different recurrent units. [1 pt]\n",
    "\n",
    "**Question:** Which recurrent unit yields the best validation accuracy? Which is the fastest learner? [1 pt]\n",
    "\n",
    "**Answer**: \n",
    "\n",
    "**Question:** Do you observe an overfitting effect? Where and for which case? Give a possible explanation. [1 pt] \n",
    "\n",
    "**Answer**: \n",
    "\n",
    "**Question:** Suggest one option modifying your dataset to decrease overfitting. [1 pt]\n",
    "\n",
    "**Answer**: \n",
    "\n",
    "**Question:** Suggest one possible option modifying your network to decrease overfitting. [1 pt]\n",
    "\n",
    "**Answer**: \n",
    "\n",
    "**Question:** Suggest one possible option modifying the training modalities to counter overfitting. [1 pt]   \n",
    "\n",
    "**Answer**: "
   ]
  },
  {
   "cell_type": "markdown",
   "metadata": {},
   "source": [
    "**code** You should complete the proposed model (using the Keras API rather than the Sequential model for more flexibility). Be sure to understand each line. The embedding layer allows to transform an integer to a dense vector. That would be our input to the recurrent network - each sentence is mapped to a sequence of vectors, each representing a single word. You can then design your own readout(s) and output layers. By default, use the proposed meta parameters. You can adapt them if you have more or less computing power (32 epochs should take around 30 minutes). [2 pts]"
   ]
  },
  {
   "cell_type": "code",
   "execution_count": 96,
   "metadata": {
    "collapsed": true
   },
   "outputs": [],
   "source": [
    "#Meta-parameters\n",
    "embedding_size = 128\n",
    "hidden_size = 64\n",
    "dropout = 0.\n",
    "recurrent_dropout = 0.\n",
    "\n",
    "batch_size = 64\n",
    "epochs = 32\n",
    "validation_split = 0.2\n",
    "\n",
    "dataset_cut = -1\n",
    "readout_size = 256"
   ]
  },
  {
   "cell_type": "code",
   "execution_count": 97,
   "metadata": {
    "collapsed": true
   },
   "outputs": [],
   "source": [
    "I = {}\n",
    "E = {}\n",
    "H = {}\n",
    "R = {}\n",
    "Y = {}\n",
    "models = {}\n",
    "logs = {}"
   ]
  },
  {
   "cell_type": "code",
   "execution_count": 100,
   "metadata": {
    "collapsed": true
   },
   "outputs": [],
   "source": [
    "from keras.utils import to_categorical\n",
    "X = sent_padded.astype(np.int)\n",
    "\n",
    "T = [to_categorical(sen, num_classes=len(tokens)) for sen in X]\n",
    "T = np.array(T)"
   ]
  },
  {
   "cell_type": "markdown",
   "metadata": {},
   "source": [
    "### simpleRNN"
   ]
  },
  {
   "cell_type": "code",
   "execution_count": 45,
   "metadata": {
    "scrolled": true
   },
   "outputs": [
    {
     "name": "stdout",
     "output_type": "stream",
     "text": [
      "_________________________________________________________________\n",
      "Layer (type)                 Output Shape              Param #   \n",
      "=================================================================\n",
      "input (InputLayer)           (None, 22)                0         \n",
      "_________________________________________________________________\n",
      "embedding (Embedding)        (None, 22, 128)           210688    \n",
      "_________________________________________________________________\n",
      "simple_rnn_2 (SimpleRNN)     (None, 22, 64)            12352     \n",
      "_________________________________________________________________\n",
      "time_distributed_3 (TimeDist (None, 22, 100)           6500      \n",
      "_________________________________________________________________\n",
      "time_distributed_4 (TimeDist (None, 22, 1646)          166246    \n",
      "=================================================================\n",
      "Total params: 395,786\n",
      "Trainable params: 395,786\n",
      "Non-trainable params: 0\n",
      "_________________________________________________________________\n",
      "(67024, 22) (67024, 22, 1646)\n",
      "Train on 53618 samples, validate on 13405 samples\n",
      "Epoch 1/32\n",
      "53618/53618 [==============================] - 87s 2ms/step - loss: 3.8448 - acc: 0.3024 - val_loss: 3.3042 - val_acc: 0.3678\n",
      "Epoch 2/32\n",
      "53618/53618 [==============================] - 83s 2ms/step - loss: 3.1905 - acc: 0.3790 - val_loss: 3.1168 - val_acc: 0.3873\n",
      "Epoch 3/32\n",
      "53618/53618 [==============================] - 81s 2ms/step - loss: 3.0461 - acc: 0.3925 - val_loss: 3.0346 - val_acc: 0.3962\n",
      "Epoch 4/32\n",
      "53618/53618 [==============================] - 80s 1ms/step - loss: 2.9647 - acc: 0.4001 - val_loss: 2.9852 - val_acc: 0.4015\n",
      "Epoch 5/32\n",
      "53618/53618 [==============================] - 81s 2ms/step - loss: 2.9084 - acc: 0.4056 - val_loss: 2.9537 - val_acc: 0.4049\n",
      "Epoch 6/32\n",
      "53618/53618 [==============================] - 81s 2ms/step - loss: 2.8663 - acc: 0.4094 - val_loss: 2.9319 - val_acc: 0.4071\n",
      "Epoch 7/32\n",
      "53618/53618 [==============================] - 80s 1ms/step - loss: 2.8325 - acc: 0.4121 - val_loss: 2.9175 - val_acc: 0.4072\n",
      "Epoch 8/32\n",
      "53618/53618 [==============================] - 81s 2ms/step - loss: 2.8040 - acc: 0.4150 - val_loss: 2.9080 - val_acc: 0.4090\n",
      "Epoch 9/32\n",
      "53618/53618 [==============================] - 80s 1ms/step - loss: 2.7802 - acc: 0.4171 - val_loss: 2.8976 - val_acc: 0.4110\n",
      "Epoch 10/32\n",
      "53618/53618 [==============================] - 81s 2ms/step - loss: 2.7586 - acc: 0.4192 - val_loss: 2.8919 - val_acc: 0.4106\n",
      "Epoch 11/32\n",
      "53618/53618 [==============================] - 80s 1ms/step - loss: 2.7403 - acc: 0.4208 - val_loss: 2.8848 - val_acc: 0.4130\n",
      "Epoch 12/32\n",
      "53618/53618 [==============================] - 81s 2ms/step - loss: 2.7239 - acc: 0.4222 - val_loss: 2.8890 - val_acc: 0.4097\n",
      "Epoch 13/32\n",
      "53618/53618 [==============================] - 84s 2ms/step - loss: 2.7097 - acc: 0.4233 - val_loss: 2.8815 - val_acc: 0.4135\n",
      "Epoch 14/32\n",
      "53618/53618 [==============================] - 82s 2ms/step - loss: 2.6960 - acc: 0.4249 - val_loss: 2.8787 - val_acc: 0.4142\n",
      "Epoch 15/32\n",
      "53618/53618 [==============================] - 81s 2ms/step - loss: 2.6838 - acc: 0.4258 - val_loss: 2.8814 - val_acc: 0.4128\n",
      "Epoch 16/32\n",
      "53618/53618 [==============================] - 81s 2ms/step - loss: 2.6722 - acc: 0.4271 - val_loss: 2.8793 - val_acc: 0.4125\n",
      "Epoch 17/32\n",
      "53618/53618 [==============================] - 82s 2ms/step - loss: 2.6624 - acc: 0.4280 - val_loss: 2.8833 - val_acc: 0.4118\n",
      "Epoch 18/32\n",
      "53618/53618 [==============================] - 82s 2ms/step - loss: 2.6534 - acc: 0.4285 - val_loss: 2.8802 - val_acc: 0.4155\n",
      "Epoch 19/32\n",
      "53618/53618 [==============================] - 82s 2ms/step - loss: 2.6442 - acc: 0.4294 - val_loss: 2.8845 - val_acc: 0.4133\n",
      "Epoch 20/32\n",
      "53618/53618 [==============================] - 82s 2ms/step - loss: 2.6364 - acc: 0.4307 - val_loss: 2.8868 - val_acc: 0.4153\n",
      "Epoch 21/32\n",
      "53618/53618 [==============================] - 83s 2ms/step - loss: 2.6291 - acc: 0.4307 - val_loss: 2.8898 - val_acc: 0.4125\n",
      "Epoch 22/32\n",
      "53618/53618 [==============================] - 83s 2ms/step - loss: 2.6211 - acc: 0.4314 - val_loss: 2.8916 - val_acc: 0.4135\n",
      "Epoch 23/32\n",
      "53618/53618 [==============================] - 83s 2ms/step - loss: 2.6149 - acc: 0.4321 - val_loss: 2.8947 - val_acc: 0.4157\n",
      "Epoch 24/32\n",
      "53618/53618 [==============================] - 84s 2ms/step - loss: 2.6089 - acc: 0.4329 - val_loss: 2.8978 - val_acc: 0.4143\n",
      "Epoch 25/32\n",
      "53618/53618 [==============================] - 86s 2ms/step - loss: 2.6033 - acc: 0.4330 - val_loss: 2.8977 - val_acc: 0.4149\n",
      "Epoch 26/32\n",
      "53618/53618 [==============================] - 84s 2ms/step - loss: 2.5978 - acc: 0.4338 - val_loss: 2.9011 - val_acc: 0.4144\n",
      "Epoch 27/32\n",
      "53618/53618 [==============================] - 84s 2ms/step - loss: 2.5929 - acc: 0.4348 - val_loss: 2.9049 - val_acc: 0.4132\n",
      "Epoch 28/32\n",
      "53618/53618 [==============================] - 85s 2ms/step - loss: 2.5877 - acc: 0.4345 - val_loss: 2.9082 - val_acc: 0.4137\n",
      "Epoch 29/32\n",
      "53618/53618 [==============================] - 85s 2ms/step - loss: 2.5834 - acc: 0.4353 - val_loss: 2.9068 - val_acc: 0.4144\n",
      "Epoch 30/32\n",
      "53618/53618 [==============================] - 85s 2ms/step - loss: 2.5789 - acc: 0.4353 - val_loss: 2.9082 - val_acc: 0.4153\n",
      "Epoch 31/32\n",
      "53618/53618 [==============================] - 86s 2ms/step - loss: 2.5746 - acc: 0.4361 - val_loss: 2.9155 - val_acc: 0.4145\n",
      "Epoch 32/32\n",
      "53618/53618 [==============================] - 86s 2ms/step - loss: 2.5707 - acc: 0.4367 - val_loss: 2.9154 - val_acc: 0.4135\n"
     ]
    }
   ],
   "source": [
    "#Model suggestion\n",
    "I['RNN'] = Input(shape=(maxlen-1,), name=\"input\")\n",
    "E['RNN'] = Embedding(len(tokens), embedding_size, mask_zero=True, name=\"embedding\")(I['RNN'])\n",
    "\n",
    "#your network here\n",
    "H['RNN'] = SimpleRNN(units=hidden_size, return_sequences=True)(E['RNN'])\n",
    "\n",
    "R['RNN'] = TimeDistributed(Dense(readout_size, activation='relu'))(H['RNN'])\n",
    "Y['RNN'] = TimeDistributed(Dense(len(words_set), activation='softmax'))(R['RNN'])\n",
    "\n",
    "models['RNN'] = Model(inputs = [I['RNN']], outputs = [Y['RNN']])\n",
    "models['RNN'].compile(\n",
    "    loss='categorical_crossentropy', \n",
    "    optimizer=Adam(),\n",
    "    metrics=['acc'])\n",
    "models['RNN'].summary()\n",
    "\n",
    "print(X[:,:-1].shape, T[:,1:].shape)\n",
    "# {'input': X[:dataset_cut,:-1]}, {'output': T[:dataset_cut,1:]},\n",
    "logs['RNN'] = models['RNN'].fit([X[:dataset_cut,:-1]], [T[:dataset_cut,1:]],\n",
    "                                    epochs=epochs, \n",
    "                                    validation_split=validation_split, \n",
    "                                    batch_size=batch_size).history\n",
    "\n",
    "#save\n",
    "with open(\"RNNmodel_\"+str(embedding_size)+'_'+str(hidden_size)+\"_log.pkl\", \"wb\") as file:\n",
    "    pickle.dump(logs['RNN'], file)\n",
    "models['RNN'].save(\"RNNmodel_\"+str(embedding_size)+'_'+str(hidden_size))"
   ]
  },
  {
   "cell_type": "code",
   "execution_count": 5,
   "metadata": {
    "collapsed": true
   },
   "outputs": [],
   "source": [
    "#load\n",
    "with open(\"RNNmodel_\"+str(embedding_size)+'_'+str(hidden_size)+\"_log.pkl\", \"rb\") as file:\n",
    "    RNNmodel_log = pickle.load(file)\n",
    "RNNmodel = load_model(\"RNNmodel_\"+str(embedding_size)+'_'+str(hidden_size))"
   ]
  },
  {
   "cell_type": "markdown",
   "metadata": {},
   "source": [
    "### LSTM"
   ]
  },
  {
   "cell_type": "code",
   "execution_count": 46,
   "metadata": {
    "scrolled": true
   },
   "outputs": [
    {
     "name": "stdout",
     "output_type": "stream",
     "text": [
      "_________________________________________________________________\n",
      "Layer (type)                 Output Shape              Param #   \n",
      "=================================================================\n",
      "input (InputLayer)           (None, 22)                0         \n",
      "_________________________________________________________________\n",
      "embedding (Embedding)        (None, 22, 128)           210688    \n",
      "_________________________________________________________________\n",
      "lstm_1 (LSTM)                (None, 22, 64)            49408     \n",
      "_________________________________________________________________\n",
      "time_distributed_5 (TimeDist (None, 22, 100)           6500      \n",
      "_________________________________________________________________\n",
      "time_distributed_6 (TimeDist (None, 22, 1646)          166246    \n",
      "=================================================================\n",
      "Total params: 432,842\n",
      "Trainable params: 432,842\n",
      "Non-trainable params: 0\n",
      "_________________________________________________________________\n",
      "(67024, 22) (67024, 22, 1646)\n",
      "Train on 53618 samples, validate on 13405 samples\n",
      "Epoch 1/32\n",
      "53618/53618 [==============================] - 120s 2ms/step - loss: 4.1399 - acc: 0.2593 - val_loss: 3.4680 - val_acc: 0.3504\n",
      "Epoch 2/32\n",
      "53618/53618 [==============================] - 119s 2ms/step - loss: 3.3193 - acc: 0.3658 - val_loss: 3.2071 - val_acc: 0.3782\n",
      "Epoch 3/32\n",
      "53618/53618 [==============================] - 118s 2ms/step - loss: 3.1261 - acc: 0.3848 - val_loss: 3.0824 - val_acc: 0.3917\n",
      "Epoch 4/32\n",
      "53618/53618 [==============================] - 118s 2ms/step - loss: 3.0204 - acc: 0.3951 - val_loss: 3.0139 - val_acc: 0.3989\n",
      "Epoch 5/32\n",
      "53618/53618 [==============================] - 119s 2ms/step - loss: 2.9508 - acc: 0.4019 - val_loss: 2.9680 - val_acc: 0.4033\n",
      "Epoch 6/32\n",
      "53618/53618 [==============================] - 118s 2ms/step - loss: 2.8998 - acc: 0.4076 - val_loss: 2.9332 - val_acc: 0.4066\n",
      "Epoch 7/32\n",
      "53618/53618 [==============================] - 119s 2ms/step - loss: 2.8598 - acc: 0.4117 - val_loss: 2.9119 - val_acc: 0.4095\n",
      "Epoch 8/32\n",
      "53618/53618 [==============================] - 119s 2ms/step - loss: 2.8260 - acc: 0.4150 - val_loss: 2.8925 - val_acc: 0.4116\n",
      "Epoch 9/32\n",
      "53618/53618 [==============================] - 119s 2ms/step - loss: 2.7968 - acc: 0.4178 - val_loss: 2.8808 - val_acc: 0.4122\n",
      "Epoch 10/32\n",
      "53618/53618 [==============================] - 120s 2ms/step - loss: 2.7709 - acc: 0.4198 - val_loss: 2.8679 - val_acc: 0.4148\n",
      "Epoch 11/32\n",
      "53618/53618 [==============================] - 119s 2ms/step - loss: 2.7479 - acc: 0.4225 - val_loss: 2.8587 - val_acc: 0.4148\n",
      "Epoch 12/32\n",
      "53618/53618 [==============================] - 118s 2ms/step - loss: 2.7278 - acc: 0.4248 - val_loss: 2.8497 - val_acc: 0.4162\n",
      "Epoch 13/32\n",
      "53618/53618 [==============================] - 119s 2ms/step - loss: 2.7083 - acc: 0.4264 - val_loss: 2.8445 - val_acc: 0.4172\n",
      "Epoch 14/32\n",
      "53618/53618 [==============================] - 118s 2ms/step - loss: 2.6910 - acc: 0.4284 - val_loss: 2.8387 - val_acc: 0.4188\n",
      "Epoch 15/32\n",
      "53618/53618 [==============================] - 120s 2ms/step - loss: 2.6747 - acc: 0.4303 - val_loss: 2.8355 - val_acc: 0.4182\n",
      "Epoch 16/32\n",
      "53618/53618 [==============================] - 119s 2ms/step - loss: 2.6600 - acc: 0.4313 - val_loss: 2.8327 - val_acc: 0.4196\n",
      "Epoch 17/32\n",
      "53618/53618 [==============================] - 119s 2ms/step - loss: 2.6460 - acc: 0.4331 - val_loss: 2.8322 - val_acc: 0.4188\n",
      "Epoch 18/32\n",
      "53618/53618 [==============================] - 120s 2ms/step - loss: 2.6331 - acc: 0.4347 - val_loss: 2.8321 - val_acc: 0.4203\n",
      "Epoch 19/32\n",
      "53618/53618 [==============================] - 120s 2ms/step - loss: 2.6203 - acc: 0.4355 - val_loss: 2.8305 - val_acc: 0.4206\n",
      "Epoch 20/32\n",
      "53618/53618 [==============================] - 120s 2ms/step - loss: 2.6087 - acc: 0.4370 - val_loss: 2.8303 - val_acc: 0.4206\n",
      "Epoch 21/32\n",
      "53618/53618 [==============================] - 121s 2ms/step - loss: 2.5979 - acc: 0.4384 - val_loss: 2.8338 - val_acc: 0.4201\n",
      "Epoch 22/32\n",
      "53618/53618 [==============================] - 120s 2ms/step - loss: 2.5870 - acc: 0.4393 - val_loss: 2.8334 - val_acc: 0.4217\n",
      "Epoch 23/32\n",
      "53618/53618 [==============================] - 123s 2ms/step - loss: 2.5768 - acc: 0.4406 - val_loss: 2.8336 - val_acc: 0.4221\n",
      "Epoch 24/32\n",
      "53618/53618 [==============================] - 121s 2ms/step - loss: 2.5674 - acc: 0.4415 - val_loss: 2.8351 - val_acc: 0.4221\n",
      "Epoch 25/32\n",
      "53618/53618 [==============================] - 122s 2ms/step - loss: 2.5576 - acc: 0.4427 - val_loss: 2.8373 - val_acc: 0.4225\n",
      "Epoch 26/32\n",
      "53618/53618 [==============================] - 122s 2ms/step - loss: 2.5492 - acc: 0.4439 - val_loss: 2.8361 - val_acc: 0.4220\n",
      "Epoch 27/32\n",
      "53618/53618 [==============================] - 122s 2ms/step - loss: 2.5404 - acc: 0.4448 - val_loss: 2.8433 - val_acc: 0.4216\n",
      "Epoch 28/32\n",
      "53618/53618 [==============================] - 123s 2ms/step - loss: 2.5321 - acc: 0.4454 - val_loss: 2.8456 - val_acc: 0.4217\n",
      "Epoch 29/32\n",
      "53618/53618 [==============================] - 122s 2ms/step - loss: 2.5243 - acc: 0.4465 - val_loss: 2.8496 - val_acc: 0.4212\n",
      "Epoch 30/32\n",
      "53618/53618 [==============================] - 124s 2ms/step - loss: 2.5165 - acc: 0.4477 - val_loss: 2.8510 - val_acc: 0.4204\n",
      "Epoch 31/32\n",
      "53618/53618 [==============================] - 124s 2ms/step - loss: 2.5089 - acc: 0.4485 - val_loss: 2.8551 - val_acc: 0.4221\n",
      "Epoch 32/32\n",
      "53618/53618 [==============================] - 124s 2ms/step - loss: 2.5019 - acc: 0.4495 - val_loss: 2.8582 - val_acc: 0.4215\n"
     ]
    }
   ],
   "source": [
    "#Model suggestion\n",
    "I['LSTM'] = Input(shape=(maxlen-1,), name=\"input\")\n",
    "E['LSTM'] = Embedding(len(tokens), embedding_size, mask_zero=True, name=\"embedding\")(I['LSTM'])\n",
    "\n",
    "#your network here\n",
    "H['LSTM'] = LSTM(units=hidden_size, return_sequences=True)(E['LSTM'])\n",
    "\n",
    "R['LSTM'] = TimeDistributed(Dense(readout_size, activation='relu'))(H['LSTM'])\n",
    "Y['LSTM'] = TimeDistributed(Dense(len(words_set), activation='softmax'))(R['LSTM'])\n",
    "\n",
    "models['LSTM'] = Model(inputs = [I['LSTM']], outputs = [Y['LSTM']])\n",
    "models['LSTM'].compile(\n",
    "    loss='categorical_crossentropy', \n",
    "    optimizer=Adam(),\n",
    "    metrics=['acc'])\n",
    "models['LSTM'].summary()\n",
    "\n",
    "print(X[:,:-1].shape, T[:,1:].shape)\n",
    "# {'input': X[:dataset_cut,:-1]}, {'output': T[:dataset_cut,1:]},\n",
    "logs['LSTM'] = models['LSTM'].fit([X[:dataset_cut,:-1]], [T[:dataset_cut,1:]],\n",
    "                                    epochs=epochs, \n",
    "                                    validation_split=validation_split, \n",
    "                                    batch_size=batch_size).history\n",
    "\n",
    "#save\n",
    "with open(\"LSTMmodel_\"+str(embedding_size)+'_'+str(hidden_size)+\"_log.pkl\", \"wb\") as file:\n",
    "    pickle.dump(logs['LSTM'], file)\n",
    "models['LSTM'].save(\"LSTMmodel_\"+str(embedding_size)+'_'+str(hidden_size))"
   ]
  },
  {
   "cell_type": "code",
   "execution_count": 6,
   "metadata": {
    "collapsed": true
   },
   "outputs": [],
   "source": [
    "#load\n",
    "with open(\"LSTMmodel_\"+str(embedding_size)+'_'+str(hidden_size)+\"_log.pkl\", \"rb\") as file:\n",
    "    LSTMmodel_log = pickle.load(file)\n",
    "LSTMmodel = load_model(\"LSTMmodel_\"+str(embedding_size)+'_'+str(hidden_size))"
   ]
  },
  {
   "cell_type": "markdown",
   "metadata": {},
   "source": [
    "### GRU"
   ]
  },
  {
   "cell_type": "code",
   "execution_count": 46,
   "metadata": {},
   "outputs": [
    {
     "name": "stdout",
     "output_type": "stream",
     "text": [
      "_________________________________________________________________\n",
      "Layer (type)                 Output Shape              Param #   \n",
      "=================================================================\n",
      "input (InputLayer)           (None, 22)                0         \n",
      "_________________________________________________________________\n",
      "embedding (Embedding)        (None, 22, 128)           210688    \n",
      "_________________________________________________________________\n",
      "gru_1 (GRU)                  (None, 22, 64)            37056     \n",
      "_________________________________________________________________\n",
      "time_distributed_1 (TimeDist (None, 22, 256)           16640     \n",
      "_________________________________________________________________\n",
      "time_distributed_2 (TimeDist (None, 22, 1646)          423022    \n",
      "=================================================================\n",
      "Total params: 687,406\n",
      "Trainable params: 687,406\n",
      "Non-trainable params: 0\n",
      "_________________________________________________________________\n",
      "(67024, 22) (67024, 22, 1646)\n",
      "Train on 53618 samples, validate on 13405 samples\n",
      "Epoch 1/32\n",
      "53618/53618 [==============================] - 105s 2ms/step - loss: 3.8384 - acc: 0.3046 - val_loss: 3.2539 - val_acc: 0.3675\n",
      "Epoch 2/32\n",
      "53618/53618 [==============================] - 102s 2ms/step - loss: 3.1202 - acc: 0.3838 - val_loss: 3.0364 - val_acc: 0.3951\n",
      "Epoch 3/32\n",
      "53618/53618 [==============================] - 115s 2ms/step - loss: 2.9569 - acc: 0.4001 - val_loss: 2.9426 - val_acc: 0.4055\n",
      "Epoch 4/32\n",
      "53618/53618 [==============================] - 101s 2ms/step - loss: 2.8621 - acc: 0.4090 - val_loss: 2.8907 - val_acc: 0.4098\n",
      "Epoch 5/32\n",
      "53618/53618 [==============================] - 102s 2ms/step - loss: 2.7956 - acc: 0.4156 - val_loss: 2.8525 - val_acc: 0.4140\n",
      "Epoch 6/32\n",
      "53618/53618 [==============================] - 100s 2ms/step - loss: 2.7427 - acc: 0.4205 - val_loss: 2.8287 - val_acc: 0.4167\n",
      "Epoch 7/32\n",
      "53618/53618 [==============================] - 102s 2ms/step - loss: 2.7012 - acc: 0.4246 - val_loss: 2.8170 - val_acc: 0.4180\n",
      "Epoch 8/32\n",
      "53618/53618 [==============================] - 101s 2ms/step - loss: 2.6646 - acc: 0.4286 - val_loss: 2.8057 - val_acc: 0.4203\n",
      "Epoch 9/32\n",
      "53618/53618 [==============================] - 101s 2ms/step - loss: 2.6342 - acc: 0.4316 - val_loss: 2.7979 - val_acc: 0.4224\n",
      "Epoch 10/32\n",
      "53618/53618 [==============================] - 100s 2ms/step - loss: 2.6062 - acc: 0.4339 - val_loss: 2.7946 - val_acc: 0.4233\n",
      "Epoch 11/32\n",
      "53618/53618 [==============================] - 102s 2ms/step - loss: 2.5810 - acc: 0.4362 - val_loss: 2.7946 - val_acc: 0.4243\n",
      "Epoch 12/32\n",
      "53618/53618 [==============================] - 102s 2ms/step - loss: 2.5582 - acc: 0.4381 - val_loss: 2.7962 - val_acc: 0.4249\n",
      "Epoch 13/32\n",
      "53618/53618 [==============================] - 103s 2ms/step - loss: 2.5375 - acc: 0.4408 - val_loss: 2.7972 - val_acc: 0.4246\n",
      "Epoch 14/32\n",
      "53618/53618 [==============================] - 103s 2ms/step - loss: 2.5168 - acc: 0.4427 - val_loss: 2.8035 - val_acc: 0.4244\n",
      "Epoch 15/32\n",
      "53618/53618 [==============================] - 103s 2ms/step - loss: 2.4987 - acc: 0.4442 - val_loss: 2.8065 - val_acc: 0.4250\n",
      "Epoch 16/32\n",
      "53618/53618 [==============================] - 106s 2ms/step - loss: 2.4809 - acc: 0.4464 - val_loss: 2.8116 - val_acc: 0.4231\n",
      "Epoch 17/32\n",
      "53618/53618 [==============================] - 105s 2ms/step - loss: 2.4642 - acc: 0.4478 - val_loss: 2.8175 - val_acc: 0.4244\n",
      "Epoch 18/32\n",
      "53618/53618 [==============================] - 105s 2ms/step - loss: 2.4486 - acc: 0.4494 - val_loss: 2.8253 - val_acc: 0.4234\n",
      "Epoch 19/32\n",
      "53618/53618 [==============================] - 107s 2ms/step - loss: 2.4337 - acc: 0.4510 - val_loss: 2.8292 - val_acc: 0.4232\n",
      "Epoch 20/32\n",
      "53618/53618 [==============================] - 108s 2ms/step - loss: 2.4190 - acc: 0.4528 - val_loss: 2.8378 - val_acc: 0.4247\n",
      "Epoch 21/32\n",
      "53618/53618 [==============================] - 108s 2ms/step - loss: 2.4056 - acc: 0.4542 - val_loss: 2.8497 - val_acc: 0.4235\n",
      "Epoch 22/32\n",
      "53618/53618 [==============================] - 110s 2ms/step - loss: 2.3929 - acc: 0.4557 - val_loss: 2.8555 - val_acc: 0.4227\n",
      "Epoch 23/32\n",
      "53618/53618 [==============================] - 110s 2ms/step - loss: 2.3803 - acc: 0.4566 - val_loss: 2.8630 - val_acc: 0.4233\n",
      "Epoch 24/32\n",
      "53618/53618 [==============================] - 109s 2ms/step - loss: 2.3689 - acc: 0.4586 - val_loss: 2.8719 - val_acc: 0.4214\n",
      "Epoch 25/32\n",
      "53618/53618 [==============================] - 113s 2ms/step - loss: 2.3567 - acc: 0.4594 - val_loss: 2.8826 - val_acc: 0.4206\n",
      "Epoch 26/32\n",
      "53618/53618 [==============================] - 110s 2ms/step - loss: 2.3461 - acc: 0.4614 - val_loss: 2.8911 - val_acc: 0.4213\n",
      "Epoch 27/32\n",
      "53618/53618 [==============================] - 112s 2ms/step - loss: 2.3355 - acc: 0.4626 - val_loss: 2.8943 - val_acc: 0.4225\n",
      "Epoch 28/32\n",
      "53618/53618 [==============================] - 112s 2ms/step - loss: 2.3249 - acc: 0.4638 - val_loss: 2.9023 - val_acc: 0.4200\n",
      "Epoch 29/32\n",
      "53618/53618 [==============================] - 112s 2ms/step - loss: 2.3155 - acc: 0.4654 - val_loss: 2.9142 - val_acc: 0.4226\n",
      "Epoch 30/32\n",
      "53618/53618 [==============================] - 115s 2ms/step - loss: 2.3059 - acc: 0.4659 - val_loss: 2.9250 - val_acc: 0.4193\n",
      "Epoch 31/32\n",
      "53618/53618 [==============================] - 115s 2ms/step - loss: 2.2966 - acc: 0.4680 - val_loss: 2.9339 - val_acc: 0.4198\n",
      "Epoch 32/32\n",
      "53618/53618 [==============================] - 114s 2ms/step - loss: 2.2878 - acc: 0.4688 - val_loss: 2.9397 - val_acc: 0.4204\n"
     ]
    }
   ],
   "source": [
    "#Model suggestion\n",
    "I['GRU'] = Input(shape=(maxlen-1,), name=\"input\")\n",
    "E['GRU'] = Embedding(len(tokens), embedding_size, mask_zero=True, name=\"embedding\")(I['GRU'])\n",
    "\n",
    "#your network here\n",
    "H['GRU'] = GRU(units=hidden_size,\n",
    "               return_sequences=True,\n",
    "              recurrent_dropout=recurrent_dropout,\n",
    "              dropout=dropout)(E['GRU'])\n",
    "\n",
    "R['GRU'] = TimeDistributed(Dense(readout_size, activation='relu'))(H['GRU'])\n",
    "Y['GRU'] = TimeDistributed(Dense(len(words_set), activation='softmax'))(R['GRU'])\n",
    "\n",
    "models['GRU'] = Model(inputs = [I['GRU']], outputs = [Y['GRU']])\n",
    "models['GRU'].compile(\n",
    "    loss='categorical_crossentropy', \n",
    "    optimizer=Adam(),\n",
    "    metrics=['acc'])\n",
    "models['GRU'].summary()\n",
    "\n",
    "print(X[:,:-1].shape, T[:,1:].shape)\n",
    "# {'input': X[:dataset_cut,:-1]}, {'output': T[:dataset_cut,1:]},\n",
    "logs['GRU'] = models['GRU'].fit([X[:dataset_cut,:-1]], [T[:dataset_cut,1:]],\n",
    "                                    epochs=epochs, \n",
    "                                    validation_split=validation_split, \n",
    "                                    batch_size=batch_size).history\n",
    "\n",
    "#save\n",
    "with open(\"GRUmodel_\"+str(embedding_size)+'_'+str(hidden_size)+\"_log.pkl\", \"wb\") as file:\n",
    "    pickle.dump(logs['GRU'], file)\n",
    "models['GRU'].save(\"GRUmodel_\"+str(embedding_size)+'_'+str(hidden_size))"
   ]
  },
  {
   "cell_type": "code",
   "execution_count": 7,
   "metadata": {
    "collapsed": true
   },
   "outputs": [],
   "source": [
    "with open(\"GRUmodel_\"+str(embedding_size)+'_'+str(hidden_size)+\"_log.pkl\", \"rb\") as file:\n",
    "    GRUmodel_log = pickle.load(file)\n",
    "GRUmodel = load_model(\"GRUmodel_\"+str(embedding_size)+'_'+str(hidden_size))"
   ]
  },
  {
   "cell_type": "markdown",
   "metadata": {},
   "source": [
    "**Figure** Show the learning curves (training and validation loss) for the different recurrent units. [1 pt]"
   ]
  },
  {
   "cell_type": "code",
   "execution_count": 79,
   "metadata": {},
   "outputs": [
    {
     "data": {
      "image/png": "[encoded data removed]",
      "text/plain": [
       "<Figure size 936x432 with 3 Axes>"
      ]
     },
     "metadata": {},
     "output_type": "display_data"
    }
   ],
   "source": [
    "fig, ax = plt.subplots(1,3,figsize=(13,6))\n",
    "fig.suptitle('The learning curves (training and validation loss) for the different recurrent units',size=14)\n",
    "\n",
    "ax[0].set_title('simpleRNN',size=11)\n",
    "ax[0].plot(RNNmodel_log['loss'], label = \"training_loss\")\n",
    "ax[0].plot(RNNmodel_log['val_loss'], label = \"validation_loss\")\n",
    "ax[0].set_ylabel('categorical cross entropy')\n",
    "ax[0].set_xlabel('epoch')\n",
    "ax[0].set_yscale('log')\n",
    "ax[0].legend()\n",
    "\n",
    "\n",
    "ax[1].set_title('LSTM',size=11)\n",
    "ax[1].plot(LSTMmodel_log['loss'], label = \"training_loss\")\n",
    "ax[1].plot(LSTMmodel_log['val_loss'], label = \"validation_loss\")\n",
    "ax[1].set_xlabel('epoch')\n",
    "ax[1].set_yscale('log')\n",
    "ax[1].legend()\n",
    "\n",
    "ax[2].set_title('GRU',size=11)\n",
    "ax[2].plot(GRUmodel_log['loss'], label = \"training_loss\")\n",
    "ax[2].plot(GRUmodel_log['val_loss'], label = \"validation_loss\")\n",
    "ax[2].set_xlabel('epoch')\n",
    "ax[2].set_yscale('log')\n",
    "ax[2].legend()\n",
    "plt.show();"
   ]
  },
  {
   "cell_type": "code",
   "execution_count": 87,
   "metadata": {},
   "outputs": [
    {
     "data": {
      "image/png": "[encoded data removed]",
      "text/plain": [
       "<Figure size 360x432 with 1 Axes>"
      ]
     },
     "metadata": {},
     "output_type": "display_data"
    }
   ],
   "source": [
    "plt.figure(figsize=(5,6))\n",
    "plt.title('The comparison learning curves(training and validation loss)',size=14)\n",
    "\n",
    "plt.plot(RNNmodel_log['loss'], label = \"simpleRNN_train_loss\")\n",
    "plt.plot(LSTMmodel_log['loss'], label = \"LSTM_train_loss\")\n",
    "plt.plot(GRUmodel_log['loss'], label = \"GRU_train_loss\")\n",
    "plt.plot(RNNmodel_log['val_loss'], label = \"simpleRNN_val_loss\")\n",
    "plt.plot(LSTMmodel_log['val_loss'], label = \"LSTM_val_loss\")\n",
    "plt.plot(GRUmodel_log['val_loss'], label = \"GRU_val_loss\")\n",
    "plt.ylabel('categorical cross entropy')\n",
    "plt.xlabel('epoch')\n",
    "plt.yscale('log')\n",
    "plt.legend()\n",
    "plt.show();"
   ]
  },
  {
   "cell_type": "markdown",
   "metadata": {},
   "source": [
    "**Figure** Show the learning curves (training and validation accuracy) for the different recurrent units. [1 pt]"
   ]
  },
  {
   "cell_type": "code",
   "execution_count": 88,
   "metadata": {},
   "outputs": [
    {
     "data": {
      "image/png": "[encoded data removed]",
      "text/plain": [
       "<Figure size 936x432 with 3 Axes>"
      ]
     },
     "metadata": {},
     "output_type": "display_data"
    }
   ],
   "source": [
    "fig, ax = plt.subplots(1,3,figsize=(13,6))\n",
    "fig.suptitle('The learning curves (training and validation accuracy) for the different recurrent units',size=14)\n",
    "\n",
    "ax[0].set_title('simpleRNN',size=11)\n",
    "ax[0].plot(RNNmodel_log['acc'], label = \"training_acc\")\n",
    "ax[0].plot(RNNmodel_log['val_acc'], label = \"validation_acc\")\n",
    "ax[0].set_ylabel('accuracy')\n",
    "ax[0].set_xlabel('epoch')\n",
    "ax[0].legend()\n",
    "\n",
    "\n",
    "ax[1].set_title('LSTM',size=11)\n",
    "ax[1].plot(LSTMmodel_log['acc'], label = \"training_acc\")\n",
    "ax[1].plot(LSTMmodel_log['val_acc'], label = \"validation_acc\")\n",
    "ax[1].set_xlabel('epoch')\n",
    "ax[1].legend()\n",
    "\n",
    "ax[2].set_title('GRU',size=11)\n",
    "ax[2].plot(GRUmodel_log['acc'], label = \"training_acc\")\n",
    "ax[2].plot(GRUmodel_log['val_acc'], label = \"validation_acc\")\n",
    "ax[2].set_xlabel('epoch')\n",
    "ax[2].legend()\n",
    "plt.show();"
   ]
  },
  {
   "cell_type": "code",
   "execution_count": 90,
   "metadata": {},
   "outputs": [
    {
     "data": {
      "image/png": "[encoded data removed]",
      "text/plain": [
       "<Figure size 360x432 with 1 Axes>"
      ]
     },
     "metadata": {},
     "output_type": "display_data"
    }
   ],
   "source": [
    "plt.figure(figsize=(5,6))\n",
    "plt.title('The comparison learning curves(training and validation accuracy)',size=14)\n",
    "\n",
    "plt.plot(RNNmodel_log['acc'], label = \"simpleRNN_train_acc\")\n",
    "plt.plot(LSTMmodel_log['acc'], label = \"LSTM_train_acc\")\n",
    "plt.plot(GRUmodel_log['acc'], label = \"GRU_train_acc\")\n",
    "plt.plot(RNNmodel_log['val_acc'], label = \"simpleRNN_val_acc\")\n",
    "plt.plot(LSTMmodel_log['val_acc'], label = \"LSTM_val_acc\")\n",
    "plt.plot(GRUmodel_log['val_acc'], label = \"GRU_val_acc\")\n",
    "plt.ylabel('accuracy')\n",
    "plt.xlabel('epoch')\n",
    "plt.legend()\n",
    "plt.show();"
   ]
  },
  {
   "cell_type": "markdown",
   "metadata": {},
   "source": [
    "**Question** How will your networks deal with the artificial word 'PADD' that you added at the end of each sentences  [2 pts]\n",
    "\n",
    "**Answer** 'PADD' will be removed when going through the embedding layer, as the option mark_zero has been set to True.\n",
    "\n",
    "**Question** How can you use this network to approximate the word transition probabilities? What will be the inputs and targets of the network at each batch? Give the input/output tensor dimensions. [2 pts]\n",
    "\n",
    "**Answer**  The output matrix indicates the probability of each word transferred from the corresponding forward word(s). At each batch, the input is the indexed sentence except the last word, and the output is the probability matrix of the sentence except 'START'. The input tensor dimension is (22,1) and the output tensor dimension is (22,1646). \n",
    "\n",
    "**Question:** Which recurrent unit yields the best validation accuracy? Which is the fastest learner? [1 pt]\n",
    "\n",
    "**Answer**: LSTM and GRU yield the similar best validation accuracy around 42%. GRU is the fastest learner based on the time spent for each epoch.\n",
    "\n",
    "**Question:** Do you observe an overfitting effect? Where and for which case? Give a possible explanation. [1 pt] \n",
    "\n",
    "**Answer**: There is an overfitting effect after 10 epoches in GRU recurrent unit. GRU is the fastest learner as indidated in last question, so the overfitting effect of it appears first within the same number of epoches compared to simpleRNN and LSTM.\n",
    "\n",
    "**Question:** Suggest one option modifying your dataset to decrease overfitting. [1 pt]\n",
    "\n",
    "**Answer**: Remove more sentences containing low frequency words.\n",
    "\n",
    "**Question:** Suggest one possible option modifying your network to decrease overfitting. [1 pt]\n",
    "\n",
    "**Answer**: Implement the regularization in each neural, and add dropout layers.\n",
    "\n",
    "**Question:** Suggest one possible option modifying the training modalities to counter overfitting. [1 pt]   \n",
    "\n",
    "**Answer**: Import the method of earlystopping."
   ]
  },
  {
   "cell_type": "markdown",
   "metadata": {},
   "source": [
    "### Optimal network size\n",
    "\n",
    "Compare the learning curves for three networks with 64 (previous exercise), 128 and 256 GRUs (single layer) and one with two hidden layers of 64 GRUs. \n",
    "\n",
    "**Code** Build and train the networks. Apply EarlyStopping (monitor='val_acc', min_delta=0.001, patience=2). Use transfer learning, do not train from scratch your embedding layer, rather re-use the embedding layer from your best performing network in the last exercise. [4 pts]\n",
    "\n",
    "**Figure** Show the learning curves (training and validation loss) for the four models. [1 pt]\n",
    "\n",
    "**Figure** Show the learning curves (training and validation accuracy) for the four models. [1 pt]\n",
    "\n",
    "**Question** List and briefly explain the differences in the learning curves for the different models? [2 pts]\n",
    "\n",
    "**Answer**\n",
    "\n",
    "**Question** What effect had EarlyStopping? Give one advantage and one drawback. [2 pts]\n",
    "\n",
    "**Answer**\n",
    "\n",
    "**Question** What is your best model? Why? [1 pt]\n",
    "\n",
    "**Answer**\n",
    "\n"
   ]
  },
  {
   "cell_type": "code",
   "execution_count": 91,
   "metadata": {
    "collapsed": true
   },
   "outputs": [],
   "source": [
    "embedding_matrix = GRUmodel.get_layer('embedding').get_weights()"
   ]
  },
  {
   "cell_type": "code",
   "execution_count": 103,
   "metadata": {
    "collapsed": true
   },
   "outputs": [],
   "source": [
    "earlystopping = EarlyStopping (monitor='val_acc', min_delta=0.001, patience=2)"
   ]
  },
  {
   "cell_type": "markdown",
   "metadata": {},
   "source": [
    "### Single layer 128-GRU"
   ]
  },
  {
   "cell_type": "code",
   "execution_count": 104,
   "metadata": {},
   "outputs": [
    {
     "name": "stdout",
     "output_type": "stream",
     "text": [
      "_________________________________________________________________\n",
      "Layer (type)                 Output Shape              Param #   \n",
      "=================================================================\n",
      "input (InputLayer)           (None, 22)                0         \n",
      "_________________________________________________________________\n",
      "embedding (Embedding)        (None, 22, 128)           210688    \n",
      "_________________________________________________________________\n",
      "gru_3 (GRU)                  (None, 22, 128)           98688     \n",
      "_________________________________________________________________\n",
      "time_distributed_4 (TimeDist (None, 22, 256)           33024     \n",
      "_________________________________________________________________\n",
      "time_distributed_5 (TimeDist (None, 22, 1646)          423022    \n",
      "=================================================================\n",
      "Total params: 765,422\n",
      "Trainable params: 554,734\n",
      "Non-trainable params: 210,688\n",
      "_________________________________________________________________\n",
      "(67024, 22) (67024, 22, 1646)\n",
      "Train on 53618 samples, validate on 13405 samples\n",
      "Epoch 1/32\n",
      "53618/53618 [==============================] - 136s 3ms/step - loss: 3.4569 - acc: 0.3502 - val_loss: 3.0475 - val_acc: 0.3920\n",
      "Epoch 2/32\n",
      "53618/53618 [==============================] - 131s 2ms/step - loss: 2.9263 - acc: 0.4025 - val_loss: 2.9105 - val_acc: 0.4050\n",
      "Epoch 3/32\n",
      "53618/53618 [==============================] - 131s 2ms/step - loss: 2.8034 - acc: 0.4151 - val_loss: 2.8552 - val_acc: 0.4141\n",
      "Epoch 4/32\n",
      "53618/53618 [==============================] - 130s 2ms/step - loss: 2.7291 - acc: 0.4227 - val_loss: 2.8198 - val_acc: 0.4156\n",
      "Epoch 5/32\n",
      "53618/53618 [==============================] - 131s 2ms/step - loss: 2.6745 - acc: 0.4281 - val_loss: 2.7979 - val_acc: 0.4199\n",
      "Epoch 6/32\n",
      "53618/53618 [==============================] - 132s 2ms/step - loss: 2.6311 - acc: 0.4320 - val_loss: 2.7867 - val_acc: 0.4219\n",
      "Epoch 7/32\n",
      "53618/53618 [==============================] - 133s 2ms/step - loss: 2.5958 - acc: 0.4354 - val_loss: 2.7804 - val_acc: 0.4246\n",
      "Epoch 8/32\n",
      "53618/53618 [==============================] - 133s 2ms/step - loss: 2.5645 - acc: 0.4386 - val_loss: 2.7811 - val_acc: 0.4238\n",
      "Epoch 9/32\n",
      "53618/53618 [==============================] - 135s 3ms/step - loss: 2.5373 - acc: 0.4411 - val_loss: 2.7824 - val_acc: 0.4245\n"
     ]
    }
   ],
   "source": [
    "#Model suggestion\n",
    "hidden_size = 128\n",
    "I['GRU_128'] = Input(shape=(maxlen-1,), name=\"input\")\n",
    "E['GRU_128'] = Embedding(len(tokens),\n",
    "                     embedding_size,\n",
    "                     mask_zero=True,\n",
    "                     name=\"embedding\",\n",
    "                     weights=[embedding_matrix[0]],\n",
    "                     trainable=False)(I['GRU_128'])\n",
    "\n",
    "#your network here\n",
    "H['GRU_128'] = GRU(units=hidden_size,\n",
    "               return_sequences=True,\n",
    "              recurrent_dropout=recurrent_dropout,\n",
    "              dropout=dropout)(E['GRU_128'])\n",
    "\n",
    "R['GRU_128'] = TimeDistributed(Dense(readout_size, activation='relu'))(H['GRU_128'])\n",
    "Y['GRU_128'] = TimeDistributed(Dense(len(tokens), activation='softmax'))(R['GRU_128'])\n",
    "\n",
    "models['GRU_128'] = Model(inputs = [I['GRU_128']], outputs = [Y['GRU_128']])\n",
    "models['GRU_128'].compile(\n",
    "    loss='categorical_crossentropy', \n",
    "    optimizer=Adam(),\n",
    "    metrics=['acc'])\n",
    "models['GRU_128'].summary()\n",
    "\n",
    "print(X[:,:-1].shape, T[:,1:].shape)\n",
    "# {'input': X[:dataset_cut,:-1]}, {'output': T[:dataset_cut,1:]},\n",
    "logs['GRU_128'] = models['GRU_128'].fit([X[:dataset_cut,:-1]], [T[:dataset_cut,1:]],\n",
    "                                    epochs=epochs, \n",
    "                                    validation_split=validation_split, \n",
    "                                    batch_size=batch_size,\n",
    "                                    callbacks=[earlystopping]).history\n",
    "\n",
    "#save\n",
    "with open(\"GRUmodel_\"+str(embedding_size)+'_'+str(hidden_size)+\"_log.pkl\", \"wb\") as file:\n",
    "    pickle.dump(logs['GRU_128'], file)\n",
    "models['GRU_128'].save(\"GRUmodel_\"+str(embedding_size)+'_'+str(hidden_size))"
   ]
  },
  {
   "cell_type": "markdown",
   "metadata": {},
   "source": [
    "### Single layer 256-GRU"
   ]
  },
  {
   "cell_type": "code",
   "execution_count": 107,
   "metadata": {},
   "outputs": [
    {
     "name": "stdout",
     "output_type": "stream",
     "text": [
      "_________________________________________________________________\n",
      "Layer (type)                 Output Shape              Param #   \n",
      "=================================================================\n",
      "input (InputLayer)           (None, 22)                0         \n",
      "_________________________________________________________________\n",
      "embedding (Embedding)        (None, 22, 128)           210688    \n",
      "_________________________________________________________________\n",
      "gru_5 (GRU)                  (None, 22, 256)           295680    \n",
      "_________________________________________________________________\n",
      "time_distributed_8 (TimeDist (None, 22, 256)           65792     \n",
      "_________________________________________________________________\n",
      "time_distributed_9 (TimeDist (None, 22, 1646)          423022    \n",
      "=================================================================\n",
      "Total params: 995,182\n",
      "Trainable params: 784,494\n",
      "Non-trainable params: 210,688\n",
      "_________________________________________________________________\n",
      "(67024, 22) (67024, 22, 1646)\n",
      "Train on 53618 samples, validate on 13405 samples\n",
      "Epoch 1/32\n",
      "53618/53618 [==============================] - 161s 3ms/step - loss: 3.3814 - acc: 0.3597 - val_loss: 2.9967 - val_acc: 0.3983\n",
      "Epoch 2/32\n",
      "53618/53618 [==============================] - 156s 3ms/step - loss: 2.8704 - acc: 0.4095 - val_loss: 2.8685 - val_acc: 0.4119\n",
      "Epoch 3/32\n",
      "53618/53618 [==============================] - 156s 3ms/step - loss: 2.7428 - acc: 0.4222 - val_loss: 2.8120 - val_acc: 0.4201\n",
      "Epoch 4/32\n",
      "53618/53618 [==============================] - 156s 3ms/step - loss: 2.6606 - acc: 0.4308 - val_loss: 2.7874 - val_acc: 0.4235\n",
      "Epoch 5/32\n",
      "53618/53618 [==============================] - 155s 3ms/step - loss: 2.5977 - acc: 0.4370 - val_loss: 2.7732 - val_acc: 0.4252\n",
      "Epoch 6/32\n",
      "53618/53618 [==============================] - 156s 3ms/step - loss: 2.5458 - acc: 0.4430 - val_loss: 2.7712 - val_acc: 0.4267\n",
      "Epoch 7/32\n",
      "53618/53618 [==============================] - 156s 3ms/step - loss: 2.4984 - acc: 0.4472 - val_loss: 2.7724 - val_acc: 0.4276\n",
      "Epoch 8/32\n",
      "53618/53618 [==============================] - 156s 3ms/step - loss: 2.4561 - acc: 0.4520 - val_loss: 2.7846 - val_acc: 0.4263\n"
     ]
    }
   ],
   "source": [
    "#Model suggestion\n",
    "hidden_size = 256\n",
    "I['GRU_256'] = Input(shape=(maxlen-1,), name=\"input\")\n",
    "E['GRU_256'] = Embedding(len(tokens),\n",
    "                     embedding_size,\n",
    "                     mask_zero=True,\n",
    "                     name=\"embedding\",\n",
    "                     weights=[embedding_matrix[0]],\n",
    "                     trainable=False)(I['GRU_256'])\n",
    "\n",
    "#your network here\n",
    "H['GRU_256'] = GRU(units=hidden_size,\n",
    "               return_sequences=True,\n",
    "              recurrent_dropout=recurrent_dropout,\n",
    "              dropout=dropout)(E['GRU_256'])\n",
    "\n",
    "R['GRU_256'] = TimeDistributed(Dense(readout_size, activation='relu'))(H['GRU_256'])\n",
    "Y['GRU_256'] = TimeDistributed(Dense(len(tokens), activation='softmax'))(R['GRU_256'])\n",
    "\n",
    "models['GRU_256'] = Model(inputs = [I['GRU_256']], outputs = [Y['GRU_256']])\n",
    "models['GRU_256'].compile(\n",
    "    loss='categorical_crossentropy', \n",
    "    optimizer=Adam(),\n",
    "    metrics=['acc'])\n",
    "models['GRU_256'].summary()\n",
    "\n",
    "print(X[:,:-1].shape, T[:,1:].shape)\n",
    "# {'input': X[:dataset_cut,:-1]}, {'output': T[:dataset_cut,1:]},\n",
    "logs['GRU_256'] = models['GRU_256'].fit([X[:dataset_cut,:-1]], [T[:dataset_cut,1:]],\n",
    "                                    epochs=epochs, \n",
    "                                    validation_split=validation_split, \n",
    "                                    batch_size=batch_size,\n",
    "                                    callbacks=[earlystopping]).history\n",
    "\n",
    "#save\n",
    "with open(\"GRUmodel_\"+str(embedding_size)+'_'+str(hidden_size)+\"_log.pkl\", \"wb\") as file:\n",
    "    pickle.dump(logs['GRU_256'], file)\n",
    "models['GRU_256'].save(\"GRUmodel_\"+str(embedding_size)+'_'+str(hidden_size))"
   ]
  },
  {
   "cell_type": "markdown",
   "metadata": {
    "collapsed": true
   },
   "source": [
    "### Two layers 64-GRU"
   ]
  },
  {
   "cell_type": "code",
   "execution_count": 108,
   "metadata": {},
   "outputs": [
    {
     "name": "stdout",
     "output_type": "stream",
     "text": [
      "_________________________________________________________________\n",
      "Layer (type)                 Output Shape              Param #   \n",
      "=================================================================\n",
      "input (InputLayer)           (None, 22)                0         \n",
      "_________________________________________________________________\n",
      "embedding (Embedding)        (None, 22, 128)           210688    \n",
      "_________________________________________________________________\n",
      "gru_6 (GRU)                  (None, 22, 64)            37056     \n",
      "_________________________________________________________________\n",
      "gru_7 (GRU)                  (None, 22, 64)            24768     \n",
      "_________________________________________________________________\n",
      "time_distributed_10 (TimeDis (None, 22, 256)           16640     \n",
      "_________________________________________________________________\n",
      "time_distributed_11 (TimeDis (None, 22, 1646)          423022    \n",
      "=================================================================\n",
      "Total params: 712,174\n",
      "Trainable params: 501,486\n",
      "Non-trainable params: 210,688\n",
      "_________________________________________________________________\n",
      "(67024, 22) (67024, 22, 1646)\n",
      "Train on 53618 samples, validate on 13405 samples\n",
      "Epoch 1/32\n",
      "53618/53618 [==============================] - 155s 3ms/step - loss: 3.6376 - acc: 0.3274 - val_loss: 3.1402 - val_acc: 0.3809\n",
      "Epoch 2/32\n",
      "53618/53618 [==============================] - 152s 3ms/step - loss: 3.0204 - acc: 0.3921 - val_loss: 2.9780 - val_acc: 0.3988\n",
      "Epoch 3/32\n",
      "53618/53618 [==============================] - 151s 3ms/step - loss: 2.8897 - acc: 0.4051 - val_loss: 2.9095 - val_acc: 0.4072\n",
      "Epoch 4/32\n",
      "53618/53618 [==============================] - 152s 3ms/step - loss: 2.8130 - acc: 0.4128 - val_loss: 2.8677 - val_acc: 0.4116\n",
      "Epoch 5/32\n",
      "53618/53618 [==============================] - 151s 3ms/step - loss: 2.7583 - acc: 0.4181 - val_loss: 2.8454 - val_acc: 0.4137\n",
      "Epoch 6/32\n",
      "53618/53618 [==============================] - 151s 3ms/step - loss: 2.7154 - acc: 0.4223 - val_loss: 2.8290 - val_acc: 0.4168\n",
      "Epoch 7/32\n",
      "53618/53618 [==============================] - 150s 3ms/step - loss: 2.6801 - acc: 0.4256 - val_loss: 2.8144 - val_acc: 0.4197\n",
      "Epoch 8/32\n",
      "53618/53618 [==============================] - 151s 3ms/step - loss: 2.6512 - acc: 0.4286 - val_loss: 2.8102 - val_acc: 0.4199\n",
      "Epoch 9/32\n",
      "53618/53618 [==============================] - 151s 3ms/step - loss: 2.6256 - acc: 0.4310 - val_loss: 2.8093 - val_acc: 0.4210\n",
      "Epoch 10/32\n",
      "53618/53618 [==============================] - 152s 3ms/step - loss: 2.6032 - acc: 0.4331 - val_loss: 2.8030 - val_acc: 0.4231\n",
      "Epoch 11/32\n",
      "53618/53618 [==============================] - 152s 3ms/step - loss: 2.5837 - acc: 0.4347 - val_loss: 2.8024 - val_acc: 0.4238\n",
      "Epoch 12/32\n",
      "53618/53618 [==============================] - 153s 3ms/step - loss: 2.5650 - acc: 0.4364 - val_loss: 2.8064 - val_acc: 0.4236\n"
     ]
    }
   ],
   "source": [
    "#Model suggestion\n",
    "hidden_size = 64\n",
    "I['GRU_2_64'] = Input(shape=(maxlen-1,), name=\"input\")\n",
    "E['GRU_2_64'] = Embedding(len(tokens),\n",
    "                     embedding_size,\n",
    "                     mask_zero=True,\n",
    "                     name=\"embedding\",\n",
    "                     weights=[embedding_matrix[0]],\n",
    "                     trainable=False)(I['GRU_2_64'])\n",
    "\n",
    "#your network here\n",
    "H['GRU_2_64'] = GRU(units=hidden_size,\n",
    "               return_sequences=True,\n",
    "              recurrent_dropout=recurrent_dropout,\n",
    "              dropout=dropout)(E['GRU_2_64'])\n",
    "\n",
    "H['GRU_2_64'] = GRU(units=hidden_size,\n",
    "               return_sequences=True,\n",
    "              recurrent_dropout=recurrent_dropout,\n",
    "              dropout=dropout)(H['GRU_2_64'])\n",
    "\n",
    "R['GRU_2_64'] = TimeDistributed(Dense(readout_size, activation='relu'))(H['GRU_2_64'])\n",
    "Y['GRU_2_64'] = TimeDistributed(Dense(len(tokens), activation='softmax'))(R['GRU_2_64'])\n",
    "\n",
    "models['GRU_2_64'] = Model(inputs = [I['GRU_2_64']], outputs = [Y['GRU_2_64']])\n",
    "models['GRU_2_64'].compile(\n",
    "    loss='categorical_crossentropy', \n",
    "    optimizer=Adam(),\n",
    "    metrics=['acc'])\n",
    "models['GRU_2_64'].summary()\n",
    "\n",
    "print(X[:,:-1].shape, T[:,1:].shape)\n",
    "# {'input': X[:dataset_cut,:-1]}, {'output': T[:dataset_cut,1:]},\n",
    "logs['GRU_2_64'] = models['GRU_2_64'].fit([X[:dataset_cut,:-1]], [T[:dataset_cut,1:]],\n",
    "                                    epochs=epochs, \n",
    "                                    validation_split=validation_split, \n",
    "                                    batch_size=batch_size,\n",
    "                                    callbacks=[earlystopping]).history\n",
    "\n",
    "#save\n",
    "with open(\"GRUmodel_\"+str(embedding_size)+'_'+'2_'+str(hidden_size)+\"_log.pkl\", \"wb\") as file:\n",
    "    pickle.dump(logs['GRU_2_64'], file)\n",
    "models['GRU_2_64'].save(\"GRUmodel_\"+str(embedding_size)+'_'+'2_'+str(hidden_size))"
   ]
  },
  {
   "cell_type": "markdown",
   "metadata": {},
   "source": [
    "**Figure** Show the learning curves (training and validation loss) for the four models. [1 pt]"
   ]
  },
  {
   "cell_type": "code",
   "execution_count": 147,
   "metadata": {},
   "outputs": [
    {
     "data": {
      "image/png": "[encoded data removed]",
      "text/plain": [
       "<Figure size 1152x288 with 4 Axes>"
      ]
     },
     "metadata": {},
     "output_type": "display_data"
    }
   ],
   "source": [
    "fig, ax = plt.subplots(1,4,figsize=(16,4))\n",
    "fig.suptitle('The learning curves (training and validation loss) for the four models',size=14)\n",
    "\n",
    "ax[0].set_title('simple layer 64-GRU',size=11)\n",
    "ax[0].plot(GRUmodel_log['loss'], label = \"training_loss\")\n",
    "ax[0].plot(GRUmodel_log['val_loss'], label = \"validation_loss\")\n",
    "ax[0].set_ylabel('categorical cross entropy')\n",
    "ax[0].set_xlabel('epoch')\n",
    "ax[0].set_yscale('log')\n",
    "ax[0].legend()\n",
    "\n",
    "\n",
    "ax[1].set_title('simple layer 128-GRU',size=11)\n",
    "ax[1].plot(logs['GRU_128']['loss'], label = \"training_loss\")\n",
    "ax[1].plot(logs['GRU_128']['val_loss'], label = \"validation_loss\")\n",
    "ax[1].set_xlabel('epoch')\n",
    "ax[1].set_yscale('log')\n",
    "ax[1].legend()\n",
    "\n",
    "ax[2].set_title('simple layer 256-GRU',size=11)\n",
    "ax[2].plot(logs['GRU_256']['loss'], label = \"training_loss\")\n",
    "ax[2].plot(logs['GRU_256']['val_loss'], label = \"validation_loss\")\n",
    "ax[2].set_xlabel('epoch')\n",
    "ax[2].set_yscale('log')\n",
    "ax[2].legend()\n",
    "\n",
    "ax[3].set_title('two layers 64-GRU',size=11)\n",
    "ax[3].plot(logs['GRU_2_64']['loss'], label = \"training_loss\")\n",
    "ax[3].plot(logs['GRU_2_64']['val_loss'], label = \"validation_loss\")\n",
    "ax[3].set_xlabel('epoch')\n",
    "ax[3].set_yscale('log')\n",
    "ax[3].legend()\n",
    "\n",
    "plt.show();"
   ]
  },
  {
   "cell_type": "markdown",
   "metadata": {},
   "source": [
    "**Figure** Show the learning curves (training and validation accuracy) for the four models. [1 pt]"
   ]
  },
  {
   "cell_type": "code",
   "execution_count": 149,
   "metadata": {
    "scrolled": true
   },
   "outputs": [
    {
     "data": {
      "image/png": "[encoded data removed]",
      "text/plain": [
       "<Figure size 1152x288 with 4 Axes>"
      ]
     },
     "metadata": {},
     "output_type": "display_data"
    }
   ],
   "source": [
    "fig, ax = plt.subplots(1,4,figsize=(16,4))\n",
    "fig.suptitle('The learning curves (training and validation accuracy) for the four models',size=14)\n",
    "\n",
    "ax[0].set_title('simple layer 64-GRU',size=11)\n",
    "ax[0].plot(GRUmodel_log['acc'], label = \"training_acc\")\n",
    "ax[0].plot(GRUmodel_log['val_acc'], label = \"validation_acc\")\n",
    "ax[0].set_ylabel('accuracy')\n",
    "ax[0].set_xlabel('epoch')\n",
    "ax[0].legend()\n",
    "\n",
    "\n",
    "ax[1].set_title('simple layer 128-GRU',size=11)\n",
    "ax[1].plot(logs['GRU_128']['acc'], label = \"training_acc\")\n",
    "ax[1].plot(logs['GRU_128']['val_acc'], label = \"validation_acc\")\n",
    "ax[1].set_xlabel('epoch')\n",
    "ax[1].legend()\n",
    "\n",
    "ax[2].set_title('simple layer 256-GRU',size=11)\n",
    "ax[2].plot(logs['GRU_256']['acc'], label = \"training_acc\")\n",
    "ax[2].plot(logs['GRU_256']['val_acc'], label = \"validation_acc\")\n",
    "ax[2].set_xlabel('epoch')\n",
    "ax[2].legend()\n",
    "\n",
    "ax[3].set_title('two layers 64-GRU',size=11)\n",
    "ax[3].plot(logs['GRU_2_64']['acc'], label = \"training_acc\")\n",
    "ax[3].plot(logs['GRU_2_64']['val_acc'], label = \"validation_acc\")\n",
    "ax[3].set_xlabel('epoch')\n",
    "ax[3].legend()\n",
    "\n",
    "plt.show();"
   ]
  },
  {
   "cell_type": "markdown",
   "metadata": {},
   "source": [
    "**Question** List and briefly explain the differences in the learning curves for the different models? [2 pts]\n",
    "\n",
    "**Answer** The different models early stops at different epoches with similar accuracy, because the convergence rate is different among the different models.\n",
    "\n",
    "**Question** What effect had EarlyStopping? Give one advantage and one drawback. [2 pts]\n",
    "\n",
    "**Answer** EarlyStopping stopped the training process. The advantage is getting rid of the overfitting and the draw back is the inefficient training (probably stuck at local minimum).\n",
    "\n",
    "**Question** What is your best model? Why? [1 pt]\n",
    "\n",
    "**Answer** From the aspect of validation accuracy, the best model is the simple layer GRU with 256 neurons. It can reach the relative highest validation accuracy within fewest epoches. However, from the aspect of overfitting, the gap between train accuracy and test accuracy in double layers GRU is the smallest."
   ]
  },
  {
   "cell_type": "markdown",
   "metadata": {},
   "source": [
    "### Generate sentences\n",
    "\n",
    "Now you will generate new sentences from your best performing model.\n",
    "\n",
    "**Code** To achieve that, use the provided sample function below to generate new sentences from your model. You should start by constructing a sentence that starts with the 'START' artificial word and all other words being the 'PADD' artificial word. Then sample the first word from the corresponding probabilities given by your model. Add this word to the sentence and continue like this until you sample the 'END' artificial word or the maximum sentence length. [2 pts]\n",
    "\n",
    "**Code** Generate 10 sentences for different sampling temperature in [0., 0.25, 0.5, 0.75, 1., 1.5., 2.]. [1 pt]\n",
    "\n",
    "**7 Figures** For each temperature, use matplotlib imshow to plot the probablities of every word in one generated sentence (and only these words) at each time step. y-axis should be the words that are present in the sentence. x-axis the timesteps and the imshow value the probabilities given by the model for all words in the sentence at each timestep. Use the a colormap where 0 is white, e.g. cmap='Greys'. [2 pts]\n",
    "\n",
    "**Code** Finally, seed your model with two different beginnings of max 4 words and let it generate 10 possible continuations (use sampling temperature of 1.). [2 pts]\n",
    "\n",
    "**Question** What is the effect of sampling temperature on the generated sentences? [1 pt]\n",
    "\n",
    "**Answer**\n",
    "\n",
    "**Question** In terms of sampling a probability distribution, what does a sampling temperature of 0 corresponds to? [1 pt] \n",
    "\n",
    "**Answer**\n",
    "\n",
    "**Question** In terms of sampling a probability distribution, what does a sampling temperature of 1. corresponds to? [1 pt] \n",
    "\n",
    "**Answer**\n",
    "\n",
    "**Question** In terms of sampling a probability distribution, what does a very high sampling temperature corresponds to? [1 pt]\n",
    "\n",
    "**Answer**\n",
    "\n",
    "**Question** Based on the plotted word probabilities, explain how a sentence is generated. [2 pts]\n",
    "\n",
    "**Answer**\n",
    "\n",
    "**Question** Do you observe timesteps with more than one word with non-zero probability? How do these probable words relate in terms of language? [1 pt]\n",
    "\n",
    "**Answer**"
   ]
  },
  {
   "cell_type": "code",
   "execution_count": 2,
   "metadata": {},
   "outputs": [],
   "source": [
    "#load\n",
    "import pickle\n",
    "with open(\"data.pkl\", \"rb\") as file:\n",
    "    [sen_after_filter, sent_indseq, sent_padded, tokens] = pickle.load(file)"
   ]
  },
  {
   "cell_type": "code",
   "execution_count": 26,
   "metadata": {},
   "outputs": [],
   "source": [
    "embedding_size = 128\n",
    "hidden_size = 64\n",
    "with open(\"GRUmodel_\"+str(embedding_size)+'_'+str(hidden_size)+\"_log.pkl\", \"rb\") as file:\n",
    "    GRUmodel_log = pickle.load(file)\n",
    "GRUmodel = load_model(\"GRUmodel_\"+str(embedding_size)+'_'+str(hidden_size))"
   ]
  },
  {
   "cell_type": "markdown",
   "metadata": {},
   "source": [
    "**Code** To achieve that, use the provided sample function below to generate new sentences from your model. You should start by constructing a sentence that starts with the 'START' artificial word and all other words being the 'PADD' artificial word. Then sample the first word from the corresponding probabilities given by your model. Add this word to the sentence and continue like this until you sample the 'END' artificial word or the maximum sentence length. [2 pts]"
   ]
  },
  {
   "cell_type": "code",
   "execution_count": 12,
   "metadata": {},
   "outputs": [],
   "source": [
    "def sample(preds, temperature):\n",
    "    # helper function to sample an index from a probability array\n",
    "    if temperature == 0.:\n",
    "        return np.argmax(preds)\n",
    "    preds = np.asarray(preds).astype('float64')\n",
    "    preds = np.log(preds) / temperature\n",
    "    exp_preds = np.exp(preds)\n",
    "    preds = exp_preds / np.sum(exp_preds)\n",
    "    probas = np.random.multinomial(1, preds, 1)\n",
    "    return np.argmax(probas)"
   ]
  },
  {
   "cell_type": "code",
   "execution_count": 24,
   "metadata": {},
   "outputs": [],
   "source": [
    "def predictRandomSentence(model, temperature):\n",
    "    # initialize\n",
    "    maxlen=23\n",
    "    sent_init = [tokens.index('START')] + [tokens.index('PADD') for _ in range(21)]\n",
    "    sent_init = np.array(sent_init)\n",
    "    sent_init = sent_init.reshape((1,-1))\n",
    "    sent_ret = []\n",
    "    prob_record = np.zeros((len(tokens),maxlen-1))\n",
    "    for i in range(maxlen-1):\n",
    "        probs = model.predict_on_batch(sent_init)\n",
    "        prob_record[:,i] = probs[0,i,:]\n",
    "        step = sample(probs[0,i,:], temperature)\n",
    "        if tokens[step] == 'END':\n",
    "            break\n",
    "        sent_ret.append(tokens[step])\n",
    "        if i == maxlen-2:\n",
    "            break\n",
    "        sent_init[0,i+1] = step\n",
    "    return ' '.join(sent_ret), prob_record"
   ]
  },
  {
   "cell_type": "code",
   "execution_count": 6,
   "metadata": {},
   "outputs": [],
   "source": [
    "def plotProbSen(sent, prob_matrix):\n",
    "    sent_token = sent.split(' ')\n",
    "    sent_token_ind = [tokens.index(tok) for tok in sent_token]\n",
    "    prob_matrix = prob_matrix[[sent_token_ind]]\n",
    "    return prob_matrix"
   ]
  },
  {
   "cell_type": "markdown",
   "metadata": {},
   "source": [
    "**Code** Generate 10 sentences for different sampling temperature in [0., 0.25, 0.5, 0.75, 1., 1.5., 2.]. [1 pt]"
   ]
  },
  {
   "cell_type": "code",
   "execution_count": 22,
   "metadata": {},
   "outputs": [],
   "source": [
    "temps =  [0., 0.25, 0.5, 0.75, 1., 1.5, 2.]"
   ]
  },
  {
   "cell_type": "code",
   "execution_count": 30,
   "metadata": {},
   "outputs": [],
   "source": [
    "sents_list = []\n",
    "for temperature in temps:\n",
    "    current_list = []\n",
    "    for j in range(10):\n",
    "        sent_generate, prob_matrix = predictRandomSentence(GRUmodel, temperature)\n",
    "        current_list.append(sent_generate)\n",
    "    sents_list.append(current_list)"
   ]
  },
  {
   "cell_type": "code",
   "execution_count": 35,
   "metadata": {
    "scrolled": false
   },
   "outputs": [
    {
     "name": "stdout",
     "output_type": "stream",
     "text": [
      "+++++++++++++++++++ Temperature: 0.00 +++++++++++++++++++++\n",
      "i am doing well . how about yourself ?\n",
      "i am doing well . how about yourself ?\n",
      "i am doing well . how about yourself ?\n",
      "i am doing well . how about yourself ?\n",
      "i am doing well . how about yourself ?\n",
      "i am doing well . how about yourself ?\n",
      "i am doing well . how about yourself ?\n",
      "i am doing well . how about yourself ?\n",
      "i am doing well . how about yourself ?\n",
      "i am doing well . how about yourself ?\n",
      "+++++++++++++++++++ Temperature: 0.25 +++++++++++++++++++++\n",
      "i am good . i just got home from work .\n",
      "i am doing well , how about yourself ?\n",
      "i have a dog . i have a dog .\n",
      "i am doing well . how are you ?\n",
      "i am doing well . how about yourself ?\n",
      "i am doing well , how are you ?\n",
      "i am doing well . just got home from work . how are you ?\n",
      "i am doing well , just got off work . how are you ?\n",
      "i am good . how are you ?\n",
      "i am doing well . how about yourself ?\n",
      "+++++++++++++++++++ Temperature: 0.50 +++++++++++++++++++++\n",
      "i am doing well and you ?\n",
      "i am doing well . how about you ?\n",
      "i live in the city , so i am not married yet .\n",
      "i am doing well . just got home from the beach .\n",
      "i am doing good , i am just working on my computer .\n",
      "i am a good baker my favorite thing to do .\n",
      "i like to go to the movies\n",
      "i am doing well , how about you ?\n",
      "i am doing well , how about yourself ?\n",
      "no , i am not a fan of it .\n",
      "+++++++++++++++++++ Temperature: 0.75 +++++++++++++++++++++\n",
      "i love to eat lol\n",
      "i have not been lately . you ?\n",
      "hi , how are you ?\n",
      "that sounds fun . do you like hockey ?\n",
      "what do you do for a living ?\n",
      "hi ! how are you doing today ?\n",
      "i am good . just relaxing at a finish practice in the park enjoying nature .\n",
      "i am always good at science\n",
      "no i do not . what do you do ?\n",
      "do they have a house ?\n",
      "+++++++++++++++++++ Temperature: 1.00 +++++++++++++++++++++\n",
      "i will just get my nails done surfing , but i cannot have enough time for hobbies .\n",
      "hi how are you ?\n",
      "that is nice wish i could move and have no green .\n",
      "i will have to teach for it\n",
      "now i tend to like the smell of flowers\n",
      "i am doing good and how are you\n",
      "i do not wear purple at all times\n",
      "thank you ! why are you the weather where ? i still live alone .\n",
      "hello there ! how are you ?\n",
      "i drive a blue car around my bus !\n",
      "+++++++++++++++++++ Temperature: 1.50 +++++++++++++++++++++\n",
      "hello book i will have seen .\n",
      "hi , how is the weather where you live ?\n",
      "buy do you online\n",
      "sounds fun . living very hot at america and want !\n",
      "hello , have you run back person ? i retire next week\n",
      "summer morning and it is delicious ! my husband had me a younger brother but relax\n",
      "just going gardening . okay to shop well strong !\n",
      "some husband with us but then loves to go watch such the road ; brownies\n",
      "hello , hows the weather any day doing ?\n",
      "omg yes no chocolate cake it might also be\n",
      "+++++++++++++++++++ Temperature: 2.00 +++++++++++++++++++++\n",
      "skiing are miss kindergarten\n",
      "gaming and good football , let ford cook sometimes ! let me crazy where as profession and help !\n",
      "is a drawing car ? vegetables place me running everyday ! i as the easier to hike meet by many\n",
      "tough teaching is coming big allergies\n",
      "hey hows it hanging ? where does working leave ? do you cook ? what movies music also ? ? . wow\n",
      "remember together or country . mainly music i write writing and reading were\n",
      "wow too high watching movie today\n",
      "far . wish mine blue bbq never ballet then not being\n",
      "would amazing ! myself about roses sometimes which work amazing use yourself loving dogs ? what coach or women ? you sell\n",
      "hi there do by you ? hope you never had on the places . still staying busy . garden best food was\n"
     ]
    }
   ],
   "source": [
    "for (tp, sents) in zip(temps, sents_list):\n",
    "    print('+++++++++++++++++++ Temperature: %.2f +++++++++++++++++++++' % tp)\n",
    "    for sent in sents:\n",
    "        print(sent)"
   ]
  },
  {
   "cell_type": "markdown",
   "metadata": {},
   "source": [
    "**7 Figures** For each temperature, use matplotlib imshow to plot the probablities of every word in one generated sentence (and only these words) at each time step. y-axis should be the words that are present in the sentence. x-axis the timesteps and the imshow value the probabilities given by the model for all words in the sentence at each timestep. Use the a colormap where 0 is white, e.g. cmap='Greys'. [2 pts]"
   ]
  },
  {
   "cell_type": "code",
   "execution_count": 66,
   "metadata": {},
   "outputs": [
    {
     "name": "stderr",
     "output_type": "stream",
     "text": [
      "/anaconda3/lib/python3.6/site-packages/ipykernel_launcher.py:6: RuntimeWarning: divide by zero encountered in log\n",
      "  \n"
     ]
    },
    {
     "data": {
      "image/png": "[encoded data removed]",
      "text/plain": [
       "<Figure size 1080x504 with 8 Axes>"
      ]
     },
     "metadata": {},
     "output_type": "display_data"
    }
   ],
   "source": [
    "import math\n",
    "fig,ax = plt.subplots(2,4,figsize=(15,7))\n",
    "for (i,temperature) in enumerate(temps):\n",
    "    sent_generate, prob_matrix = predictRandomSentence(GRUmodel, temperature)\n",
    "    probs = plotProbSen(sent_generate, prob_matrix)\n",
    "    ax[math.floor(i/4)][i-math.floor(i/4)*4].imshow(probs, cmap='Greys')\n",
    "    ax[math.floor(i/4)][i-math.floor(i/4)*4].set_title('temperature = {}'.format(temperature))\n",
    "    \n",
    "ax[1][3].axis('off')\n",
    "plt.show()"
   ]
  },
  {
   "cell_type": "markdown",
   "metadata": {},
   "source": [
    "**Code** Finally, seed your model with two different beginnings of max 4 words and let it generate 10 possible continuations (use sampling temperature of 1.). [2 pts]"
   ]
  },
  {
   "cell_type": "code",
   "execution_count": 157,
   "metadata": {},
   "outputs": [],
   "source": [
    "def predictRandomSentenceWithSeed(model, temperature, inputStart):\n",
    "    # find the start words first\n",
    "    maxlen=23\n",
    "    try:\n",
    "        inputIndex = [tokens.index(w) for w in inputStart]\n",
    "    except:\n",
    "        print('The tokens doesnot contain the word')\n",
    "        return\n",
    "    sent_init = [tokens.index('START')] + inputIndex + [tokens.index('PADD') for _ in range(21-len(inputIndex))]\n",
    "    sent_init = np.array(sent_init)\n",
    "    sent_init = sent_init.reshape((1,-1))\n",
    "    sent_ret = inputStart\n",
    "#     prob_record = np.zeros((len(tokens),maxlen-1))\n",
    "    for i in range(maxlen-1-len(inputIndex)):\n",
    "        probs = model.predict_on_batch(sent_init)\n",
    "#         print(probs.shape)\n",
    "        step = sample(probs[0,i+len(inputIndex),:], temperature)\n",
    "        if tokens[step] == 'END':\n",
    "            break\n",
    "        sent_ret.append(tokens[step])\n",
    "        if i == maxlen-2-len(inputIndex):\n",
    "            break\n",
    "        sent_init[0,i+1] = step\n",
    "    return ' '.join(sent_ret)"
   ]
  },
  {
   "cell_type": "code",
   "execution_count": 178,
   "metadata": {},
   "outputs": [],
   "source": [
    "sentTest1 = 'i am eating'"
   ]
  },
  {
   "cell_type": "code",
   "execution_count": 179,
   "metadata": {
    "scrolled": false
   },
   "outputs": [
    {
     "name": "stderr",
     "output_type": "stream",
     "text": [
      "/anaconda3/lib/python3.6/site-packages/ipykernel_launcher.py:6: RuntimeWarning: divide by zero encountered in log\n",
      "  \n"
     ]
    },
    {
     "name": "stdout",
     "output_type": "stream",
     "text": [
      "i am eating so dinner ice cream can be the holidays also that is what i know to\n",
      "i am eating pizza fresh fries going sitting in the city is so true\n",
      "i am eating pizza my mac and cheese pizza and tacos . lol\n",
      "i am eating pizza chocolate tuna ! what do you do for fun ?\n",
      "i am eating through mostly shrimp . dogs make everyday , though . lol i am quite excellent on the water !\n",
      "i am eating my pizza dinner the cold is my favorite color . my class is new .\n",
      "i am eating a i sea bike is my favorite color currently\n",
      "i am eating out mac boss , in my spare time .\n",
      "i am eating\n",
      "i am eating it some game of thrones i like i have fun\n"
     ]
    }
   ],
   "source": [
    "for i in range(10):\n",
    "    print(predictRandomSentenceWithSeed(GRUmodel, 1, sentTest1.split()))"
   ]
  },
  {
   "cell_type": "code",
   "execution_count": 169,
   "metadata": {},
   "outputs": [],
   "source": [
    "sentTest2 = 'how are you'"
   ]
  },
  {
   "cell_type": "code",
   "execution_count": 170,
   "metadata": {},
   "outputs": [
    {
     "name": "stderr",
     "output_type": "stream",
     "text": [
      "/anaconda3/lib/python3.6/site-packages/ipykernel_launcher.py:6: RuntimeWarning: divide by zero encountered in log\n",
      "  \n"
     ]
    },
    {
     "name": "stdout",
     "output_type": "stream",
     "text": [
      "how are you doing ? like video games ?\n",
      "how are you doing read like music . and you ?\n",
      "how are you today from , i am doing ok at everything right now\n",
      "how are you doing sure will look for it in a talent luck . . .\n",
      "how are you doing really into sports . how long is it a little bit for longer job ?\n",
      "how are you doing like\n",
      "how are you ? in its , they listen sweet in my bit of town .\n",
      "how are you , 10 are a year and i help me out running .\n",
      "how are you doing really like alot of that job .\n",
      "how are you doing ? as much as role playing\n"
     ]
    }
   ],
   "source": [
    "for i in range(10):\n",
    "    print(predictRandomSentenceWithSeed(GRUmodel, 1, sentTest2.split()))"
   ]
  },
  {
   "cell_type": "markdown",
   "metadata": {},
   "source": [
    "**Question** What is the effect of sampling temperature on the generated sentences? [1 pt]\n",
    "\n",
    "**Answer** Sampling temperature controls the randomness of sampling process. With temperature, the logits will be mapped into softmax function. A higher temperature will flatten the probality, letting the words with lower logits be more likely to be selected.\n",
    "\n",
    "**Question** In terms of sampling a probability distribution, what does a sampling temperature of 0 corresponds to? [1 pt] \n",
    "\n",
    "**Answer** The word with the maximum probability is sampled, which is also called 'Greedy sampling'. \n",
    "\n",
    "**Question** In terms of sampling a probability distribution, what does a sampling temperature of 1. corresponds to? [1 pt] \n",
    "\n",
    "**Answer** The word is sampled according to the weight of softmax probability, which is also called 'Random sampling'.\n",
    "\n",
    "**Question** In terms of sampling a probability distribution, what does a very high sampling temperature corresponds to? [1 pt]\n",
    "\n",
    "**Answer** Higher sampling temperature corresponds to the more random sampling process.\n",
    "\n",
    "**Question** Based on the plotted word probabilities, explain how a sentence is generated. [2 pts]\n",
    "\n",
    "**Answer** Each word is sampled according to the softmax probability vector generated from the model with the effect of sampling temperature. Started with the empty sentences started with 'START', we feed it into our network to get the probability matrix. We sample the first word with temperature based on the first row of the matrix. Repeatedly operate it until 'END' or reaching the max length.\n",
    "\n",
    "**Question** Do you observe timesteps with more than one word with non-zero probability? How do these probable words relate in terms of language? [1 pt]\n",
    "\n",
    "**Answer** Yes, these probable words relate the synonyms in terms of language."
   ]
  },
  {
   "cell_type": "markdown",
   "metadata": {},
   "source": [
    "###  Word embedding visualization\n",
    "\n",
    "Here, you are asked to visualize the embedding layer. \n",
    "\n",
    "**Code** To do that, project in 2D the embedding vectors for different words. Use t-SNE, a projection that conserve the neighborhood relationships between vectors. HINT: Build a Keras model that takes as input a list of words and outputs a list of vector embeddings as learned by your best performing model. Use t-SNE dimensionality reduction (from sklearn.manifold import TSNE). [2 pts]\n",
    "\n",
    "**Figure** Plot the projection of the first 200 most frequent words in a 2D plot. On the plot, write the words. [2 pt] \n",
    "\n",
    "**Question** Do you observe clusters of words with similar meaning or role in language? Report three of them here. [1 pt]\n",
    "\n",
    "**Answer**\n",
    "\n",
    "**Question** Why is having similar vector representation for similar words a good approach for such models? Explain using the example clusters from before and argue in terms of prediction accuracy and/or generalization. [2 pts]\n",
    "\n",
    "**Answer**"
   ]
  },
  {
   "cell_type": "markdown",
   "metadata": {},
   "source": [
    "**Code** To do that, project in 2D the embedding vectors for different words. Use t-SNE, a projection that conserve the neighborhood relationships between vectors. HINT: Build a Keras model that takes as input a list of words and outputs a list of vector embeddings as learned by your best performing model. Use t-SNE dimensionality reduction (from sklearn.manifold import TSNE). [2 pts]"
   ]
  },
  {
   "cell_type": "code",
   "execution_count": 131,
   "metadata": {
    "collapsed": true,
    "scrolled": true
   },
   "outputs": [],
   "source": [
    "embedded_matrix = GRUmodel.get_layer('embedding').get_weights()"
   ]
  },
  {
   "cell_type": "code",
   "execution_count": 132,
   "metadata": {},
   "outputs": [
    {
     "name": "stderr",
     "output_type": "stream",
     "text": [
      "/home/lijunze0627/anaconda3/lib/python3.6/site-packages/sklearn/externals/joblib/_multiprocessing_helpers.py:38: UserWarning: [Errno 12] Cannot allocate memory.  joblib will operate in serial mode\n",
      "  warnings.warn('%s.  joblib will operate in serial mode' % (e,))\n"
     ]
    }
   ],
   "source": [
    "from sklearn.manifold import TSNE\n",
    "X_embedded = TSNE(n_components=2).fit_transform(embedded_matrix[0])"
   ]
  },
  {
   "cell_type": "code",
   "execution_count": 133,
   "metadata": {},
   "outputs": [
    {
     "data": {
      "text/plain": [
       "array([[ 0.8180478,  1.1909264],\n",
       "       [-1.3354055, -5.0075493],\n",
       "       [ 0.6750792,  6.507909 ],\n",
       "       ...,\n",
       "       [ 0.9934255,  3.1631854],\n",
       "       [ 4.979938 ,  1.2309028],\n",
       "       [-5.0862827,  4.7011957]], dtype=float32)"
      ]
     },
     "execution_count": 133,
     "metadata": {},
     "output_type": "execute_result"
    }
   ],
   "source": [
    "X_embedded"
   ]
  },
  {
   "cell_type": "code",
   "execution_count": 134,
   "metadata": {},
   "outputs": [
    {
     "data": {
      "text/plain": [
       "(1646, 2)"
      ]
     },
     "execution_count": 134,
     "metadata": {},
     "output_type": "execute_result"
    }
   ],
   "source": [
    "X_embedded.shape"
   ]
  },
  {
   "cell_type": "code",
   "execution_count": 135,
   "metadata": {
    "collapsed": true
   },
   "outputs": [],
   "source": [
    "words = [w for sen in sen_after_filter for w in sen.split(' ')]"
   ]
  },
  {
   "cell_type": "code",
   "execution_count": 136,
   "metadata": {
    "collapsed": true
   },
   "outputs": [],
   "source": [
    "from collections import Counter\n",
    "wfreq = Counter(words)"
   ]
  },
  {
   "cell_type": "code",
   "execution_count": 137,
   "metadata": {
    "collapsed": true
   },
   "outputs": [],
   "source": [
    "wfreq_top200 = sorted(wfreq.items(), key=lambda x: x[1], reverse=True)[:200]"
   ]
  },
  {
   "cell_type": "code",
   "execution_count": 138,
   "metadata": {
    "collapsed": true
   },
   "outputs": [],
   "source": [
    "words_top200 = [w[0] for w in wfreq_top200]"
   ]
  },
  {
   "cell_type": "code",
   "execution_count": 139,
   "metadata": {
    "collapsed": true
   },
   "outputs": [],
   "source": [
    "words_top200_ind = [tokens.index(w) for w in words_top200]\n",
    "vectors_top200 = X_embedded[words_top200_ind]"
   ]
  },
  {
   "cell_type": "code",
   "execution_count": 140,
   "metadata": {
    "scrolled": true
   },
   "outputs": [
    {
     "data": {
      "text/plain": [
       "(200, 2)"
      ]
     },
     "execution_count": 140,
     "metadata": {},
     "output_type": "execute_result"
    }
   ],
   "source": [
    "np.shape(vectors_top200)"
   ]
  },
  {
   "cell_type": "markdown",
   "metadata": {},
   "source": [
    "**Figure** Plot the projection of the first 200 most frequent words in a 2D plot. On the plot, write the words. [2 pt] "
   ]
  },
  {
   "cell_type": "code",
   "execution_count": 141,
   "metadata": {},
   "outputs": [
    {
     "data": {
      "image/png": "[encoded data removed]",
      "text/plain": [
       "<Figure size 1152x1152 with 1 Axes>"
      ]
     },
     "metadata": {},
     "output_type": "display_data"
    }
   ],
   "source": [
    "fig, ax = plt.subplots(figsize=(16,16))\n",
    "ax.scatter(vectors_top200[:,0], vectors_top200[:, 1])\n",
    "\n",
    "for i in range(200):\n",
    "    ax.annotate(words_top200[i], (vectors_top200[i,0], vectors_top200[i,1]))"
   ]
  },
  {
   "cell_type": "markdown",
   "metadata": {
    "collapsed": true
   },
   "source": [
    "**Question** Do you observe clusters of words with similar meaning or role in language? Report three of them here. [1 pt]\n",
    "\n",
    "**Answer** Yes, for example 'whats, what, where','am, is, are' and 'cats, pets, dogs'. \n",
    "\n",
    "**Question** Why is having similar vector representation for similar words a good approach for such models? Explain using the example clusters from before and argue in terms of prediction accuracy and/or generalization. [2 pts]\n",
    "\n",
    "**Answer** Because word vectors are high-dimensionality which results in the sparsity in the vector space, we can use word embedding to represent the word vectors in a low dimension space to detect the clusters of the similar words."
   ]
  },
  {
   "cell_type": "markdown",
   "metadata": {},
   "source": [
    "## Chatbot\n",
    "\n",
    "Finally, you will construct a model with which you can chat. The network will take as input a sentence and output a response.\n",
    "\n",
    "**Code** For that, you should go back to your original data and construct a new dataset containing pairs of sentences, where each pair is a sentence and its answer. Be careful to not include any pair of sentences that contains words not present in your filtered dictionary. [2 pts]\n",
    "\n",
    "**Code** You should then tokenize, padd, truncate each sentence. Only the answers need the 'START' and 'END' artificial words. [1 pt]\n",
    "\n",
    "We provide you with a possible model, you are welcome to change it. This model uses an LSTM layer to encode the first sentence (the context). The final state of this LSTM layer is transfered to initialize the state of a decoder LSTM layer from which the answer sentence will be generated. \n",
    "\n",
    "**Code** Train your chatbot model on your dataset. [1 pt]\n",
    "\n",
    "**Code** Adapt your sentence generation code from before so that you can generate an answer given a context sentence from your model. [2 pts] \n",
    "\n",
    "**Code** After training, randomly select 10 context-answers pairs from your data and show both the real answer (the one from the data) and the generated one for two different sampling temperatures (e.g. 0.5 and 1.0). [2 pts]\n",
    "\n",
    "**Question** How similar are the generated answers and the real ones? Does your model provide probable answers (given the dataset)? Report here one good and one bad example. [2 pts]\n",
    "\n",
    "**Answer**\n",
    "\n",
    "**Question** Which sampling temperature gives better answers? why? [2 pts]\n",
    "\n",
    "**Answer**\n",
    "\n",
    "**Question** Would it be good if your model was able to reproduce exactly each real answer? Why? [1 pt]\n",
    "\n",
    "**Answer**\n",
    "\n",
    "**Code** Entertain yourself with your model. Write some code to chat with your bot, let it discuss with itself, ... be creative! [2 **bonus** pts]\n",
    "\n",
    "\n"
   ]
  },
  {
   "cell_type": "markdown",
   "metadata": {},
   "source": [
    "**Code** For that, you should go back to your original data and construct a new dataset containing pairs of sentences, where each pair is a sentence and its answer. Be careful to not include any pair of sentences that contains words not present in your filtered dictionary. [2 pts]"
   ]
  },
  {
   "cell_type": "code",
   "execution_count": 10,
   "metadata": {},
   "outputs": [],
   "source": [
    "# get the training data\n",
    "training_diag = getRawDataFromFile(datapath='personachat/', file=\"train_both_revised.txt\")"
   ]
  },
  {
   "cell_type": "code",
   "execution_count": 11,
   "metadata": {},
   "outputs": [],
   "source": [
    "def generateDiag(diags):\n",
    "    # transfer diags to pairs\n",
    "    diag_pair = [[conv[i], conv[i+1]] for conv in diags for i in range(len(conv)-1)]\n",
    "    \n",
    "    def cleanDiag(diags):\n",
    "        diag_w = list(set([w for diag in diags for w in diag.split(' ')]))\n",
    "        for w in diag_w:\n",
    "            if w not in tokens:\n",
    "                return False\n",
    "        return True\n",
    "    \n",
    "    diag_pair_filtered = list(filter(cleanDiag, diag_pair))\n",
    "    return diag_pair, diag_pair_filtered    "
   ]
  },
  {
   "cell_type": "code",
   "execution_count": 12,
   "metadata": {},
   "outputs": [
    {
     "name": "stdout",
     "output_type": "stream",
     "text": [
      "The number of diags before filter is 122486\n",
      "The number of diags after filter is 33315\n"
     ]
    }
   ],
   "source": [
    "diag_pair, diag_pair_filter = generateDiag(training_diag)\n",
    "print('The number of diags before filter is {}'.format(len(diag_pair)))\n",
    "print('The number of diags after filter is {}'.format(len(diag_pair_filter)))"
   ]
  },
  {
   "cell_type": "markdown",
   "metadata": {},
   "source": [
    "**Code** You should then tokenize, padd, truncate each sentence. Only the answers need the 'START' and 'END' artificial words. [1 pt]"
   ]
  },
  {
   "cell_type": "code",
   "execution_count": 13,
   "metadata": {},
   "outputs": [
    {
     "data": {
      "text/plain": [
       "[['hi', ',', 'how', 'are', 'you', 'doing', 'today', '?'],\n",
       " ['START',\n",
       "  'i',\n",
       "  'am',\n",
       "  'spending',\n",
       "  'time',\n",
       "  'with',\n",
       "  'my',\n",
       "  '4',\n",
       "  'sisters',\n",
       "  'what',\n",
       "  'are',\n",
       "  'you',\n",
       "  'up',\n",
       "  'to',\n",
       "  'END']]"
      ]
     },
     "execution_count": 13,
     "metadata": {},
     "output_type": "execute_result"
    }
   ],
   "source": [
    "# start, end, padding\n",
    "diag_pair_start_end = [[conv[0].split(' '), ['START'] + conv[1].split(' ') + ['END']] for conv in diag_pair_filter]\n",
    "diag_pair_start_end[0]"
   ]
  },
  {
   "cell_type": "code",
   "execution_count": 14,
   "metadata": {},
   "outputs": [
    {
     "data": {
      "text/plain": [
       "[[1201, 627, 1132, 319, 870, 108, 1107, 1063],\n",
       " [1644,\n",
       "  714,\n",
       "  994,\n",
       "  1156,\n",
       "  781,\n",
       "  1012,\n",
       "  502,\n",
       "  135,\n",
       "  1162,\n",
       "  1471,\n",
       "  319,\n",
       "  870,\n",
       "  382,\n",
       "  723,\n",
       "  1645]]"
      ]
     },
     "execution_count": 14,
     "metadata": {},
     "output_type": "execute_result"
    }
   ],
   "source": [
    "# transfer the sent token to integer\n",
    "diag_pairint_no_pad = [[[tokens.index(w) for w in sent] for sent in conv] for conv in diag_pair_start_end]\n",
    "diag_pairint_no_pad[0]"
   ]
  },
  {
   "cell_type": "code",
   "execution_count": 15,
   "metadata": {},
   "outputs": [
    {
     "data": {
      "text/plain": [
       "array([[1201,  627, 1132,  319,  870,  108, 1107, 1063,    0,    0,    0,\n",
       "           0,    0,    0,    0,    0,    0,    0,    0,    0,    0,    0,\n",
       "           0],\n",
       "       [1644,  714,  994, 1156,  781, 1012,  502,  135, 1162, 1471,  319,\n",
       "         870,  382,  723, 1645,    0,    0,    0,    0,    0,    0,    0,\n",
       "           0]])"
      ]
     },
     "execution_count": 15,
     "metadata": {},
     "output_type": "execute_result"
    }
   ],
   "source": [
    "# add padding\n",
    "maxlen=23\n",
    "diag_pair_padding = [paddingAndTruncate(conv) for conv in diag_pairint_no_pad]\n",
    "diag_pair_padding[0]"
   ]
  },
  {
   "cell_type": "code",
   "execution_count": 17,
   "metadata": {},
   "outputs": [],
   "source": [
    "# questions and answers\n",
    "from keras.utils import to_categorical\n",
    "Q = [conv[0][:-2] for conv in diag_pair_padding]\n",
    "AnsInput = np.array([conv[1][:-1] for conv in diag_pair_padding])\n",
    "AnsOutput = [conv[1][1:] for conv in diag_pair_padding]\n",
    "AVectorOutput = np.array([[to_categorical(w, num_classes=len(tokens)) for w in sent] for sent in AnsOutput])\n",
    "Ques = np.array(Q)"
   ]
  },
  {
   "cell_type": "code",
   "execution_count": 18,
   "metadata": {},
   "outputs": [
    {
     "name": "stdout",
     "output_type": "stream",
     "text": [
      "(33315, 21) (33315, 22) (33315, 22, 1646)\n"
     ]
    }
   ],
   "source": [
    "print(Ques.shape, AnsInput.shape, AVectorOutput.shape)"
   ]
  },
  {
   "cell_type": "code",
   "execution_count": 120,
   "metadata": {
    "collapsed": true
   },
   "outputs": [],
   "source": [
    "#Meta-parameters\n",
    "embedding_size = 128\n",
    "hidden_size = 64\n",
    "dropout = 0.\n",
    "recurrent_dropout = 0.\n",
    "\n",
    "batch_size = 64\n",
    "epochs = 32\n",
    "validation_split = 0.2\n",
    "\n",
    "dataset_cut = -1\n",
    "readout_size = 100"
   ]
  },
  {
   "cell_type": "code",
   "execution_count": 122,
   "metadata": {},
   "outputs": [
    {
     "name": "stdout",
     "output_type": "stream",
     "text": [
      "__________________________________________________________________________________________________\n",
      "Layer (type)                    Output Shape         Param #     Connected to                     \n",
      "==================================================================================================\n",
      "input_answer (InputLayer)       (None, 22)           0                                            \n",
      "__________________________________________________________________________________________________\n",
      "input_context (InputLayer)      (None, 21)           0                                            \n",
      "__________________________________________________________________________________________________\n",
      "embedding (Embedding)           multiple             210688      input_context[0][0]              \n",
      "                                                                 input_answer[0][0]               \n",
      "__________________________________________________________________________________________________\n",
      "encoder (LSTM)                  [(None, 64), (None,  49408       embedding[1][0]                  \n",
      "__________________________________________________________________________________________________\n",
      "decoder (LSTM)                  (None, 22, 64)       49408       embedding[2][0]                  \n",
      "                                                                 encoder[0][1]                    \n",
      "                                                                 encoder[0][2]                    \n",
      "__________________________________________________________________________________________________\n",
      "readout (TimeDistributed)       (None, 22, 128)      8320        decoder[0][0]                    \n",
      "__________________________________________________________________________________________________\n",
      "output (TimeDistributed)        (None, 22, 1646)     212334      readout[0][0]                    \n",
      "==================================================================================================\n",
      "Total params: 530,158\n",
      "Trainable params: 530,158\n",
      "Non-trainable params: 0\n",
      "__________________________________________________________________________________________________\n"
     ]
    }
   ],
   "source": [
    "context = Input(shape=(maxlen-2,), name=\"input_context\")\n",
    "# shared_embedding = E['GRU']\n",
    "shared_embedding = GRUmodel.get_layer('embedding')\n",
    "context_embedding = shared_embedding(context)\n",
    "\n",
    "encoder_y, encoder_h, encoder_c = LSTM(hidden_size, \n",
    "            return_sequences=False,\n",
    "            return_state=True,\n",
    "            stateful=False,\n",
    "            dropout=dropout,\n",
    "            recurrent_dropout=recurrent_dropout,\n",
    "            go_backwards=True,\n",
    "            name=\"encoder\")(context_embedding)\n",
    "\n",
    "answer = Input(shape=(maxlen-1,), name=\"input_answer\")\n",
    "answer_embedding = shared_embedding(answer)\n",
    "\n",
    "decoder_input = answer_embedding\n",
    "decoder = LSTM(hidden_size, \n",
    "            return_sequences=True,\n",
    "            stateful=False,\n",
    "            dropout=dropout,\n",
    "            recurrent_dropout=recurrent_dropout,\n",
    "            name=\"decoder\")(answer_embedding, initial_state=[encoder_h, encoder_c])\n",
    "# decoder2 = LSTM(hidden_size, \n",
    "#             return_sequences=True,\n",
    "#             stateful=False,\n",
    "#             dropout=dropout,\n",
    "#             recurrent_dropout=recurrent_dropout,\n",
    "#             name=\"decoder2\")(decoder)\n",
    "\n",
    "R = TimeDistributed(Dense(embedding_size, activation='relu'), name='readout')(decoder)\n",
    "Y = TimeDistributed(Dense(len(tokens), activation='softmax'), name='output')(R)\n",
    "\n",
    "Chatbot = Model(inputs = [context, answer], outputs = [Y])\n",
    "Chatbot.compile(\n",
    "    loss='categorical_crossentropy', \n",
    "    optimizer=Adam(),\n",
    "    metrics=['acc'])\n",
    "Chatbot.summary()\n"
   ]
  },
  {
   "cell_type": "markdown",
   "metadata": {},
   "source": [
    "**Code** Train your chatbot model on your dataset. [1 pt]"
   ]
  },
  {
   "cell_type": "code",
   "execution_count": 123,
   "metadata": {
    "scrolled": true
   },
   "outputs": [
    {
     "name": "stdout",
     "output_type": "stream",
     "text": [
      "Train on 26652 samples, validate on 6663 samples\n",
      "Epoch 1/32\n",
      "26652/26652 [==============================] - 91s 3ms/step - loss: 4.2578 - acc: 0.2613 - val_loss: 3.5457 - val_acc: 0.3436\n",
      "Epoch 2/32\n",
      "26652/26652 [==============================] - 86s 3ms/step - loss: 3.3713 - acc: 0.3590 - val_loss: 3.2675 - val_acc: 0.3693\n",
      "Epoch 3/32\n",
      "26652/26652 [==============================] - 85s 3ms/step - loss: 3.1677 - acc: 0.3785 - val_loss: 3.1525 - val_acc: 0.3816\n",
      "Epoch 4/32\n",
      "26652/26652 [==============================] - 86s 3ms/step - loss: 3.0566 - acc: 0.3885 - val_loss: 3.0804 - val_acc: 0.3904\n",
      "Epoch 5/32\n",
      "26652/26652 [==============================] - 88s 3ms/step - loss: 2.9770 - acc: 0.3963 - val_loss: 3.0320 - val_acc: 0.3931\n",
      "Epoch 6/32\n",
      "26652/26652 [==============================] - 86s 3ms/step - loss: 2.9160 - acc: 0.4021 - val_loss: 2.9961 - val_acc: 0.3984\n",
      "Epoch 7/32\n",
      "26652/26652 [==============================] - 84s 3ms/step - loss: 2.8622 - acc: 0.4079 - val_loss: 2.9716 - val_acc: 0.4015\n",
      "Epoch 8/32\n",
      "26652/26652 [==============================] - 85s 3ms/step - loss: 2.8170 - acc: 0.4120 - val_loss: 2.9474 - val_acc: 0.4035\n",
      "Epoch 9/32\n",
      "26652/26652 [==============================] - 85s 3ms/step - loss: 2.7766 - acc: 0.4170 - val_loss: 2.9321 - val_acc: 0.4075\n",
      "Epoch 10/32\n",
      "26652/26652 [==============================] - 84s 3ms/step - loss: 2.7396 - acc: 0.4210 - val_loss: 2.9236 - val_acc: 0.4076\n",
      "Epoch 11/32\n",
      "26652/26652 [==============================] - 85s 3ms/step - loss: 2.7058 - acc: 0.4243 - val_loss: 2.9098 - val_acc: 0.4088\n",
      "Epoch 12/32\n",
      "26652/26652 [==============================] - 85s 3ms/step - loss: 2.6742 - acc: 0.4272 - val_loss: 2.9039 - val_acc: 0.4108\n",
      "Epoch 13/32\n",
      "26652/26652 [==============================] - 84s 3ms/step - loss: 2.6456 - acc: 0.4308 - val_loss: 2.8987 - val_acc: 0.4121\n",
      "Epoch 14/32\n",
      "26652/26652 [==============================] - 85s 3ms/step - loss: 2.6176 - acc: 0.4338 - val_loss: 2.8965 - val_acc: 0.4111\n",
      "Epoch 15/32\n",
      "26652/26652 [==============================] - 85s 3ms/step - loss: 2.5910 - acc: 0.4361 - val_loss: 2.8977 - val_acc: 0.4117\n",
      "Epoch 16/32\n",
      "26652/26652 [==============================] - 87s 3ms/step - loss: 2.5660 - acc: 0.4389 - val_loss: 2.9022 - val_acc: 0.4102\n",
      "Epoch 17/32\n",
      "26652/26652 [==============================] - 85s 3ms/step - loss: 2.5425 - acc: 0.4414 - val_loss: 2.9052 - val_acc: 0.4114\n",
      "Epoch 18/32\n",
      "26652/26652 [==============================] - 85s 3ms/step - loss: 2.5198 - acc: 0.4447 - val_loss: 2.9111 - val_acc: 0.4123\n",
      "Epoch 19/32\n",
      "26652/26652 [==============================] - 86s 3ms/step - loss: 2.4977 - acc: 0.4476 - val_loss: 2.9146 - val_acc: 0.4123\n",
      "Epoch 20/32\n",
      "26652/26652 [==============================] - 86s 3ms/step - loss: 2.4760 - acc: 0.4499 - val_loss: 2.9177 - val_acc: 0.4125\n",
      "Epoch 21/32\n",
      "26652/26652 [==============================] - 86s 3ms/step - loss: 2.4559 - acc: 0.4524 - val_loss: 2.9282 - val_acc: 0.4104\n",
      "Epoch 22/32\n",
      "26652/26652 [==============================] - 86s 3ms/step - loss: 2.4351 - acc: 0.4550 - val_loss: 2.9331 - val_acc: 0.4110\n",
      "Epoch 23/32\n",
      "26652/26652 [==============================] - 87s 3ms/step - loss: 2.4150 - acc: 0.4577 - val_loss: 2.9443 - val_acc: 0.4105\n",
      "Epoch 24/32\n",
      "26652/26652 [==============================] - 86s 3ms/step - loss: 2.3965 - acc: 0.4598 - val_loss: 2.9576 - val_acc: 0.4087\n",
      "Epoch 25/32\n",
      "26652/26652 [==============================] - 87s 3ms/step - loss: 2.3768 - acc: 0.4623 - val_loss: 2.9656 - val_acc: 0.4092\n",
      "Epoch 26/32\n",
      "26652/26652 [==============================] - 87s 3ms/step - loss: 2.3596 - acc: 0.4642 - val_loss: 2.9748 - val_acc: 0.4082\n",
      "Epoch 27/32\n",
      "26652/26652 [==============================] - 87s 3ms/step - loss: 2.3411 - acc: 0.4665 - val_loss: 2.9821 - val_acc: 0.4078\n",
      "Epoch 28/32\n",
      "26652/26652 [==============================] - 87s 3ms/step - loss: 2.3235 - acc: 0.4699 - val_loss: 3.0021 - val_acc: 0.4065\n",
      "Epoch 29/32\n",
      "26652/26652 [==============================] - 87s 3ms/step - loss: 2.3072 - acc: 0.4718 - val_loss: 3.0147 - val_acc: 0.4076\n",
      "Epoch 30/32\n",
      "26652/26652 [==============================] - 88s 3ms/step - loss: 2.2897 - acc: 0.4742 - val_loss: 3.0250 - val_acc: 0.4035\n",
      "Epoch 31/32\n",
      "26652/26652 [==============================] - 88s 3ms/step - loss: 2.2726 - acc: 0.4770 - val_loss: 3.0332 - val_acc: 0.4044\n",
      "Epoch 32/32\n",
      "26652/26652 [==============================] - 88s 3ms/step - loss: 2.2567 - acc: 0.4794 - val_loss: 3.0531 - val_acc: 0.4043\n"
     ]
    }
   ],
   "source": [
    "ChatRotLog = Chatbot.fit([Ques, AnsInput],[AVectorOutput],\n",
    "                         epochs=epochs, \n",
    "                         validation_split=validation_split, \n",
    "                         batch_size=batch_size).history"
   ]
  },
  {
   "cell_type": "code",
   "execution_count": 124,
   "metadata": {},
   "outputs": [
    {
     "name": "stderr",
     "output_type": "stream",
     "text": [
      "/home/lijunze0627/anaconda3/lib/python3.6/site-packages/keras/engine/network.py:877: UserWarning: Layer decoder was passed non-serializable keyword arguments: {'initial_state': [<tf.Tensor 'encoder/while/Exit_3:0' shape=(?, 64) dtype=float32>, <tf.Tensor 'encoder/while/Exit_4:0' shape=(?, 64) dtype=float32>]}. They will not be included in the serialized model (and thus will be missing at deserialization time).\n",
      "  '. They will not be included '\n"
     ]
    }
   ],
   "source": [
    "#save\n",
    "with open(\"Chatbot\"+\"_log.pkl\", \"wb\") as file:\n",
    "    pickle.dump(ChatRotLog, file)\n",
    "Chatbot.save(\"Chatbot\")"
   ]
  },
  {
   "cell_type": "code",
   "execution_count": 2,
   "metadata": {},
   "outputs": [],
   "source": [
    "Chatbot = load_model('Chatbot')"
   ]
  },
  {
   "cell_type": "markdown",
   "metadata": {
    "collapsed": true
   },
   "source": [
    "### Question test"
   ]
  },
  {
   "cell_type": "markdown",
   "metadata": {},
   "source": [
    "**Code** Adapt your sentence generation code from before so that you can generate an answer given a context sentence from your model. [2 pts] \n",
    "\n",
    "**Code** After training, randomly select 10 context-answers pairs from your data and show both the real answer (the one from the data) and the generated one for two different sampling temperatures (e.g. 0.5 and 1.0). [2 pts]"
   ]
  },
  {
   "cell_type": "code",
   "execution_count": 4,
   "metadata": {},
   "outputs": [],
   "source": [
    "def predictAnswer(q, model, temp):\n",
    "    # low performce run encode repeatedly\n",
    "    ans = np.array([[tokens.index('START')] + [tokens.index('PADD') for _ in range(maxlen-2)]])\n",
    "    q_ind = np.array([[tokens.index(w) for w in q.split(' ')]])\n",
    "    # padding\n",
    "    q_input = paddingAndTruncate(q_ind)[:, :-2]\n",
    "#     print(q_input.shape)\n",
    "    ans_ret = []\n",
    "    \n",
    "    for i in range(maxlen-1):\n",
    "        preds = model.predict([q_input, ans])[0]\n",
    "        word_ind = sample(preds=preds[i], temperature=temp)\n",
    "        if tokens[word_ind] == 'END' or i == maxlen-2:\n",
    "            break\n",
    "        ans_ret.append(tokens[word_ind])\n",
    "        ans[0, i+1] = word_ind\n",
    "    return ' '.join(ans_ret)"
   ]
  },
  {
   "cell_type": "code",
   "execution_count": 16,
   "metadata": {},
   "outputs": [],
   "source": [
    "select_list = np.random.randint(0,len(diag_pair_filter),10)"
   ]
  },
  {
   "cell_type": "code",
   "execution_count": 17,
   "metadata": {},
   "outputs": [
    {
     "name": "stderr",
     "output_type": "stream",
     "text": [
      "/anaconda3/lib/python3.6/site-packages/ipykernel_launcher.py:6: RuntimeWarning: divide by zero encountered in log\n",
      "  \n"
     ]
    }
   ],
   "source": [
    "real_gene_ans_0_5 = []\n",
    "real_gene_ans_1 = []\n",
    "for i in select_list:\n",
    "    real_gene_ans_0_5.append([diag_pair_filter[i][0], diag_pair_filter[i][1], predictAnswer(diag_pair_filter[i][0], Chatbot, 0.5)])\n",
    "    real_gene_ans_1.append([diag_pair_filter[i][0], diag_pair_filter[i][1], predictAnswer(diag_pair_filter[i][0], Chatbot, 1)])"
   ]
  },
  {
   "cell_type": "code",
   "execution_count": 32,
   "metadata": {},
   "outputs": [
    {
     "name": "stdout",
     "output_type": "stream",
     "text": [
      "Temperature = 0.5\n",
      "====================== Comparison 1 ====================\n",
      "Question: agreed . old school music is the best .\n",
      "Real Answermy favorite is classical , how about you ?\n",
      "Predicted Answeri love to eat too , i love it\n",
      "====================== Comparison 2 ====================\n",
      "Question: yes it is , i love it .\n",
      "Real Answerwhat is it about ? i have not heard of it .\n",
      "Predicted Answeryeah that is a great thing to do\n",
      "====================== Comparison 3 ====================\n",
      "Question: what kind of animals ?\n",
      "Real Answerall animals ! i love animals . do you have any hobbies ?\n",
      "Predicted Answeri listen to classical music while i am a little bit of fishing .\n",
      "====================== Comparison 4 ====================\n",
      "Question: i was hoping you would say that . i want to exercise more\n",
      "Real Answeri need to do that also . i live in texas .\n",
      "Predicted Answeri will never just got to know what you say .\n",
      "====================== Comparison 5 ====================\n",
      "Question: yes it is for my sister\n",
      "Real Answerwhat do you do for work ?\n",
      "Predicted Answerwhat do you do for a living ?\n",
      "====================== Comparison 6 ====================\n",
      "Question: yes , love to it , and make comics as well\n",
      "Real Answerthat is wonderful . do you have any pets ?\n",
      "Predicted Answerwhat do you do for a living ?\n",
      "====================== Comparison 7 ====================\n",
      "Question: haha , you have any other pets ?\n",
      "Real Answerwhy do you say that ? why do you not like it ?\n",
      "Predicted Answerno , i do not have any pets . i do not have time for hobbies !\n",
      "====================== Comparison 8 ====================\n",
      "Question: what do you do for fun ? any hobbies ?\n",
      "Real Answeri like fishing and i guess i watch tv maybe too much . how about you ?\n",
      "Predicted Answeri like to read and bake and anime . you ?\n",
      "====================== Comparison 9 ====================\n",
      "Question: hey hey good morning to you\n",
      "Real Answergood morning . how are you ?\n",
      "Predicted Answeri am good , and you ?\n",
      "====================== Comparison 10 ====================\n",
      "Question: i hope so , but i do not know , how are you today ?\n",
      "Real Answeri am doing very well\n",
      "Predicted Answeri am good . i am at the navy .\n"
     ]
    }
   ],
   "source": [
    "print('Temperature = 0.5')\n",
    "cnt = 1\n",
    "for sents in real_gene_ans_0_5:\n",
    "    print('====================== Comparison %d ===================='%cnt)\n",
    "    cnt += 1\n",
    "    print('Question: ' + sents[0])\n",
    "    print('Real Answer' + sents[1])\n",
    "    print('Predicted Answer' + sents[2])"
   ]
  },
  {
   "cell_type": "code",
   "execution_count": 33,
   "metadata": {},
   "outputs": [
    {
     "name": "stdout",
     "output_type": "stream",
     "text": [
      "Temperature = 1\n",
      "====================== Comparison 1 ====================\n",
      "Question: agreed . old school music is the best .\n",
      "Real Answermy favorite is classical , how about you ?\n",
      "Predicted Answerhe too . do you get out much much vegetarian while like doing today\n",
      "====================== Comparison 2 ====================\n",
      "Question: yes it is , i love it .\n",
      "Real Answerwhat is it about ? i have not heard of it .\n",
      "Predicted Answerwhat kind of music do you like\n",
      "====================== Comparison 3 ====================\n",
      "Question: what kind of animals ?\n",
      "Real Answerall animals ! i love animals . do you have any hobbies ?\n",
      "Predicted Answerpink , do you like to cook\n",
      "====================== Comparison 4 ====================\n",
      "Question: i was hoping you would say that . i want to exercise more\n",
      "Real Answeri need to do that also . i live in texas .\n",
      "Predicted Answeryou should take healthy space p\n",
      "====================== Comparison 5 ====================\n",
      "Question: yes it is for my sister\n",
      "Real Answerwhat do you do for work ?\n",
      "Predicted Answerwhat about your future ?\n",
      "====================== Comparison 6 ====================\n",
      "Question: yes , love to it , and make comics as well\n",
      "Real Answerthat is wonderful . do you have any pets ?\n",
      "Predicted Answerthat is fun ! i am excited . the only one child cut it really early to watch them .\n",
      "====================== Comparison 7 ====================\n",
      "Question: haha , you have any other pets ?\n",
      "Real Answerwhy do you say that ? why do you not like it ?\n",
      "Predicted Answerno , are you a fan of them ?\n",
      "====================== Comparison 8 ====================\n",
      "Question: what do you do for fun ? any hobbies ?\n",
      "Real Answeri like fishing and i guess i watch tv maybe too much . how about you ?\n",
      "Predicted Answeri like to listen to rap music and have some fries at all\n",
      "====================== Comparison 9 ====================\n",
      "Question: hey hey good morning to you\n",
      "Real Answergood morning . how are you ?\n",
      "Predicted Answerthe lake ; i love fishing and also visiting .\n",
      "====================== Comparison 10 ====================\n",
      "Question: i hope so , but i do not know , how are you today ?\n",
      "Real Answeri am doing very well\n",
      "Predicted Answeri am good . i am out of a opera .\n"
     ]
    }
   ],
   "source": [
    "print('Temperature = 1')\n",
    "cnt = 1\n",
    "for sents in real_gene_ans_1:\n",
    "    print('====================== Comparison %d ===================='%cnt)\n",
    "    cnt += 1\n",
    "    print('Question: ' + sents[0])\n",
    "    print('Real Answer' + sents[1])\n",
    "    print('Predicted Answer' + sents[2])"
   ]
  },
  {
   "cell_type": "markdown",
   "metadata": {},
   "source": [
    "**Question** Which sampling temperature gives better answers? why? [2 pts]\n",
    "\n",
    "**Answer** Sampling temperature equals to 0.5 gives better answer, because the generated answers are more similar to the real answers.\n",
    "\n",
    "**Question** Would it be good if your model was able to reproduce exactly each real answer? Why? [1 pt]\n",
    "\n",
    "**Answer** No, the reproduced answers maybe overfit to the real answers.\n",
    "\n",
    "**Code** Entertain yourself with your model. Write some code to chat with your bot, let it discuss with itself, ... be creative! [2 **bonus** pts]"
   ]
  },
  {
   "cell_type": "markdown",
   "metadata": {},
   "source": [
    "#### Play with trained Chatbot"
   ]
  },
  {
   "cell_type": "code",
   "execution_count": 13,
   "metadata": {},
   "outputs": [
    {
     "name": "stdout",
     "output_type": "stream",
     "text": [
      "Bot1:  how are you\n",
      "Bot2:  already too bad how about you ?\n",
      "Bot1:  i am working on a couch\n",
      "Bot2:  so what is that you do in your wedding ?\n",
      "Bot1:  now but i am super fat and i love doing it\n",
      "Bot2:  happy job is important . my parents are red boots .\n",
      "Bot1:  ah , that is fun . i wish i could play in my spare time\n",
      "Bot2:  i think i would to be a musical life .\n",
      "Bot1:  maybe we will ! . the wife was never way lost healthy\n",
      "Bot2:  that must keep up if i will check there some pizza !\n",
      "Bot1:  no , can not one and it , we go skiing too ! we got also cool to read .\n",
      "Bot2:  reading is my favorite music . hows that i cook ?\n",
      "Bot1:  i love to read . a car i might have to be a good partner . for sales too walk .\n",
      "Bot2:  that means no idea .\n",
      "Bot1:  the siblings are you male or female ?\n",
      "Bot2:  i am a female , how about yourself ?\n",
      "Bot1:  i am a female . love black , how about you\n",
      "Bot2:  i am a student . three dogs . where do you ?\n",
      "Bot1:  i like pizza , i often read everything stories to eat and shopping .\n",
      "Bot2:  you love jazz songs i like it\n",
      "Bot1:  i can make video games . i love the beach and chocolate cake .\n",
      "Bot2:  nice ! i can use there for hobbies i and really act !\n",
      "Bot1:  do your family often or do you cook ?\n",
      "Bot2:  driving and mostly my car is really scary\n",
      "Bot1:  i take my free time for them . i am married with two children .\n",
      "Bot2:  i play basketball for photos . how about you ?\n",
      "Bot1:  oh , okay . do you have any pets ?\n",
      "Bot2:  yes , and i know how they live with us though . i would love hunting .\n",
      "Bot1:  not too because i stay in a series .\n",
      "Bot2:  are you a fan of music ?\n",
      "Bot1:  yeah i like kids too we see it !\n",
      "Bot2:  never really heard of it all day\n",
      "Bot1:  that can tell her take my favorite singer\n",
      "Bot2:  what country about to draw ? my daughter is black and my boss .\n",
      "Bot1:  i drive the food ford truck without everything around .\n",
      "Bot2:  that sounds as fun . i also teach elementary , but i can sing .\n",
      "Bot1:  perfect , for sure can that i fell in it\n",
      "Bot2:  i am sure , will make me its it through the first relationship\n",
      "Bot1:  sometimes i definitely , never wish it is me better though .\n",
      "Bot2:  yea the beatles mostly and cheese is to fun for the shower .\n",
      "Bot1:  you like any rap music ?\n"
     ]
    }
   ],
   "source": [
    "import warnings\n",
    "warnings.filterwarnings(\"ignore\")\n",
    "num_conv = 20\n",
    "sent1 = 'how are you'\n",
    "print('Bot1: ', sent1)\n",
    "for i in range(num_conv):\n",
    "    sent2 = predictAnswer(sent1, Chatbot, 1)\n",
    "    sent1 = predictAnswer(sent1, Chatbot, 1)\n",
    "    print('Bot2: ', sent2)\n",
    "    print('Bot1: ', sent1)"
   ]
  },
  {
   "cell_type": "markdown",
   "metadata": {},
   "source": [
    "---"
   ]
  }
 ],
 "metadata": {
  "kernelspec": {
   "display_name": "Python 3",
   "language": "python",
   "name": "python3"
  },
  "language_info": {
   "codemirror_mode": {
    "name": "ipython",
    "version": 3
   },
   "file_extension": ".py",
   "mimetype": "text/x-python",
   "name": "python",
   "nbconvert_exporter": "python",
   "pygments_lexer": "ipython3",
   "version": "3.6.7"
  }
 },
 "nbformat": 4,
 "nbformat_minor": 2
}
